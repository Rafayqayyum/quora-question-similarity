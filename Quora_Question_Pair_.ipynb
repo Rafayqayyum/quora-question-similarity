{
  "nbformat": 4,
  "nbformat_minor": 0,
  "metadata": {
    "colab": {
      "provenance": [],
      "toc_visible": true
    },
    "kernelspec": {
      "name": "python3",
      "display_name": "Python 3"
    },
    "language_info": {
      "name": "python"
    }
  },
  "cells": [
    {
      "cell_type": "markdown",
      "source": [
        "# Qura Question Pairs"
      ],
      "metadata": {
        "id": "Eo_mOkOJnBLs"
      }
    },
    {
      "cell_type": "markdown",
      "source": [
        "## Downloading and loading the dataset"
      ],
      "metadata": {
        "id": "bo4jlZ4k9qcv"
      }
    },
    {
      "cell_type": "markdown",
      "source": [
        "## Importing some Modules"
      ],
      "metadata": {
        "id": "cRdxVSdv9_XH"
      }
    },
    {
      "cell_type": "code",
      "source": [
        "import pandas as pd\n",
        "import numpy as np\n",
        "import matplotlib.pyplot as plt\n",
        "import tensorflow as tf\n",
        "from tensorflow.keras.layers import TextVectorization,Embedding\n",
        "from bs4 import BeautifulSoup\n",
        "import re\n",
        "from nltk.corpus import stopwords\n",
        "from gensim.models import Word2Vec\n",
        "from sklearn.metrics.pairwise import cosine_similarity\n",
        "import nltk"
      ],
      "metadata": {
        "id": "rx6UmNvc-B5c"
      },
      "execution_count": null,
      "outputs": []
    },
    {
      "cell_type": "code",
      "source": [
        "nltk.download('stopwords')"
      ],
      "metadata": {
        "id": "di_p-LvQ-IIS",
        "colab": {
          "base_uri": "https://localhost:8080/"
        },
        "outputId": "f2e6f6fe-4a98-4ccf-fbe0-1123cb127e97"
      },
      "execution_count": null,
      "outputs": [
        {
          "output_type": "stream",
          "name": "stderr",
          "text": [
            "[nltk_data] Downloading package stopwords to /root/nltk_data...\n",
            "[nltk_data]   Package stopwords is already up-to-date!\n"
          ]
        },
        {
          "output_type": "execute_result",
          "data": {
            "text/plain": [
              "True"
            ]
          },
          "metadata": {},
          "execution_count": 2
        }
      ]
    },
    {
      "cell_type": "markdown",
      "source": [
        "### Downloading the dataset"
      ],
      "metadata": {
        "id": "Rqs9nSWC9xoE"
      }
    },
    {
      "cell_type": "code",
      "source": [
        "!wget http://qim.fs.quoracdn.net/quora_duplicate_questions.tsv"
      ],
      "metadata": {
        "colab": {
          "base_uri": "https://localhost:8080/"
        },
        "id": "XI95EWfk7lx7",
        "outputId": "2ab73546-45cc-434d-ce9e-a4b813a8a6ea"
      },
      "execution_count": null,
      "outputs": [
        {
          "output_type": "stream",
          "name": "stdout",
          "text": [
            "--2023-03-25 20:13:08--  http://qim.fs.quoracdn.net/quora_duplicate_questions.tsv\n",
            "Resolving qim.fs.quoracdn.net (qim.fs.quoracdn.net)... 151.101.1.2, 151.101.65.2, 151.101.129.2, ...\n",
            "Connecting to qim.fs.quoracdn.net (qim.fs.quoracdn.net)|151.101.1.2|:80... connected.\n",
            "HTTP request sent, awaiting response... 200 OK\n",
            "Length: 58176133 (55M) [text/tab-separated-values]\n",
            "Saving to: ‘quora_duplicate_questions.tsv’\n",
            "\n",
            "quora_duplicate_que 100%[===================>]  55.48M   306MB/s    in 0.2s    \n",
            "\n",
            "2023-03-25 20:13:13 (306 MB/s) - ‘quora_duplicate_questions.tsv’ saved [58176133/58176133]\n",
            "\n"
          ]
        }
      ]
    },
    {
      "cell_type": "code",
      "source": [
        "!wget https://huggingface.co/stanfordnlp/glove/resolve/main/glove.42B.300d.zip"
      ],
      "metadata": {
        "colab": {
          "base_uri": "https://localhost:8080/"
        },
        "id": "wYuOZGVfxbHs",
        "outputId": "61ac550c-1ec7-4b06-b402-5430ff524938"
      },
      "execution_count": null,
      "outputs": [
        {
          "output_type": "stream",
          "name": "stdout",
          "text": [
            "--2023-03-25 20:13:13--  https://huggingface.co/stanfordnlp/glove/resolve/main/glove.42B.300d.zip\n",
            "Resolving huggingface.co (huggingface.co)... 3.216.111.67, 23.20.207.15, 34.203.133.210, ...\n",
            "Connecting to huggingface.co (huggingface.co)|3.216.111.67|:443... connected.\n",
            "HTTP request sent, awaiting response... 302 Found\n",
            "Location: https://cdn-lfs.huggingface.co/stanfordnlp/glove/357baac33090f645e71e253b3295ee1b767c98a0336e9a1d99c77e9e33b43c4a?response-content-disposition=attachment%3B+filename*%3DUTF-8%27%27glove.42B.300d.zip%3B+filename%3D%22glove.42B.300d.zip%22%3B&response-content-type=application%2Fzip&Expires=1680031686&Policy=eyJTdGF0ZW1lbnQiOlt7IlJlc291cmNlIjoiaHR0cHM6Ly9jZG4tbGZzLmh1Z2dpbmdmYWNlLmNvL3N0YW5mb3JkbmxwL2dsb3ZlLzM1N2JhYWMzMzA5MGY2NDVlNzFlMjUzYjMyOTVlZTFiNzY3Yzk4YTAzMzZlOWExZDk5Yzc3ZTllMzNiNDNjNGE%7EcmVzcG9uc2UtY29udGVudC1kaXNwb3NpdGlvbj0qJnJlc3BvbnNlLWNvbnRlbnQtdHlwZT0qIiwiQ29uZGl0aW9uIjp7IkRhdGVMZXNzVGhhbiI6eyJBV1M6RXBvY2hUaW1lIjoxNjgwMDMxNjg2fX19XX0_&Signature=aHffyI296mdoETq0NyG9n0LparU6i5QQGI6YKvUWseDd%7E0PkRyi2EPmzh93JS1VWnqv%7EQAiyzxJLFeOUfwl7pwKAEtO-KJZ-DXXcchH5NVEAImKbokM%7ExA0UUcqpiMDxoKJVAspS5roXUVD3jAoO4yKSZDtHIqlfc4BX%7ES5ZVr2zPUOhOaEINCQp%7Ex4xXc66eUpisOQ7hiTl3E7xZd7u9ns-%7EmYOZd8EKVyipAJsuEOGaCQbhUb7FTFnop649RoP93ON1ynUacRk6Qj5yNm5eX06KZ3ArZbJl5X9rKS7AzlUzmNKLR8E9UTNwr8%7Eeeum7LGYBRKogvTQgbmomkr3Vw__&Key-Pair-Id=KVTP0A1DKRTAX [following]\n",
            "--2023-03-25 20:13:14--  https://cdn-lfs.huggingface.co/stanfordnlp/glove/357baac33090f645e71e253b3295ee1b767c98a0336e9a1d99c77e9e33b43c4a?response-content-disposition=attachment%3B+filename*%3DUTF-8%27%27glove.42B.300d.zip%3B+filename%3D%22glove.42B.300d.zip%22%3B&response-content-type=application%2Fzip&Expires=1680031686&Policy=eyJTdGF0ZW1lbnQiOlt7IlJlc291cmNlIjoiaHR0cHM6Ly9jZG4tbGZzLmh1Z2dpbmdmYWNlLmNvL3N0YW5mb3JkbmxwL2dsb3ZlLzM1N2JhYWMzMzA5MGY2NDVlNzFlMjUzYjMyOTVlZTFiNzY3Yzk4YTAzMzZlOWExZDk5Yzc3ZTllMzNiNDNjNGE%7EcmVzcG9uc2UtY29udGVudC1kaXNwb3NpdGlvbj0qJnJlc3BvbnNlLWNvbnRlbnQtdHlwZT0qIiwiQ29uZGl0aW9uIjp7IkRhdGVMZXNzVGhhbiI6eyJBV1M6RXBvY2hUaW1lIjoxNjgwMDMxNjg2fX19XX0_&Signature=aHffyI296mdoETq0NyG9n0LparU6i5QQGI6YKvUWseDd%7E0PkRyi2EPmzh93JS1VWnqv%7EQAiyzxJLFeOUfwl7pwKAEtO-KJZ-DXXcchH5NVEAImKbokM%7ExA0UUcqpiMDxoKJVAspS5roXUVD3jAoO4yKSZDtHIqlfc4BX%7ES5ZVr2zPUOhOaEINCQp%7Ex4xXc66eUpisOQ7hiTl3E7xZd7u9ns-%7EmYOZd8EKVyipAJsuEOGaCQbhUb7FTFnop649RoP93ON1ynUacRk6Qj5yNm5eX06KZ3ArZbJl5X9rKS7AzlUzmNKLR8E9UTNwr8%7Eeeum7LGYBRKogvTQgbmomkr3Vw__&Key-Pair-Id=KVTP0A1DKRTAX\n",
            "Resolving cdn-lfs.huggingface.co (cdn-lfs.huggingface.co)... 54.192.150.21, 54.192.150.69, 54.192.150.19, ...\n",
            "Connecting to cdn-lfs.huggingface.co (cdn-lfs.huggingface.co)|54.192.150.21|:443... connected.\n",
            "HTTP request sent, awaiting response... 200 OK\n",
            "Length: 1877802108 (1.7G) [application/zip]\n",
            "Saving to: ‘glove.42B.300d.zip’\n",
            "\n",
            "glove.42B.300d.zip  100%[===================>]   1.75G  18.3MB/s    in 1m 43s  \n",
            "\n",
            "2023-03-25 20:14:57 (17.5 MB/s) - ‘glove.42B.300d.zip’ saved [1877802108/1877802108]\n",
            "\n"
          ]
        }
      ]
    },
    {
      "cell_type": "markdown",
      "source": [
        "### Loading the dataset"
      ],
      "metadata": {
        "id": "hriL_HuD9vaa"
      }
    },
    {
      "cell_type": "code",
      "source": [
        "data=pd.read_csv('/content/quora_duplicate_questions.tsv',delimiter='\\t')"
      ],
      "metadata": {
        "id": "xcWo_kKY8S2D"
      },
      "execution_count": null,
      "outputs": []
    },
    {
      "cell_type": "markdown",
      "source": [
        "## Importing some helper functions"
      ],
      "metadata": {
        "id": "o8eTvLzt9NWB"
      }
    },
    {
      "cell_type": "code",
      "source": [
        "!wget https://raw.githubusercontent.com/mrdbourke/tensorflow-deep-learning/main/extras/helper_functions.py"
      ],
      "metadata": {
        "colab": {
          "base_uri": "https://localhost:8080/"
        },
        "id": "A3D6s6Z098Ja",
        "outputId": "a6161902-c078-4d51-cae5-a0f92247e5e8"
      },
      "execution_count": null,
      "outputs": [
        {
          "output_type": "stream",
          "name": "stdout",
          "text": [
            "--2023-03-25 20:15:14--  https://raw.githubusercontent.com/mrdbourke/tensorflow-deep-learning/main/extras/helper_functions.py\n",
            "Resolving raw.githubusercontent.com (raw.githubusercontent.com)... 185.199.108.133, 185.199.109.133, 185.199.110.133, ...\n",
            "Connecting to raw.githubusercontent.com (raw.githubusercontent.com)|185.199.108.133|:443... connected.\n",
            "HTTP request sent, awaiting response... 200 OK\n",
            "Length: 10246 (10K) [text/plain]\n",
            "Saving to: ‘helper_functions.py’\n",
            "\n",
            "\rhelper_functions.py   0%[                    ]       0  --.-KB/s               \rhelper_functions.py 100%[===================>]  10.01K  --.-KB/s    in 0s      \n",
            "\n",
            "2023-03-25 20:15:14 (89.2 MB/s) - ‘helper_functions.py’ saved [10246/10246]\n",
            "\n"
          ]
        }
      ]
    },
    {
      "cell_type": "code",
      "source": [
        "from helper_functions import unzip_data,walk_through_dir"
      ],
      "metadata": {
        "id": "7rK5rUfB968W"
      },
      "execution_count": null,
      "outputs": []
    },
    {
      "cell_type": "code",
      "source": [
        "unzip_data('/content/glove.42B.300d.zip')"
      ],
      "metadata": {
        "id": "bWjsv7qYxjS_"
      },
      "execution_count": null,
      "outputs": []
    },
    {
      "cell_type": "markdown",
      "source": [
        "## Exploring the dataset"
      ],
      "metadata": {
        "id": "v9I4C2bX97XH"
      }
    },
    {
      "cell_type": "code",
      "source": [
        "data.head()"
      ],
      "metadata": {
        "colab": {
          "base_uri": "https://localhost:8080/",
          "height": 206
        },
        "id": "Kq_VLejQ-MV6",
        "outputId": "b4f803d2-4cab-431e-8cfb-b96d57dbdcf7"
      },
      "execution_count": null,
      "outputs": [
        {
          "output_type": "execute_result",
          "data": {
            "text/plain": [
              "   id  qid1  qid2                                          question1  \\\n",
              "0   0     1     2  What is the step by step guide to invest in sh...   \n",
              "1   1     3     4  What is the story of Kohinoor (Koh-i-Noor) Dia...   \n",
              "2   2     5     6  How can I increase the speed of my internet co...   \n",
              "3   3     7     8  Why am I mentally very lonely? How can I solve...   \n",
              "4   4     9    10  Which one dissolve in water quikly sugar, salt...   \n",
              "\n",
              "                                           question2  is_duplicate  \n",
              "0  What is the step by step guide to invest in sh...             0  \n",
              "1  What would happen if the Indian government sto...             0  \n",
              "2  How can Internet speed be increased by hacking...             0  \n",
              "3  Find the remainder when [math]23^{24}[/math] i...             0  \n",
              "4            Which fish would survive in salt water?             0  "
            ],
            "text/html": [
              "\n",
              "  <div id=\"df-619cdf00-3bfb-445a-8313-59e8d8a262c4\">\n",
              "    <div class=\"colab-df-container\">\n",
              "      <div>\n",
              "<style scoped>\n",
              "    .dataframe tbody tr th:only-of-type {\n",
              "        vertical-align: middle;\n",
              "    }\n",
              "\n",
              "    .dataframe tbody tr th {\n",
              "        vertical-align: top;\n",
              "    }\n",
              "\n",
              "    .dataframe thead th {\n",
              "        text-align: right;\n",
              "    }\n",
              "</style>\n",
              "<table border=\"1\" class=\"dataframe\">\n",
              "  <thead>\n",
              "    <tr style=\"text-align: right;\">\n",
              "      <th></th>\n",
              "      <th>id</th>\n",
              "      <th>qid1</th>\n",
              "      <th>qid2</th>\n",
              "      <th>question1</th>\n",
              "      <th>question2</th>\n",
              "      <th>is_duplicate</th>\n",
              "    </tr>\n",
              "  </thead>\n",
              "  <tbody>\n",
              "    <tr>\n",
              "      <th>0</th>\n",
              "      <td>0</td>\n",
              "      <td>1</td>\n",
              "      <td>2</td>\n",
              "      <td>What is the step by step guide to invest in sh...</td>\n",
              "      <td>What is the step by step guide to invest in sh...</td>\n",
              "      <td>0</td>\n",
              "    </tr>\n",
              "    <tr>\n",
              "      <th>1</th>\n",
              "      <td>1</td>\n",
              "      <td>3</td>\n",
              "      <td>4</td>\n",
              "      <td>What is the story of Kohinoor (Koh-i-Noor) Dia...</td>\n",
              "      <td>What would happen if the Indian government sto...</td>\n",
              "      <td>0</td>\n",
              "    </tr>\n",
              "    <tr>\n",
              "      <th>2</th>\n",
              "      <td>2</td>\n",
              "      <td>5</td>\n",
              "      <td>6</td>\n",
              "      <td>How can I increase the speed of my internet co...</td>\n",
              "      <td>How can Internet speed be increased by hacking...</td>\n",
              "      <td>0</td>\n",
              "    </tr>\n",
              "    <tr>\n",
              "      <th>3</th>\n",
              "      <td>3</td>\n",
              "      <td>7</td>\n",
              "      <td>8</td>\n",
              "      <td>Why am I mentally very lonely? How can I solve...</td>\n",
              "      <td>Find the remainder when [math]23^{24}[/math] i...</td>\n",
              "      <td>0</td>\n",
              "    </tr>\n",
              "    <tr>\n",
              "      <th>4</th>\n",
              "      <td>4</td>\n",
              "      <td>9</td>\n",
              "      <td>10</td>\n",
              "      <td>Which one dissolve in water quikly sugar, salt...</td>\n",
              "      <td>Which fish would survive in salt water?</td>\n",
              "      <td>0</td>\n",
              "    </tr>\n",
              "  </tbody>\n",
              "</table>\n",
              "</div>\n",
              "      <button class=\"colab-df-convert\" onclick=\"convertToInteractive('df-619cdf00-3bfb-445a-8313-59e8d8a262c4')\"\n",
              "              title=\"Convert this dataframe to an interactive table.\"\n",
              "              style=\"display:none;\">\n",
              "        \n",
              "  <svg xmlns=\"http://www.w3.org/2000/svg\" height=\"24px\"viewBox=\"0 0 24 24\"\n",
              "       width=\"24px\">\n",
              "    <path d=\"M0 0h24v24H0V0z\" fill=\"none\"/>\n",
              "    <path d=\"M18.56 5.44l.94 2.06.94-2.06 2.06-.94-2.06-.94-.94-2.06-.94 2.06-2.06.94zm-11 1L8.5 8.5l.94-2.06 2.06-.94-2.06-.94L8.5 2.5l-.94 2.06-2.06.94zm10 10l.94 2.06.94-2.06 2.06-.94-2.06-.94-.94-2.06-.94 2.06-2.06.94z\"/><path d=\"M17.41 7.96l-1.37-1.37c-.4-.4-.92-.59-1.43-.59-.52 0-1.04.2-1.43.59L10.3 9.45l-7.72 7.72c-.78.78-.78 2.05 0 2.83L4 21.41c.39.39.9.59 1.41.59.51 0 1.02-.2 1.41-.59l7.78-7.78 2.81-2.81c.8-.78.8-2.07 0-2.86zM5.41 20L4 18.59l7.72-7.72 1.47 1.35L5.41 20z\"/>\n",
              "  </svg>\n",
              "      </button>\n",
              "      \n",
              "  <style>\n",
              "    .colab-df-container {\n",
              "      display:flex;\n",
              "      flex-wrap:wrap;\n",
              "      gap: 12px;\n",
              "    }\n",
              "\n",
              "    .colab-df-convert {\n",
              "      background-color: #E8F0FE;\n",
              "      border: none;\n",
              "      border-radius: 50%;\n",
              "      cursor: pointer;\n",
              "      display: none;\n",
              "      fill: #1967D2;\n",
              "      height: 32px;\n",
              "      padding: 0 0 0 0;\n",
              "      width: 32px;\n",
              "    }\n",
              "\n",
              "    .colab-df-convert:hover {\n",
              "      background-color: #E2EBFA;\n",
              "      box-shadow: 0px 1px 2px rgba(60, 64, 67, 0.3), 0px 1px 3px 1px rgba(60, 64, 67, 0.15);\n",
              "      fill: #174EA6;\n",
              "    }\n",
              "\n",
              "    [theme=dark] .colab-df-convert {\n",
              "      background-color: #3B4455;\n",
              "      fill: #D2E3FC;\n",
              "    }\n",
              "\n",
              "    [theme=dark] .colab-df-convert:hover {\n",
              "      background-color: #434B5C;\n",
              "      box-shadow: 0px 1px 3px 1px rgba(0, 0, 0, 0.15);\n",
              "      filter: drop-shadow(0px 1px 2px rgba(0, 0, 0, 0.3));\n",
              "      fill: #FFFFFF;\n",
              "    }\n",
              "  </style>\n",
              "\n",
              "      <script>\n",
              "        const buttonEl =\n",
              "          document.querySelector('#df-619cdf00-3bfb-445a-8313-59e8d8a262c4 button.colab-df-convert');\n",
              "        buttonEl.style.display =\n",
              "          google.colab.kernel.accessAllowed ? 'block' : 'none';\n",
              "\n",
              "        async function convertToInteractive(key) {\n",
              "          const element = document.querySelector('#df-619cdf00-3bfb-445a-8313-59e8d8a262c4');\n",
              "          const dataTable =\n",
              "            await google.colab.kernel.invokeFunction('convertToInteractive',\n",
              "                                                     [key], {});\n",
              "          if (!dataTable) return;\n",
              "\n",
              "          const docLinkHtml = 'Like what you see? Visit the ' +\n",
              "            '<a target=\"_blank\" href=https://colab.research.google.com/notebooks/data_table.ipynb>data table notebook</a>'\n",
              "            + ' to learn more about interactive tables.';\n",
              "          element.innerHTML = '';\n",
              "          dataTable['output_type'] = 'display_data';\n",
              "          await google.colab.output.renderOutput(dataTable, element);\n",
              "          const docLink = document.createElement('div');\n",
              "          docLink.innerHTML = docLinkHtml;\n",
              "          element.appendChild(docLink);\n",
              "        }\n",
              "      </script>\n",
              "    </div>\n",
              "  </div>\n",
              "  "
            ]
          },
          "metadata": {},
          "execution_count": 5
        }
      ]
    },
    {
      "cell_type": "code",
      "source": [
        "data.tail()"
      ],
      "metadata": {
        "colab": {
          "base_uri": "https://localhost:8080/",
          "height": 285
        },
        "id": "5zBYcPt-KXkh",
        "outputId": "fb74f874-b6ab-4976-c13c-f6c7da6168ab"
      },
      "execution_count": null,
      "outputs": [
        {
          "output_type": "execute_result",
          "data": {
            "text/plain": [
              "            id    qid1    qid2  \\\n",
              "404285  404285  433578  379845   \n",
              "404286  404286   18840  155606   \n",
              "404287  404287  537928  537929   \n",
              "404288  404288  537930  537931   \n",
              "404289  404289  537932  537933   \n",
              "\n",
              "                                                question1  \\\n",
              "404285  How many keywords are there in the Racket prog...   \n",
              "404286          Do you believe there is life after death?   \n",
              "404287                                  What is one coin?   \n",
              "404288  What is the approx annual cost of living while...   \n",
              "404289              What is like to have sex with cousin?   \n",
              "\n",
              "                                                question2  is_duplicate  \n",
              "404285  How many keywords are there in PERL Programmin...             0  \n",
              "404286         Is it true that there is life after death?             1  \n",
              "404287                                  What's this coin?             0  \n",
              "404288  I am having little hairfall problem but I want...             0  \n",
              "404289      What is it like to have sex with your cousin?             0  "
            ],
            "text/html": [
              "\n",
              "  <div id=\"df-ecfa2386-c644-4948-a00a-62e57cc66ddf\">\n",
              "    <div class=\"colab-df-container\">\n",
              "      <div>\n",
              "<style scoped>\n",
              "    .dataframe tbody tr th:only-of-type {\n",
              "        vertical-align: middle;\n",
              "    }\n",
              "\n",
              "    .dataframe tbody tr th {\n",
              "        vertical-align: top;\n",
              "    }\n",
              "\n",
              "    .dataframe thead th {\n",
              "        text-align: right;\n",
              "    }\n",
              "</style>\n",
              "<table border=\"1\" class=\"dataframe\">\n",
              "  <thead>\n",
              "    <tr style=\"text-align: right;\">\n",
              "      <th></th>\n",
              "      <th>id</th>\n",
              "      <th>qid1</th>\n",
              "      <th>qid2</th>\n",
              "      <th>question1</th>\n",
              "      <th>question2</th>\n",
              "      <th>is_duplicate</th>\n",
              "    </tr>\n",
              "  </thead>\n",
              "  <tbody>\n",
              "    <tr>\n",
              "      <th>404285</th>\n",
              "      <td>404285</td>\n",
              "      <td>433578</td>\n",
              "      <td>379845</td>\n",
              "      <td>How many keywords are there in the Racket prog...</td>\n",
              "      <td>How many keywords are there in PERL Programmin...</td>\n",
              "      <td>0</td>\n",
              "    </tr>\n",
              "    <tr>\n",
              "      <th>404286</th>\n",
              "      <td>404286</td>\n",
              "      <td>18840</td>\n",
              "      <td>155606</td>\n",
              "      <td>Do you believe there is life after death?</td>\n",
              "      <td>Is it true that there is life after death?</td>\n",
              "      <td>1</td>\n",
              "    </tr>\n",
              "    <tr>\n",
              "      <th>404287</th>\n",
              "      <td>404287</td>\n",
              "      <td>537928</td>\n",
              "      <td>537929</td>\n",
              "      <td>What is one coin?</td>\n",
              "      <td>What's this coin?</td>\n",
              "      <td>0</td>\n",
              "    </tr>\n",
              "    <tr>\n",
              "      <th>404288</th>\n",
              "      <td>404288</td>\n",
              "      <td>537930</td>\n",
              "      <td>537931</td>\n",
              "      <td>What is the approx annual cost of living while...</td>\n",
              "      <td>I am having little hairfall problem but I want...</td>\n",
              "      <td>0</td>\n",
              "    </tr>\n",
              "    <tr>\n",
              "      <th>404289</th>\n",
              "      <td>404289</td>\n",
              "      <td>537932</td>\n",
              "      <td>537933</td>\n",
              "      <td>What is like to have sex with cousin?</td>\n",
              "      <td>What is it like to have sex with your cousin?</td>\n",
              "      <td>0</td>\n",
              "    </tr>\n",
              "  </tbody>\n",
              "</table>\n",
              "</div>\n",
              "      <button class=\"colab-df-convert\" onclick=\"convertToInteractive('df-ecfa2386-c644-4948-a00a-62e57cc66ddf')\"\n",
              "              title=\"Convert this dataframe to an interactive table.\"\n",
              "              style=\"display:none;\">\n",
              "        \n",
              "  <svg xmlns=\"http://www.w3.org/2000/svg\" height=\"24px\"viewBox=\"0 0 24 24\"\n",
              "       width=\"24px\">\n",
              "    <path d=\"M0 0h24v24H0V0z\" fill=\"none\"/>\n",
              "    <path d=\"M18.56 5.44l.94 2.06.94-2.06 2.06-.94-2.06-.94-.94-2.06-.94 2.06-2.06.94zm-11 1L8.5 8.5l.94-2.06 2.06-.94-2.06-.94L8.5 2.5l-.94 2.06-2.06.94zm10 10l.94 2.06.94-2.06 2.06-.94-2.06-.94-.94-2.06-.94 2.06-2.06.94z\"/><path d=\"M17.41 7.96l-1.37-1.37c-.4-.4-.92-.59-1.43-.59-.52 0-1.04.2-1.43.59L10.3 9.45l-7.72 7.72c-.78.78-.78 2.05 0 2.83L4 21.41c.39.39.9.59 1.41.59.51 0 1.02-.2 1.41-.59l7.78-7.78 2.81-2.81c.8-.78.8-2.07 0-2.86zM5.41 20L4 18.59l7.72-7.72 1.47 1.35L5.41 20z\"/>\n",
              "  </svg>\n",
              "      </button>\n",
              "      \n",
              "  <style>\n",
              "    .colab-df-container {\n",
              "      display:flex;\n",
              "      flex-wrap:wrap;\n",
              "      gap: 12px;\n",
              "    }\n",
              "\n",
              "    .colab-df-convert {\n",
              "      background-color: #E8F0FE;\n",
              "      border: none;\n",
              "      border-radius: 50%;\n",
              "      cursor: pointer;\n",
              "      display: none;\n",
              "      fill: #1967D2;\n",
              "      height: 32px;\n",
              "      padding: 0 0 0 0;\n",
              "      width: 32px;\n",
              "    }\n",
              "\n",
              "    .colab-df-convert:hover {\n",
              "      background-color: #E2EBFA;\n",
              "      box-shadow: 0px 1px 2px rgba(60, 64, 67, 0.3), 0px 1px 3px 1px rgba(60, 64, 67, 0.15);\n",
              "      fill: #174EA6;\n",
              "    }\n",
              "\n",
              "    [theme=dark] .colab-df-convert {\n",
              "      background-color: #3B4455;\n",
              "      fill: #D2E3FC;\n",
              "    }\n",
              "\n",
              "    [theme=dark] .colab-df-convert:hover {\n",
              "      background-color: #434B5C;\n",
              "      box-shadow: 0px 1px 3px 1px rgba(0, 0, 0, 0.15);\n",
              "      filter: drop-shadow(0px 1px 2px rgba(0, 0, 0, 0.3));\n",
              "      fill: #FFFFFF;\n",
              "    }\n",
              "  </style>\n",
              "\n",
              "      <script>\n",
              "        const buttonEl =\n",
              "          document.querySelector('#df-ecfa2386-c644-4948-a00a-62e57cc66ddf button.colab-df-convert');\n",
              "        buttonEl.style.display =\n",
              "          google.colab.kernel.accessAllowed ? 'block' : 'none';\n",
              "\n",
              "        async function convertToInteractive(key) {\n",
              "          const element = document.querySelector('#df-ecfa2386-c644-4948-a00a-62e57cc66ddf');\n",
              "          const dataTable =\n",
              "            await google.colab.kernel.invokeFunction('convertToInteractive',\n",
              "                                                     [key], {});\n",
              "          if (!dataTable) return;\n",
              "\n",
              "          const docLinkHtml = 'Like what you see? Visit the ' +\n",
              "            '<a target=\"_blank\" href=https://colab.research.google.com/notebooks/data_table.ipynb>data table notebook</a>'\n",
              "            + ' to learn more about interactive tables.';\n",
              "          element.innerHTML = '';\n",
              "          dataTable['output_type'] = 'display_data';\n",
              "          await google.colab.output.renderOutput(dataTable, element);\n",
              "          const docLink = document.createElement('div');\n",
              "          docLink.innerHTML = docLinkHtml;\n",
              "          element.appendChild(docLink);\n",
              "        }\n",
              "      </script>\n",
              "    </div>\n",
              "  </div>\n",
              "  "
            ]
          },
          "metadata": {},
          "execution_count": 6
        }
      ]
    },
    {
      "cell_type": "code",
      "source": [
        "data['is_duplicate'].value_counts()"
      ],
      "metadata": {
        "colab": {
          "base_uri": "https://localhost:8080/"
        },
        "id": "g9VSvVrP-NtZ",
        "outputId": "a898e72b-140d-4195-c28c-911e602f8832"
      },
      "execution_count": null,
      "outputs": [
        {
          "output_type": "execute_result",
          "data": {
            "text/plain": [
              "0    255027\n",
              "1    149263\n",
              "Name: is_duplicate, dtype: int64"
            ]
          },
          "metadata": {},
          "execution_count": 7
        }
      ]
    },
    {
      "cell_type": "code",
      "source": [
        "data.shape"
      ],
      "metadata": {
        "colab": {
          "base_uri": "https://localhost:8080/"
        },
        "id": "h1q84FjJ-Sq2",
        "outputId": "f1c116c4-550c-4933-b747-ced6f7530731"
      },
      "execution_count": null,
      "outputs": [
        {
          "output_type": "execute_result",
          "data": {
            "text/plain": [
              "(404290, 6)"
            ]
          },
          "metadata": {},
          "execution_count": 8
        }
      ]
    },
    {
      "cell_type": "code",
      "source": [
        "data.isna().sum()"
      ],
      "metadata": {
        "colab": {
          "base_uri": "https://localhost:8080/"
        },
        "id": "APrvhL9W_UX3",
        "outputId": "cabf1f77-6833-4d79-b1df-b5b4cefa9b3a"
      },
      "execution_count": null,
      "outputs": [
        {
          "output_type": "execute_result",
          "data": {
            "text/plain": [
              "id              0\n",
              "qid1            0\n",
              "qid2            0\n",
              "question1       1\n",
              "question2       2\n",
              "is_duplicate    0\n",
              "dtype: int64"
            ]
          },
          "metadata": {},
          "execution_count": 9
        }
      ]
    },
    {
      "cell_type": "code",
      "source": [
        "data=data.dropna()"
      ],
      "metadata": {
        "id": "Lg6fcm-H_Vv_"
      },
      "execution_count": null,
      "outputs": []
    },
    {
      "cell_type": "code",
      "source": [
        "data.isna().sum()"
      ],
      "metadata": {
        "colab": {
          "base_uri": "https://localhost:8080/"
        },
        "id": "s89y2tmq_YYv",
        "outputId": "82bbcebf-1162-4b5b-d19f-b1cfebec4106"
      },
      "execution_count": null,
      "outputs": [
        {
          "output_type": "execute_result",
          "data": {
            "text/plain": [
              "id              0\n",
              "qid1            0\n",
              "qid2            0\n",
              "question1       0\n",
              "question2       0\n",
              "is_duplicate    0\n",
              "dtype: int64"
            ]
          },
          "metadata": {},
          "execution_count": 11
        }
      ]
    },
    {
      "cell_type": "code",
      "source": [
        "question1=data['question1']\n",
        "len_q1=[len(x.split()) for x in question1]"
      ],
      "metadata": {
        "id": "BfbOZxdfAkyn"
      },
      "execution_count": null,
      "outputs": []
    },
    {
      "cell_type": "code",
      "source": [
        "question2=data['question2']\n",
        "len_q2=[len(x.split()) for x in question2]"
      ],
      "metadata": {
        "id": "tnj7dAAbBDz-"
      },
      "execution_count": null,
      "outputs": []
    },
    {
      "cell_type": "code",
      "source": [
        "plt.hist(len_q1,bins=100);"
      ],
      "metadata": {
        "colab": {
          "base_uri": "https://localhost:8080/",
          "height": 265
        },
        "id": "_xWJeHQPBIGu",
        "outputId": "fe8cdecd-10a9-4220-f7a5-4fbfb550cb5f"
      },
      "execution_count": null,
      "outputs": [
        {
          "output_type": "display_data",
          "data": {
            "text/plain": [
              "<Figure size 432x288 with 1 Axes>"
            ],
            "image/png": "[encoded data removed]"
          },
          "metadata": {
            "needs_background": "light"
          }
        }
      ]
    },
    {
      "cell_type": "code",
      "source": [
        "plt.hist(len_q2,bins=100);"
      ],
      "metadata": {
        "colab": {
          "base_uri": "https://localhost:8080/",
          "height": 265
        },
        "id": "uTi3Sej1BhIM",
        "outputId": "93a0219b-7ae3-4b0c-92c5-be855b4b5add"
      },
      "execution_count": null,
      "outputs": [
        {
          "output_type": "display_data",
          "data": {
            "text/plain": [
              "<Figure size 432x288 with 1 Axes>"
            ],
            "image/png": "[encoded data removed]"
          },
          "metadata": {
            "needs_background": "light"
          }
        }
      ]
    },
    {
      "cell_type": "code",
      "source": [
        "max_len_q1=np.percentile(len_q1,99)\n",
        "max_len_q1"
      ],
      "metadata": {
        "colab": {
          "base_uri": "https://localhost:8080/"
        },
        "id": "0LIaoEVzBu3R",
        "outputId": "100c9ad0-6c7f-41a4-9c7e-4a41da957315"
      },
      "execution_count": null,
      "outputs": [
        {
          "output_type": "execute_result",
          "data": {
            "text/plain": [
              "29.0"
            ]
          },
          "metadata": {},
          "execution_count": 16
        }
      ]
    },
    {
      "cell_type": "code",
      "source": [
        "max_len_q2=np.percentile(len_q2,99)\n",
        "max_len_q2"
      ],
      "metadata": {
        "colab": {
          "base_uri": "https://localhost:8080/"
        },
        "id": "Z5LLhdbOBveA",
        "outputId": "9bd76f91-db9f-4193-d1a6-c3a4ca38a6ea"
      },
      "execution_count": null,
      "outputs": [
        {
          "output_type": "execute_result",
          "data": {
            "text/plain": [
              "33.0"
            ]
          },
          "metadata": {},
          "execution_count": 17
        }
      ]
    },
    {
      "cell_type": "markdown",
      "source": [
        "## Data cleaning functions"
      ],
      "metadata": {
        "id": "PpX0mvru__8h"
      }
    },
    {
      "cell_type": "code",
      "source": [
        "contraction_mapping = {\"ain't\": \"is not\", \"aren't\": \"are not\",\"can't\": \"cannot\", \"'cause\": \"because\", \"could've\": \"could have\", \"couldn't\": \"could not\",\n",
        "                           \"didn't\": \"did not\", \"doesn't\": \"does not\", \"don't\": \"do not\", \"hadn't\": \"had not\", \"hasn't\": \"has not\", \"haven't\": \"have not\",\n",
        "                           \"he'd\": \"he would\",\"he'll\": \"he will\", \"he's\": \"he is\", \"how'd\": \"how did\", \"how'd'y\": \"how do you\", \"how'll\": \"how will\", \"how's\": \"how is\",\n",
        "                           \"I'd\": \"I would\", \"I'd've\": \"I would have\", \"I'll\": \"I will\", \"I'll've\": \"I will have\",\"I'm\": \"I am\", \"I've\": \"I have\", \"i'd\": \"i would\",\n",
        "                           \"i'd've\": \"i would have\", \"i'll\": \"i will\",  \"i'll've\": \"i will have\",\"i'm\": \"i am\", \"i've\": \"i have\", \"isn't\": \"is not\", \"it'd\": \"it would\",\n",
        "                           \"it'd've\": \"it would have\", \"it'll\": \"it will\", \"it'll've\": \"it will have\",\"it's\": \"it is\", \"let's\": \"let us\", \"ma'am\": \"madam\",\n",
        "                           \"mayn't\": \"may not\", \"might've\": \"might have\",\"mightn't\": \"might not\",\"mightn't've\": \"might not have\", \"must've\": \"must have\",\n",
        "                           \"mustn't\": \"must not\", \"mustn't've\": \"must not have\", \"needn't\": \"need not\", \"needn't've\": \"need not have\",\"o'clock\": \"of the clock\",\n",
        "                           \"oughtn't\": \"ought not\", \"oughtn't've\": \"ought not have\", \"shan't\": \"shall not\", \"sha'n't\": \"shall not\", \"shan't've\": \"shall not have\",\n",
        "                           \"she'd\": \"she would\", \"she'd've\": \"she would have\", \"she'll\": \"she will\", \"she'll've\": \"she will have\", \"she's\": \"she is\",\n",
        "                           \"should've\": \"should have\", \"shouldn't\": \"should not\", \"shouldn't've\": \"should not have\", \"so've\": \"so have\",\"so's\": \"so as\",\n",
        "                           \"this's\": \"this is\",\"that'd\": \"that would\", \"that'd've\": \"that would have\", \"that's\": \"that is\", \"there'd\": \"there would\",\n",
        "                           \"there'd've\": \"there would have\", \"there's\": \"there is\", \"here's\": \"here is\",\"they'd\": \"they would\", \"they'd've\": \"they would have\",\n",
        "                           \"they'll\": \"they will\", \"they'll've\": \"they will have\", \"they're\": \"they are\", \"they've\": \"they have\", \"to've\": \"to have\",\n",
        "                           \"wasn't\": \"was not\", \"we'd\": \"we would\", \"we'd've\": \"we would have\", \"we'll\": \"we will\", \"we'll've\": \"we will have\", \"we're\": \"we are\",\n",
        "                           \"we've\": \"we have\", \"weren't\": \"were not\", \"what'll\": \"what will\", \"what'll've\": \"what will have\", \"what're\": \"what are\",\n",
        "                           \"what's\": \"what is\", \"what've\": \"what have\", \"when's\": \"when is\", \"when've\": \"when have\", \"where'd\": \"where did\", \"where's\": \"where is\",\n",
        "                           \"where've\": \"where have\", \"who'll\": \"who will\", \"who'll've\": \"who will have\", \"who's\": \"who is\", \"who've\": \"who have\",\n",
        "                           \"why's\": \"why is\", \"why've\": \"why have\", \"will've\": \"will have\", \"won't\": \"will not\", \"won't've\": \"will not have\",\n",
        "                           \"would've\": \"would have\", \"wouldn't\": \"would not\", \"wouldn't've\": \"would not have\", \"y'all\": \"you all\",\n",
        "                           \"y'all'd\": \"you all would\",\"y'all'd've\": \"you all would have\",\"y'all're\": \"you all are\",\"y'all've\": \"you all have\",\n",
        "                           \"you'd\": \"you would\", \"you'd've\": \"you would have\", \"you'll\": \"you will\", \"you'll've\": \"you will have\",\n",
        "                           \"you're\": \"you are\", \"you've\": \"you have\"}"
      ],
      "metadata": {
        "id": "7t_7bmw7lPHI"
      },
      "execution_count": null,
      "outputs": []
    },
    {
      "cell_type": "code",
      "source": [
        "stop_words = set(stopwords.words('english')) \n",
        "def text_cleaner(text):\n",
        "    newString = text.lower()\n",
        "    newString = BeautifulSoup(newString, \"lxml\").text\n",
        "    newString = ' '.join([contraction_mapping[t] if t in contraction_mapping else t for t in newString.split(\" \")]) \n",
        "    newString = re.sub(\"[^a-zA-Z]\", \" \", newString)\n",
        "    return ' '.join(newString.split())\n",
        "\n",
        "def remove_stopwords(text):\n",
        "    tokens = [w for w in text.split() if not w in stop_words]  \n",
        "    return (\" \".join(tokens)).strip()"
      ],
      "metadata": {
        "id": "Gnm1Stc-_9j6"
      },
      "execution_count": null,
      "outputs": []
    },
    {
      "cell_type": "code",
      "source": [
        "text_cleaner(\"Hello, this is rafay. i've worked in industry for 10 years\")"
      ],
      "metadata": {
        "colab": {
          "base_uri": "https://localhost:8080/",
          "height": 35
        },
        "id": "oDS4xEfcmqRj",
        "outputId": "03d22681-77d7-4ade-b4e5-7763e1754e7f"
      },
      "execution_count": null,
      "outputs": [
        {
          "output_type": "execute_result",
          "data": {
            "text/plain": [
              "'hello this is rafay i have worked in industry for years'"
            ],
            "application/vnd.google.colaboratory.intrinsic+json": {
              "type": "string"
            }
          },
          "metadata": {},
          "execution_count": 20
        }
      ]
    },
    {
      "cell_type": "code",
      "source": [
        "q1_sentences=data['question1'].apply(text_cleaner)"
      ],
      "metadata": {
        "colab": {
          "base_uri": "https://localhost:8080/"
        },
        "id": "lN__glesAhj9",
        "outputId": "582a28f7-1103-424c-bb79-f3eae77ce94e"
      },
      "execution_count": null,
      "outputs": [
        {
          "output_type": "stream",
          "name": "stderr",
          "text": [
            "<ipython-input-19-b197a37aac6b>:4: MarkupResemblesLocatorWarning: The input looks more like a filename than markup. You may want to open this file and pass the filehandle into Beautiful Soup.\n",
            "  newString = BeautifulSoup(newString, \"lxml\").text\n"
          ]
        }
      ]
    },
    {
      "cell_type": "code",
      "source": [
        "q2_sentences=data['question2'].apply(text_cleaner)"
      ],
      "metadata": {
        "colab": {
          "base_uri": "https://localhost:8080/"
        },
        "id": "H23Aulk4E-A-",
        "outputId": "cb942171-9961-4ff5-beed-2900758b2939"
      },
      "execution_count": null,
      "outputs": [
        {
          "output_type": "stream",
          "name": "stderr",
          "text": [
            "<ipython-input-19-b197a37aac6b>:4: MarkupResemblesLocatorWarning: The input looks more like a filename than markup. You may want to open this file and pass the filehandle into Beautiful Soup.\n",
            "  newString = BeautifulSoup(newString, \"lxml\").text\n"
          ]
        }
      ]
    },
    {
      "cell_type": "markdown",
      "source": [
        "## Creating new dataframe"
      ],
      "metadata": {
        "id": "vz-hTQ5BBMdE"
      }
    },
    {
      "cell_type": "code",
      "source": [
        "labels=data['is_duplicate']\n",
        "cleaned_data=pd.DataFrame([q1_sentences,q2_sentences,labels]).transpose()"
      ],
      "metadata": {
        "id": "J0e4bj0nBO4I"
      },
      "execution_count": null,
      "outputs": []
    },
    {
      "cell_type": "markdown",
      "source": [
        "## Checking Average sentence length after cleaning"
      ],
      "metadata": {
        "id": "FgXoShPwG_Ed"
      }
    },
    {
      "cell_type": "code",
      "source": [
        "len_q1=[len(x.split()) for x in q1_sentences]\n",
        "len_q2=[len(x.split()) for x in q2_sentences]"
      ],
      "metadata": {
        "id": "gynehn1vHIzn"
      },
      "execution_count": null,
      "outputs": []
    },
    {
      "cell_type": "code",
      "source": [
        "max_len_q2=int(np.percentile(len_q2,99))\n",
        "max_len_q2"
      ],
      "metadata": {
        "colab": {
          "base_uri": "https://localhost:8080/"
        },
        "id": "cOFh_MYrHSau",
        "outputId": "8273c0d0-e64f-4d62-b87f-c6b98ea1c84f"
      },
      "execution_count": null,
      "outputs": [
        {
          "output_type": "execute_result",
          "data": {
            "text/plain": [
              "33"
            ]
          },
          "metadata": {},
          "execution_count": 25
        }
      ]
    },
    {
      "cell_type": "code",
      "source": [
        "max_len_q1=int(np.percentile(len_q1,99))\n",
        "max_len_q1=max_len_q2"
      ],
      "metadata": {
        "id": "eiUQqnBFHTYl"
      },
      "execution_count": null,
      "outputs": []
    },
    {
      "cell_type": "code",
      "source": [
        "max_len_q1"
      ],
      "metadata": {
        "colab": {
          "base_uri": "https://localhost:8080/"
        },
        "id": "Af9eqAOOkXzd",
        "outputId": "1b853fcc-e130-4265-a3dd-7c1c2eaeb5b3"
      },
      "execution_count": null,
      "outputs": [
        {
          "output_type": "execute_result",
          "data": {
            "text/plain": [
              "33"
            ]
          },
          "metadata": {},
          "execution_count": 27
        }
      ]
    },
    {
      "cell_type": "markdown",
      "source": [
        "## Creating Char based Data"
      ],
      "metadata": {
        "id": "L6f-MMCgrXFQ"
      }
    },
    {
      "cell_type": "code",
      "source": [
        "def split_chars(text):\n",
        "  return ' '.join(list(text))"
      ],
      "metadata": {
        "id": "tyrTZWHSrZsc"
      },
      "execution_count": null,
      "outputs": []
    },
    {
      "cell_type": "code",
      "source": [
        "chars_q1=[split_chars(sentence) for sentence in q1_sentences]"
      ],
      "metadata": {
        "id": "knvwWE8Lra3Y"
      },
      "execution_count": null,
      "outputs": []
    },
    {
      "cell_type": "code",
      "source": [
        "chars_q2=[split_chars(sentence) for sentence in q2_sentences]"
      ],
      "metadata": {
        "id": "TZthi87urbXj"
      },
      "execution_count": null,
      "outputs": []
    },
    {
      "cell_type": "markdown",
      "source": [
        "## Splitting dataset"
      ],
      "metadata": {
        "id": "vB1f10IV2zmB"
      }
    },
    {
      "cell_type": "code",
      "source": [
        "cleaned_data['charq1']=chars_q1\n",
        "cleaned_data['charq2']=chars_q2"
      ],
      "metadata": {
        "id": "ZKI3qkeDq_XI"
      },
      "execution_count": null,
      "outputs": []
    },
    {
      "cell_type": "code",
      "source": [
        "from sklearn.model_selection import train_test_split\n",
        "xtrain, xmid, ytrain, ymid = train_test_split(cleaned_data.drop('is_duplicate',axis=1),\n",
        "                                                    cleaned_data['is_duplicate'],\n",
        "                                                    test_size=0.15, random_state=42)\n",
        "xval, xtest, yval, ytest = train_test_split(xmid,ymid,test_size=0.50, random_state=42)"
      ],
      "metadata": {
        "id": "wrT5XO3UKpsU"
      },
      "execution_count": null,
      "outputs": []
    },
    {
      "cell_type": "markdown",
      "source": [
        "# Preparing for Deep sequence modelling"
      ],
      "metadata": {
        "id": "hIQ4_gNQrd32"
      }
    },
    {
      "cell_type": "code",
      "source": [
        "from tensorflow.keras.layers import TextVectorization,Embedding\n",
        "import tensorflow as tf"
      ],
      "metadata": {
        "id": "rZ8ObG24n5ht"
      },
      "execution_count": null,
      "outputs": []
    },
    {
      "cell_type": "markdown",
      "source": [
        "## Character level tokenizer and embeddings"
      ],
      "metadata": {
        "id": "eDDHcczmxSEz"
      }
    },
    {
      "cell_type": "markdown",
      "source": [
        "### Character level tokenizer for Q1"
      ],
      "metadata": {
        "id": "Sy0NaO6FoQWU"
      }
    },
    {
      "cell_type": "code",
      "source": [
        "char_len_q1=[len(sentence) for sentence in xtrain['question1']]\n",
        "mean_char_len_q1=np.mean(char_len_q1)\n",
        "mean_char_len_q1"
      ],
      "metadata": {
        "colab": {
          "base_uri": "https://localhost:8080/"
        },
        "id": "UsgrKaqfwrIV",
        "outputId": "9b22c742-ca8d-4e53-dcf6-c32a8094b333"
      },
      "execution_count": null,
      "outputs": [
        {
          "output_type": "execute_result",
          "data": {
            "text/plain": [
              "57.60245370922731"
            ]
          },
          "metadata": {},
          "execution_count": 34
        }
      ]
    },
    {
      "cell_type": "code",
      "source": [
        "# check distribution\n",
        "\n",
        "import matplotlib.pyplot as plt\n",
        "\n",
        "plt.hist(char_len_q1,bins=20);"
      ],
      "metadata": {
        "colab": {
          "base_uri": "https://localhost:8080/",
          "height": 265
        },
        "id": "2lbLPNRdwtpx",
        "outputId": "61813f64-5388-4e06-9377-ddb30d282131"
      },
      "execution_count": null,
      "outputs": [
        {
          "output_type": "display_data",
          "data": {
            "text/plain": [
              "<Figure size 432x288 with 1 Axes>"
            ],
            "image/png": "[encoded data removed]"
          },
          "metadata": {
            "needs_background": "light"
          }
        }
      ]
    },
    {
      "cell_type": "code",
      "source": [
        "#find what character length covers 98% of sequences\n",
        "output_seq_char_len_q1=int(np.percentile(char_len_q1,98))"
      ],
      "metadata": {
        "id": "rH8bJraVwu9h"
      },
      "execution_count": null,
      "outputs": []
    },
    {
      "cell_type": "code",
      "source": [
        "output_seq_char_len_q1"
      ],
      "metadata": {
        "colab": {
          "base_uri": "https://localhost:8080/"
        },
        "id": "tIxMlvDpww1N",
        "outputId": "3e424d20-95ea-4a39-d25b-67a119bd2b59"
      },
      "execution_count": null,
      "outputs": [
        {
          "output_type": "execute_result",
          "data": {
            "text/plain": [
              "140"
            ]
          },
          "metadata": {},
          "execution_count": 37
        }
      ]
    },
    {
      "cell_type": "code",
      "source": [
        "#number of alphanumeric characters\n",
        "import string\n",
        "alphabet=string.ascii_lowercase"
      ],
      "metadata": {
        "id": "Q1o8DtNFwywY"
      },
      "execution_count": null,
      "outputs": []
    },
    {
      "cell_type": "code",
      "source": [
        "num_char_tokens_q1=len(alphabet) + 10 # add for space and UNK"
      ],
      "metadata": {
        "id": "gUYMnpN2w0wE"
      },
      "execution_count": null,
      "outputs": []
    },
    {
      "cell_type": "code",
      "source": [
        "char_vectorizer_q1=TextVectorization(max_tokens=num_char_tokens_q1,\n",
        "                                  output_sequence_length=144,\n",
        "                                  name='char_vectorizer_q1')"
      ],
      "metadata": {
        "id": "FudhflMqw2ia"
      },
      "execution_count": null,
      "outputs": []
    },
    {
      "cell_type": "code",
      "source": [
        "char_vectorizer_q1.adapt(xtrain['charq1'])"
      ],
      "metadata": {
        "id": "JH_2_n0SxElj"
      },
      "execution_count": null,
      "outputs": []
    },
    {
      "cell_type": "code",
      "source": [
        "#check character vocab stats\n",
        "char_vocab_q1=char_vectorizer_q1.get_vocabulary()"
      ],
      "metadata": {
        "id": "sS-j2DQxxK0S"
      },
      "execution_count": null,
      "outputs": []
    },
    {
      "cell_type": "markdown",
      "source": [
        "### Character level tokenizer for Q2"
      ],
      "metadata": {
        "id": "MHCUA0B2omPd"
      }
    },
    {
      "cell_type": "code",
      "source": [
        "char_len_q2=[len(sentence) for sentence in xtrain['question2']]\n",
        "mean_char_len_q2=np.mean(char_len_q2)\n",
        "mean_char_len_q2"
      ],
      "metadata": {
        "colab": {
          "base_uri": "https://localhost:8080/"
        },
        "id": "XnYovQ13pzKE",
        "outputId": "51fa081a-603c-42fc-8b5e-c31abcbf3dc2"
      },
      "execution_count": null,
      "outputs": [
        {
          "output_type": "execute_result",
          "data": {
            "text/plain": [
              "58.12881391444028"
            ]
          },
          "metadata": {},
          "execution_count": 43
        }
      ]
    },
    {
      "cell_type": "code",
      "source": [
        "# check distribution\n",
        "\n",
        "import matplotlib.pyplot as plt\n",
        "\n",
        "plt.hist(char_len_q2,bins=20);"
      ],
      "metadata": {
        "colab": {
          "base_uri": "https://localhost:8080/",
          "height": 265
        },
        "id": "hMrlJsONp3EV",
        "outputId": "0ab59e97-0a57-47ff-c1b9-4ff120c51787"
      },
      "execution_count": null,
      "outputs": [
        {
          "output_type": "display_data",
          "data": {
            "text/plain": [
              "<Figure size 432x288 with 1 Axes>"
            ],
            "image/png": "[encoded data removed]"
          },
          "metadata": {
            "needs_background": "light"
          }
        }
      ]
    },
    {
      "cell_type": "code",
      "source": [
        "#find what character length covers 95% of sequences\n",
        "output_seq_char_len_q2=int(np.percentile(char_len_q2,98))\n",
        "output_seq_char_len_q2"
      ],
      "metadata": {
        "id": "CKrYiz9MqA_q",
        "colab": {
          "base_uri": "https://localhost:8080/"
        },
        "outputId": "f8b654c4-bdda-4d09-d81b-4fdfab1c8e57"
      },
      "execution_count": null,
      "outputs": [
        {
          "output_type": "execute_result",
          "data": {
            "text/plain": [
              "144"
            ]
          },
          "metadata": {},
          "execution_count": 45
        }
      ]
    },
    {
      "cell_type": "code",
      "source": [
        "num_char_tokens_q2=len(alphabet) + 10 # add for space and UNK"
      ],
      "metadata": {
        "id": "vYMj8lHzqdk9"
      },
      "execution_count": null,
      "outputs": []
    },
    {
      "cell_type": "code",
      "source": [
        "#number of alphanumeric characters\n",
        "import string\n",
        "alphabet=string.ascii_lowercase"
      ],
      "metadata": {
        "id": "eVtwZjn8qeHR"
      },
      "execution_count": null,
      "outputs": []
    },
    {
      "cell_type": "code",
      "source": [
        "char_vectorizer_q2=TextVectorization(max_tokens=num_char_tokens_q2,\n",
        "                                  output_sequence_length=output_seq_char_len_q2,\n",
        "                                  name='char_vectorizer_q2')"
      ],
      "metadata": {
        "id": "wjfCLQ4YqiJc"
      },
      "execution_count": null,
      "outputs": []
    },
    {
      "cell_type": "code",
      "source": [
        "char_vectorizer_q2.adapt(xtrain['charq2'])"
      ],
      "metadata": {
        "id": "6sbiIc6yqjKc"
      },
      "execution_count": null,
      "outputs": []
    },
    {
      "cell_type": "code",
      "source": [
        "#check character vocab stats\n",
        "char_vocab_q2=char_vectorizer_q2.get_vocabulary()"
      ],
      "metadata": {
        "id": "THC3CHT3qi_c"
      },
      "execution_count": null,
      "outputs": []
    },
    {
      "cell_type": "markdown",
      "source": [
        "### Character level Embedding Q1"
      ],
      "metadata": {
        "id": "6OKy17_fxQBQ"
      }
    },
    {
      "cell_type": "code",
      "source": [
        "output_dim=96\n",
        "#input_dims=Vocab length\n",
        "#mask_zero saves space by masking 0 values out with are padding\n",
        "char_embedding_q1=Embedding(input_dim=len(char_vocab_q1),\n",
        "                         output_dim=output_dim,\n",
        "                         mask_zero=True,\n",
        "                         name='char_embedding_q1')"
      ],
      "metadata": {
        "id": "7wsMgUHnxfvF"
      },
      "execution_count": null,
      "outputs": []
    },
    {
      "cell_type": "markdown",
      "source": [
        "### Character level Embedding Q2"
      ],
      "metadata": {
        "id": "KwnYYif-quvV"
      }
    },
    {
      "cell_type": "code",
      "source": [
        "output_dim=96\n",
        "#input_dims=Vocab length\n",
        "#mask_zero saves space by masking 0 values out with are padding\n",
        "char_embedding_q2=Embedding(input_dim=len(char_vocab_q2),\n",
        "                         output_dim=output_dim,\n",
        "                         mask_zero=True,\n",
        "                         name='char_embedding_q2')"
      ],
      "metadata": {
        "id": "_GQ8nostquvW"
      },
      "execution_count": null,
      "outputs": []
    },
    {
      "cell_type": "markdown",
      "source": [
        "## Token Text Vectorization"
      ],
      "metadata": {
        "id": "F5Bvnk_1s3bA"
      }
    },
    {
      "cell_type": "markdown",
      "source": [
        "### Q1 vectorizer"
      ],
      "metadata": {
        "id": "dm0jfe6XMslf"
      }
    },
    {
      "cell_type": "code",
      "source": [
        "#Text vectorization layer\n",
        "# Output_sequence_length= length of output sentence\n",
        "max_tokens=80000\n",
        "q1_text_vectorizer=TextVectorization(max_tokens=max_tokens,\n",
        "                                  split='whitespace',\n",
        "                                  output_sequence_length=max_len_q1)"
      ],
      "metadata": {
        "id": "m2iTTKZ6sChx"
      },
      "execution_count": null,
      "outputs": []
    },
    {
      "cell_type": "code",
      "source": [
        "#Adapt text vectorizer to training sentences\n",
        "q1_text_vectorizer.adapt(xtrain['question1'])"
      ],
      "metadata": {
        "id": "znRJS49ssWtB"
      },
      "execution_count": null,
      "outputs": []
    },
    {
      "cell_type": "code",
      "source": [
        "q1_vectorizer_vocab_token=q1_text_vectorizer.get_vocabulary()"
      ],
      "metadata": {
        "id": "_PflmSRCsaAh"
      },
      "execution_count": null,
      "outputs": []
    },
    {
      "cell_type": "code",
      "source": [
        "len(q1_vectorizer_vocab_token)"
      ],
      "metadata": {
        "colab": {
          "base_uri": "https://localhost:8080/"
        },
        "id": "LflaFcbBNDpY",
        "outputId": "1aa64804-b509-4bf7-adaa-35eeb6a7f93c"
      },
      "execution_count": null,
      "outputs": [
        {
          "output_type": "execute_result",
          "data": {
            "text/plain": [
              "59046"
            ]
          },
          "metadata": {},
          "execution_count": 56
        }
      ]
    },
    {
      "cell_type": "markdown",
      "source": [
        "### Q2 vectorizer"
      ],
      "metadata": {
        "id": "VcIWYEUCMzIf"
      }
    },
    {
      "cell_type": "code",
      "source": [
        "#Text vectorization layer\n",
        "# Output_sequence_length= length of output sentence\n",
        "max_tokens=80000\n",
        "q2_text_vectorizer=TextVectorization(max_tokens=max_tokens,\n",
        "                                  split='whitespace',\n",
        "                                  output_sequence_length=max_len_q2)"
      ],
      "metadata": {
        "id": "yhEMGG8eMl-m"
      },
      "execution_count": null,
      "outputs": []
    },
    {
      "cell_type": "code",
      "source": [
        "#Adapt text vectorizer to training sentences\n",
        "q2_text_vectorizer.adapt(xtrain['question2'])"
      ],
      "metadata": {
        "id": "MWy4UzCDMqRo"
      },
      "execution_count": null,
      "outputs": []
    },
    {
      "cell_type": "code",
      "source": [
        "q2_vectorizer_vocab_token=q2_text_vectorizer.get_vocabulary()\n",
        "len(q2_vectorizer_vocab_token)"
      ],
      "metadata": {
        "colab": {
          "base_uri": "https://localhost:8080/"
        },
        "id": "kUi7nI7AMraP",
        "outputId": "daa29564-05cb-44cd-e6fa-37ad70b98a21"
      },
      "execution_count": null,
      "outputs": [
        {
          "output_type": "execute_result",
          "data": {
            "text/plain": [
              "54387"
            ]
          },
          "metadata": {},
          "execution_count": 59
        }
      ]
    },
    {
      "cell_type": "markdown",
      "source": [
        "## Token Embedding layer"
      ],
      "metadata": {
        "id": "Ioc2eni7xCRE"
      }
    },
    {
      "cell_type": "code",
      "source": [
        "glove_file = 'glove.42B.300d.txt'\n",
        "embeddings_index = {}\n",
        "with open(glove_file, encoding='utf8') as f:\n",
        "    for line in f:\n",
        "        values = line.split()\n",
        "        word = values[0]\n",
        "        coefs = np.asarray(values[1:], dtype='float32')\n",
        "        embeddings_index[word] = coefs"
      ],
      "metadata": {
        "id": "6oCrg4gRjvOM"
      },
      "execution_count": null,
      "outputs": []
    },
    {
      "cell_type": "markdown",
      "source": [
        "### Q1 Embedding"
      ],
      "metadata": {
        "id": "GwZh3bLYxCRE"
      }
    },
    {
      "cell_type": "code",
      "source": [
        "word_index_q1 = dict(zip(q1_text_vectorizer.get_vocabulary(), range(len(q1_text_vectorizer.get_vocabulary()))))"
      ],
      "metadata": {
        "id": "21fkB-uhjy5r"
      },
      "execution_count": null,
      "outputs": []
    },
    {
      "cell_type": "code",
      "source": [
        "# Create the embedding matrix\n",
        "embedding_dim = 300\n",
        "num_words = len(word_index_q1)\n",
        "embedding_matrix = np.zeros((num_words, embedding_dim))\n",
        "for word, i in word_index_q1.items():\n",
        "    embedding_vector = embeddings_index.get(word)\n",
        "    if embedding_vector is not None:\n",
        "        embedding_matrix[i] = embedding_vector\n"
      ],
      "metadata": {
        "id": "L7K_xkixjyfQ"
      },
      "execution_count": null,
      "outputs": []
    },
    {
      "cell_type": "code",
      "source": [
        "output_dim=300 #Use size according to dataset\n",
        "#input_dims=Vocab length\n",
        "#mask_zero saves space by masking 0 values out with are padding\n",
        "q1_embedding=Embedding(input_dim=len(q1_vectorizer_vocab_token),output_dim=output_dim,\n",
        "                       embeddings_initializer=tf.keras.initializers.Constant(embedding_matrix),\n",
        "                       trainable=False,name='q1_token_embedding')"
      ],
      "metadata": {
        "id": "PFSZIIO0xCRF"
      },
      "execution_count": null,
      "outputs": []
    },
    {
      "cell_type": "markdown",
      "source": [
        "### Q2 Embedding"
      ],
      "metadata": {
        "id": "3P4pUZBCxCRF"
      }
    },
    {
      "cell_type": "code",
      "source": [
        "word_index_q2 = dict(zip(q2_text_vectorizer.get_vocabulary(), range(len(q2_text_vectorizer.get_vocabulary()))))"
      ],
      "metadata": {
        "id": "KqjIOH4yj4l_"
      },
      "execution_count": null,
      "outputs": []
    },
    {
      "cell_type": "code",
      "source": [
        "# Create the embedding matrix\n",
        "embedding_dim = 300\n",
        "num_words = len(word_index_q2)\n",
        "embedding_matrix = np.zeros((num_words, embedding_dim))\n",
        "for word, i in word_index_q2.items():\n",
        "    embedding_vector = embeddings_index.get(word)\n",
        "    if embedding_vector is not None:\n",
        "        embedding_matrix[i] = embedding_vector\n"
      ],
      "metadata": {
        "id": "P8LymDlrlC_5"
      },
      "execution_count": null,
      "outputs": []
    },
    {
      "cell_type": "code",
      "source": [
        "embedding_matrix.shape"
      ],
      "metadata": {
        "colab": {
          "base_uri": "https://localhost:8080/"
        },
        "id": "xjSzTGv9mDdU",
        "outputId": "cee6c40b-def4-48e2-9d49-d0ce49d56c55"
      },
      "execution_count": null,
      "outputs": [
        {
          "output_type": "execute_result",
          "data": {
            "text/plain": [
              "(54387, 300)"
            ]
          },
          "metadata": {},
          "execution_count": 69
        }
      ]
    },
    {
      "cell_type": "code",
      "source": [
        "len(q2_vectorizer_vocab_token)"
      ],
      "metadata": {
        "colab": {
          "base_uri": "https://localhost:8080/"
        },
        "id": "J4GqeonrmHZJ",
        "outputId": "b8b3dd7e-c9cc-4080-abb5-090f0d47a63f"
      },
      "execution_count": null,
      "outputs": [
        {
          "output_type": "execute_result",
          "data": {
            "text/plain": [
              "54387"
            ]
          },
          "metadata": {},
          "execution_count": 70
        }
      ]
    },
    {
      "cell_type": "code",
      "source": [
        "output_dim=300 #Use size according to dataset\n",
        "#input_dims=Vocab length\n",
        "#mask_zero saves space by masking 0 values out with are padding\n",
        "q2_embedding=Embedding(input_dim=len(q2_vectorizer_vocab_token),output_dim=output_dim,\n",
        "                       embeddings_initializer=tf.keras.initializers.Constant(embedding_matrix),\n",
        "                       trainable=False,name='q2_token_embedding')"
      ],
      "metadata": {
        "id": "z82HyfKaxCRG"
      },
      "execution_count": null,
      "outputs": []
    },
    {
      "cell_type": "markdown",
      "source": [
        "## Modelling "
      ],
      "metadata": {
        "id": "vhKCRBFtqSp1"
      }
    },
    {
      "cell_type": "markdown",
      "source": [
        "### Model1: Char Model:"
      ],
      "metadata": {
        "id": "np052QBDoqvQ"
      }
    },
    {
      "cell_type": "markdown",
      "source": [
        "#### Creating dataset"
      ],
      "metadata": {
        "id": "I-eG1K4Wot2-"
      }
    },
    {
      "cell_type": "code",
      "source": [
        "train_char_data=tf.data.Dataset.from_tensor_slices((xtrain['charq1'].values,\n",
        "                                               xtrain['charq2'].values))\n",
        "train_char_labels=tf.data.Dataset.from_tensor_slices(ytrain.apply(pd.to_numeric).values)\n",
        "train_char_dataset=tf.data.Dataset.zip((train_char_data,train_char_labels))\n",
        "train_char_dataset=train_char_dataset.shuffle(1000).batch(32).prefetch(tf.data.AUTOTUNE)\n",
        "\n",
        "\n",
        "\n",
        "val_char_data=tf.data.Dataset.from_tensor_slices((xval['charq1'].values,\n",
        "                                             xval['charq2'].values))\n",
        "val_char_labels=tf.data.Dataset.from_tensor_slices(yval.apply(pd.to_numeric).values)\n",
        "val_char_dataset=tf.data.Dataset.zip((val_char_data,val_char_labels))\n",
        "val_char_dataset=val_char_dataset.shuffle(1000).batch(32).prefetch(tf.data.AUTOTUNE)\n",
        "\n",
        "\n",
        "\n",
        "test_char_data=tf.data.Dataset.from_tensor_slices((xtest['charq1'].values,\n",
        "                                              xtest['charq2'].values))\n",
        "test_char_labels=tf.data.Dataset.from_tensor_slices(ytest.apply(pd.to_numeric).values)\n",
        "test_char_dataset=tf.data.Dataset.zip((test_char_data,test_char_labels))\n",
        "test_char_dataset=test_char_dataset.shuffle(1000).batch(32).prefetch(tf.data.AUTOTUNE)"
      ],
      "metadata": {
        "id": "Xivr-4Feov9o"
      },
      "execution_count": null,
      "outputs": []
    },
    {
      "cell_type": "markdown",
      "source": [
        "#### Model"
      ],
      "metadata": {
        "id": "h8Q6AY9GpInC"
      }
    },
    {
      "cell_type": "code",
      "source": [
        "q1_char_inputs=tf.keras.layers.Input(shape=(1,),dtype=tf.string)\n",
        "q1_char_preprocessor=char_vectorizer_q1(q1_char_inputs)\n",
        "q1_char_embed=char_embedding_q1(q1_char_preprocessor)\n",
        "q1_char_gru1=tf.keras.layers.Bidirectional(tf.keras.layers.GRU(128,activation='tanh',return_sequences=True))(q1_char_embed)\n",
        "q1_char_gru2=tf.keras.layers.Bidirectional(tf.keras.layers.GRU(64,activation='tanh',return_sequences=True))(q1_char_gru1)\n",
        "q1_char_model=tf.keras.Model(q1_char_inputs,q1_char_gru2)\n",
        "\n",
        "\n",
        "q2_char_inputs=tf.keras.layers.Input(shape=(1,),dtype=tf.string)\n",
        "q2_char_preprocessor=char_vectorizer_q2(q2_char_inputs)\n",
        "q2_char_embed=char_embedding_q2(q2_char_preprocessor)\n",
        "q2_char_gru1=tf.keras.layers.Bidirectional(tf.keras.layers.GRU(128,activation='tanh',return_sequences=True))(q2_char_embed)\n",
        "q2_char_gru2=tf.keras.layers.Bidirectional(tf.keras.layers.GRU(64,activation='tanh',return_sequences=True))(q2_char_gru1)\n",
        "q2_char_model=tf.keras.Model(q2_char_inputs,q2_char_gru2)\n",
        "\n",
        "q1_q2_char_concat=tf.keras.layers.Concatenate()([q1_char_model.output,\n",
        "                               q2_char_model.output])\n",
        "\n",
        "combined_char_gru1=tf.keras.layers.Bidirectional(tf.keras.layers.GRU(128,activation='tanh',return_sequences=True))(q1_q2_char_concat)\n",
        "combined_char_gru2=tf.keras.layers.Bidirectional(tf.keras.layers.GRU(64,activation='tanh',return_sequences=True))(combined_char_gru1)\n",
        "combined_char_gru3=tf.keras.layers.Bidirectional(tf.keras.layers.GRU(64,activation='tanh'))(combined_char_gru2)\n",
        "\n",
        "output=tf.keras.layers.Dense(1,activation='sigmoid')(combined_char_gru3)\n",
        "\n",
        "model1=tf.keras.Model(inputs=[q1_char_model.input,q2_char_model.input],\n",
        "                      outputs=output,\n",
        "                      name='Model1')"
      ],
      "metadata": {
        "id": "N9aM6qlkpJ3a"
      },
      "execution_count": null,
      "outputs": []
    },
    {
      "cell_type": "code",
      "source": [
        "model1.summary()"
      ],
      "metadata": {
        "colab": {
          "base_uri": "https://localhost:8080/"
        },
        "id": "T7v1qx0ip6H6",
        "outputId": "9a82e827-d30a-4928-f104-645a3b1fa68e"
      },
      "execution_count": null,
      "outputs": [
        {
          "output_type": "stream",
          "name": "stdout",
          "text": [
            "Model: \"Model1\"\n",
            "__________________________________________________________________________________________________\n",
            " Layer (type)                   Output Shape         Param #     Connected to                     \n",
            "==================================================================================================\n",
            " input_5 (InputLayer)           [(None, 1)]          0           []                               \n",
            "                                                                                                  \n",
            " input_6 (InputLayer)           [(None, 1)]          0           []                               \n",
            "                                                                                                  \n",
            " char_vectorizer_q1 (TextVector  (None, 144)         0           ['input_5[0][0]']                \n",
            " ization)                                                                                         \n",
            "                                                                                                  \n",
            " char_vectorizer_q2 (TextVector  (None, 144)         0           ['input_6[0][0]']                \n",
            " ization)                                                                                         \n",
            "                                                                                                  \n",
            " char_embedding_q1 (Embedding)  (None, 144, 96)      2688        ['char_vectorizer_q1[0][0]']     \n",
            "                                                                                                  \n",
            " char_embedding_q2 (Embedding)  (None, 144, 96)      2688        ['char_vectorizer_q2[1][0]']     \n",
            "                                                                                                  \n",
            " bidirectional_11 (Bidirectiona  (None, 144, 256)    173568      ['char_embedding_q1[0][0]']      \n",
            " l)                                                                                               \n",
            "                                                                                                  \n",
            " bidirectional_13 (Bidirectiona  (None, 144, 256)    173568      ['char_embedding_q2[1][0]']      \n",
            " l)                                                                                               \n",
            "                                                                                                  \n",
            " bidirectional_12 (Bidirectiona  (None, 144, 128)    123648      ['bidirectional_11[0][0]']       \n",
            " l)                                                                                               \n",
            "                                                                                                  \n",
            " bidirectional_14 (Bidirectiona  (None, 144, 128)    123648      ['bidirectional_13[0][0]']       \n",
            " l)                                                                                               \n",
            "                                                                                                  \n",
            " concatenate_2 (Concatenate)    (None, 144, 256)     0           ['bidirectional_12[0][0]',       \n",
            "                                                                  'bidirectional_14[0][0]']       \n",
            "                                                                                                  \n",
            " bidirectional_15 (Bidirectiona  (None, 144, 256)    296448      ['concatenate_2[0][0]']          \n",
            " l)                                                                                               \n",
            "                                                                                                  \n",
            " bidirectional_16 (Bidirectiona  (None, 144, 128)    123648      ['bidirectional_15[0][0]']       \n",
            " l)                                                                                               \n",
            "                                                                                                  \n",
            " bidirectional_17 (Bidirectiona  (None, 128)         74496       ['bidirectional_16[0][0]']       \n",
            " l)                                                                                               \n",
            "                                                                                                  \n",
            " dense_1 (Dense)                (None, 1)            129         ['bidirectional_17[0][0]']       \n",
            "                                                                                                  \n",
            "==================================================================================================\n",
            "Total params: 1,094,529\n",
            "Trainable params: 1,094,529\n",
            "Non-trainable params: 0\n",
            "__________________________________________________________________________________________________\n"
          ]
        }
      ]
    },
    {
      "cell_type": "code",
      "source": [
        "from tensorflow.keras.utils import plot_model\n",
        "plot_model(model1,show_shapes=True)"
      ],
      "metadata": {
        "colab": {
          "base_uri": "https://localhost:8080/",
          "height": 1000
        },
        "id": "P0SFcVPop5ZO",
        "outputId": "59676972-3954-463d-969e-045ef8ef12cf"
      },
      "execution_count": null,
      "outputs": [
        {
          "output_type": "execute_result",
          "data": {
            "image/png": "[encoded data removed]",
            "text/plain": [
              "<IPython.core.display.Image object>"
            ]
          },
          "metadata": {},
          "execution_count": 145
        }
      ]
    },
    {
      "cell_type": "code",
      "source": [
        "model1.compile(loss=tf.keras.losses.BinaryCrossentropy(label_smoothing=0.2),\n",
        "               optimizer=tf.keras.optimizers.Adam(lr=0.001),\n",
        "               metrics=['accuracy'])"
      ],
      "metadata": {
        "colab": {
          "base_uri": "https://localhost:8080/"
        },
        "id": "9B4Tb8i2p4gg",
        "outputId": "5636d9d9-6337-421f-de1b-b9108d0443c9"
      },
      "execution_count": null,
      "outputs": [
        {
          "output_type": "stream",
          "name": "stderr",
          "text": [
            "WARNING:absl:`lr` is deprecated, please use `learning_rate` instead, or use the legacy optimizer, e.g.,tf.keras.optimizers.legacy.Adam.\n"
          ]
        }
      ]
    },
    {
      "cell_type": "code",
      "source": [
        "history1=model1.fit(train_char_dataset,\n",
        "                    epochs=5,\n",
        "                    steps_per_epoch=int(0.2*len(train_char_dataset)),\n",
        "                    validation_data=val_char_dataset,\n",
        "                    validation_steps=int(0.2*len(val_char_dataset)))"
      ],
      "metadata": {
        "colab": {
          "base_uri": "https://localhost:8080/"
        },
        "id": "5C3bpH9Vp4Ad",
        "outputId": "54d3c015-de73-49e8-be73-6442eff93a96"
      },
      "execution_count": null,
      "outputs": [
        {
          "output_type": "stream",
          "name": "stdout",
          "text": [
            "Epoch 1/5\n",
            "1895/1895 [==============================] - 247s 130ms/step - loss: 0.5974 - accuracy: 0.7264 - val_loss: 0.5971 - val_accuracy: 0.7264\n",
            "Epoch 2/5\n",
            "1895/1895 [==============================] - 227s 120ms/step - loss: 0.5890 - accuracy: 0.7390 - val_loss: 0.5839 - val_accuracy: 0.7480\n",
            "Epoch 3/5\n",
            "1895/1895 [==============================] - 225s 119ms/step - loss: 0.5833 - accuracy: 0.7462 - val_loss: 0.5826 - val_accuracy: 0.7465\n",
            "Epoch 4/5\n",
            "1895/1895 [==============================] - 232s 122ms/step - loss: 0.5801 - accuracy: 0.7492 - val_loss: 0.5791 - val_accuracy: 0.7509\n",
            "Epoch 5/5\n",
            "1895/1895 [==============================] - 229s 121ms/step - loss: 0.5752 - accuracy: 0.7550 - val_loss: 0.5827 - val_accuracy: 0.7477\n"
          ]
        }
      ]
    },
    {
      "cell_type": "markdown",
      "source": [
        "### Model 2: Token GRUs with attention"
      ],
      "metadata": {
        "id": "dgINi3QOr_Gp"
      }
    },
    {
      "cell_type": "markdown",
      "source": [
        "#### Creating dataset"
      ],
      "metadata": {
        "id": "M5boius-sDKp"
      }
    },
    {
      "cell_type": "code",
      "source": [
        "train_token_data=tf.data.Dataset.from_tensor_slices((xtrain['question1'].values,\n",
        "                                               xtrain['question2'].values))\n",
        "train_token_labels=tf.data.Dataset.from_tensor_slices(ytrain.apply(pd.to_numeric).values)\n",
        "train_token_dataset=tf.data.Dataset.zip((train_token_data,train_token_labels))\n",
        "train_token_dataset=train_token_dataset.shuffle(1000).batch(32).prefetch(tf.data.AUTOTUNE)\n",
        "\n",
        "\n",
        "\n",
        "val_token_data=tf.data.Dataset.from_tensor_slices((xval['question1'].values,\n",
        "                                               xval['question2'].values))\n",
        "val_token_labels=tf.data.Dataset.from_tensor_slices(yval.apply(pd.to_numeric).values)\n",
        "val_token_dataset=tf.data.Dataset.zip((val_token_data,val_token_labels))\n",
        "val_token_dataset=val_token_dataset.shuffle(1000).batch(32).prefetch(tf.data.AUTOTUNE)\n",
        "\n",
        "\n",
        "\n",
        "test_token_data=tf.data.Dataset.from_tensor_slices((xtest['question1'].values,\n",
        "                                               xtest['question2'].values))\n",
        "test_token_labels=tf.data.Dataset.from_tensor_slices(ytest.apply(pd.to_numeric).values)\n",
        "test_token_dataset=tf.data.Dataset.zip((test_token_data,test_token_labels))\n",
        "test_token_dataset=test_token_dataset.shuffle(1000).batch(32).prefetch(tf.data.AUTOTUNE)"
      ],
      "metadata": {
        "id": "RGxzBlYxsFct"
      },
      "execution_count": null,
      "outputs": []
    },
    {
      "cell_type": "markdown",
      "source": [
        "#### Model"
      ],
      "metadata": {
        "id": "Fx275xmqsaxU"
      }
    },
    {
      "cell_type": "code",
      "source": [
        "q1_token_inputs=tf.keras.layers.Input(shape=(),dtype=tf.string)\n",
        "q1_preprocessor=q1_text_vectorizer(q1_token_inputs)\n",
        "q1_embed=q1_embedding(q1_preprocessor)\n",
        "\n",
        "\n",
        "q2_token_inputs=tf.keras.layers.Input(shape=(),dtype=tf.string)\n",
        "q2_preprocessor=q2_text_vectorizer(q2_token_inputs)\n",
        "q2_embed=q2_embedding(q2_preprocessor)\n",
        "\n",
        "dot_product_embed = tf.keras.layers.Dot(axes=2)([q1_embed, q2_embed])\n",
        "attention_weights_q1_embed = tf.keras.layers.Softmax()(dot_product_embed)\n",
        "q1_weighted_embed = tf.keras.layers.Dot(axes=1)([attention_weights_q1_embed, q1_embed])\n",
        "\n",
        "attention_weights_q2_embed = tf.keras.layers.Softmax()(dot_product_embed)\n",
        "q2_weighted_embed = tf.keras.layers.Dot(axes=1)([attention_weights_q2_embed, q2_embed])\n",
        "\n",
        "\n",
        "q1_gru1=tf.keras.layers.Bidirectional(tf.keras.layers.GRU(128,activation='tanh',return_sequences=True))(q1_weighted_embed)\n",
        "q1_gru2=tf.keras.layers.Bidirectional(tf.keras.layers.GRU(64,activation='tanh',return_sequences=True))(q1_gru1)\n",
        "q2_gru1=tf.keras.layers.Bidirectional(tf.keras.layers.GRU(128,activation='tanh',return_sequences=True))(q2_weighted_embed)\n",
        "q2_gru2=tf.keras.layers.Bidirectional(tf.keras.layers.GRU(64,activation='tanh',return_sequences=True))(q2_gru1)\n",
        "\n",
        "dot_product = tf.keras.layers.Dot(axes=2)([q2_gru2, q1_gru2])\n",
        "attention_weights_q1 = tf.keras.layers.Softmax()(dot_product)\n",
        "attention_weights_q2 = tf.keras.layers.Softmax()(dot_product)\n",
        "\n",
        "q1_weighted = tf.keras.layers.Dot(axes=1)([attention_weights_q1, q1_gru2])\n",
        "q2_weighted = tf.keras.layers.Dot(axes=1)([attention_weights_q2, q2_gru2])\n",
        "\n",
        "q1_q2_token_concat=tf.keras.layers.Concatenate()([q2_weighted,\n",
        "                               q1_weighted])\n",
        "\n",
        "combined_token_gru1=tf.keras.layers.Bidirectional(tf.keras.layers.GRU(128,activation='tanh',return_sequences=True))(q1_q2_token_concat)\n",
        "combined_token_gru2=tf.keras.layers.Bidirectional(tf.keras.layers.GRU(64,activation='tanh',return_sequences=True))(combined_token_gru1)\n",
        "combined_token_gru3=tf.keras.layers.Bidirectional(tf.keras.layers.GRU(64,activation='tanh'))(combined_token_gru2)\n",
        "\n",
        "\n",
        "combined_dense1=tf.keras.layers.Dense(64,activation='relu')(combined_token_gru3)\n",
        "output=tf.keras.layers.Dense(1,activation='sigmoid')(combined_dense1)\n",
        "\n",
        "model2=tf.keras.Model(inputs=[q1_token_inputs,q2_token_inputs],\n",
        "                      outputs=output,\n",
        "                      name='Model2')"
      ],
      "metadata": {
        "id": "JK53p3RNsb5b"
      },
      "execution_count": null,
      "outputs": []
    },
    {
      "cell_type": "code",
      "source": [
        "model2.summary()"
      ],
      "metadata": {
        "colab": {
          "base_uri": "https://localhost:8080/"
        },
        "id": "B0P-XPT-s9iP",
        "outputId": "65cd9ca2-3bb1-401d-ef62-dfdc708fd484"
      },
      "execution_count": null,
      "outputs": [
        {
          "output_type": "stream",
          "name": "stdout",
          "text": [
            "Model: \"Model2\"\n",
            "__________________________________________________________________________________________________\n",
            " Layer (type)                   Output Shape         Param #     Connected to                     \n",
            "==================================================================================================\n",
            " input_33 (InputLayer)          [(None,)]            0           []                               \n",
            "                                                                                                  \n",
            " input_34 (InputLayer)          [(None,)]            0           []                               \n",
            "                                                                                                  \n",
            " text_vectorization (TextVector  (None, 33)          0           ['input_33[0][0]']               \n",
            " ization)                                                                                         \n",
            "                                                                                                  \n",
            " text_vectorization_1 (TextVect  (None, 33)          0           ['input_34[0][0]']               \n",
            " orization)                                                                                       \n",
            "                                                                                                  \n",
            " q1_token_embedding (Embedding)  (None, 33, 300)     17713800    ['text_vectorization[16][0]']    \n",
            "                                                                                                  \n",
            " q2_token_embedding (Embedding)  (None, 33, 300)     16316100    ['text_vectorization_1[16][0]']  \n",
            "                                                                                                  \n",
            " dot_37 (Dot)                   (None, 33, 33)       0           ['q1_token_embedding[16][0]',    \n",
            "                                                                  'q2_token_embedding[16][0]']    \n",
            "                                                                                                  \n",
            " softmax_20 (Softmax)           (None, 33, 33)       0           ['dot_37[0][0]']                 \n",
            "                                                                                                  \n",
            " softmax_19 (Softmax)           (None, 33, 33)       0           ['dot_37[0][0]']                 \n",
            "                                                                                                  \n",
            " dot_39 (Dot)                   (None, 33, 300)      0           ['softmax_20[0][0]',             \n",
            "                                                                  'q2_token_embedding[16][0]']    \n",
            "                                                                                                  \n",
            " dot_38 (Dot)                   (None, 33, 300)      0           ['softmax_19[0][0]',             \n",
            "                                                                  'q1_token_embedding[16][0]']    \n",
            "                                                                                                  \n",
            " bidirectional_81 (Bidirectiona  (None, 33, 256)     330240      ['dot_39[0][0]']                 \n",
            " l)                                                                                               \n",
            "                                                                                                  \n",
            " bidirectional_79 (Bidirectiona  (None, 33, 256)     330240      ['dot_38[0][0]']                 \n",
            " l)                                                                                               \n",
            "                                                                                                  \n",
            " bidirectional_82 (Bidirectiona  (None, 33, 128)     123648      ['bidirectional_81[0][0]']       \n",
            " l)                                                                                               \n",
            "                                                                                                  \n",
            " bidirectional_80 (Bidirectiona  (None, 33, 128)     123648      ['bidirectional_79[0][0]']       \n",
            " l)                                                                                               \n",
            "                                                                                                  \n",
            " dot_40 (Dot)                   (None, 33, 33)       0           ['bidirectional_82[0][0]',       \n",
            "                                                                  'bidirectional_80[0][0]']       \n",
            "                                                                                                  \n",
            " softmax_22 (Softmax)           (None, 33, 33)       0           ['dot_40[0][0]']                 \n",
            "                                                                                                  \n",
            " softmax_21 (Softmax)           (None, 33, 33)       0           ['dot_40[0][0]']                 \n",
            "                                                                                                  \n",
            " dot_42 (Dot)                   (None, 33, 128)      0           ['softmax_22[0][0]',             \n",
            "                                                                  'bidirectional_82[0][0]']       \n",
            "                                                                                                  \n",
            " dot_41 (Dot)                   (None, 33, 128)      0           ['softmax_21[0][0]',             \n",
            "                                                                  'bidirectional_80[0][0]']       \n",
            "                                                                                                  \n",
            " concatenate_6 (Concatenate)    (None, 33, 256)      0           ['dot_42[0][0]',                 \n",
            "                                                                  'dot_41[0][0]']                 \n",
            "                                                                                                  \n",
            " bidirectional_83 (Bidirectiona  (None, 33, 256)     296448      ['concatenate_6[0][0]']          \n",
            " l)                                                                                               \n",
            "                                                                                                  \n",
            " bidirectional_84 (Bidirectiona  (None, 33, 128)     123648      ['bidirectional_83[0][0]']       \n",
            " l)                                                                                               \n",
            "                                                                                                  \n",
            " bidirectional_85 (Bidirectiona  (None, 128)         74496       ['bidirectional_84[0][0]']       \n",
            " l)                                                                                               \n",
            "                                                                                                  \n",
            " dense_28 (Dense)               (None, 64)           8256        ['bidirectional_85[0][0]']       \n",
            "                                                                                                  \n",
            " dense_29 (Dense)               (None, 1)            65          ['dense_28[0][0]']               \n",
            "                                                                                                  \n",
            "==================================================================================================\n",
            "Total params: 35,440,589\n",
            "Trainable params: 1,410,689\n",
            "Non-trainable params: 34,029,900\n",
            "__________________________________________________________________________________________________\n"
          ]
        }
      ]
    },
    {
      "cell_type": "code",
      "source": [
        "from tensorflow.keras.utils import plot_model\n",
        "plot_model(model2,show_shapes=True)"
      ],
      "metadata": {
        "colab": {
          "base_uri": "https://localhost:8080/",
          "height": 1000
        },
        "id": "Iv-wEKH8s83U",
        "outputId": "cdebe6b1-d70a-461e-aad6-11138d7f11d1"
      },
      "execution_count": null,
      "outputs": [
        {
          "output_type": "execute_result",
          "data": {
            "image/png": "[encoded data removed]",
            "text/plain": [
              "<IPython.core.display.Image object>"
            ]
          },
          "metadata": {},
          "execution_count": 117
        }
      ]
    },
    {
      "cell_type": "code",
      "source": [
        "model2.compile(loss=tf.keras.losses.BinaryCrossentropy(label_smoothing=0.2),\n",
        "               optimizer=tf.keras.optimizers.Adam(lr=0.001),\n",
        "               metrics=['accuracy'])"
      ],
      "metadata": {
        "colab": {
          "base_uri": "https://localhost:8080/"
        },
        "id": "8HLU_Nuls7ak",
        "outputId": "d0b81907-1fc4-44e8-bdbc-c2e108dbe25f"
      },
      "execution_count": null,
      "outputs": [
        {
          "output_type": "stream",
          "name": "stderr",
          "text": [
            "WARNING:absl:`lr` is deprecated, please use `learning_rate` instead, or use the legacy optimizer, e.g.,tf.keras.optimizers.legacy.Adam.\n"
          ]
        }
      ]
    },
    {
      "cell_type": "code",
      "source": [
        "history2=model2.fit(train_token_dataset,\n",
        "                    epochs=5,\n",
        "                    steps_per_epoch=int(0.2*len(train_token_dataset)),\n",
        "                    validation_data=val_token_dataset,\n",
        "                    validation_steps=int(0.2*len(val_token_dataset)))"
      ],
      "metadata": {
        "colab": {
          "base_uri": "https://localhost:8080/"
        },
        "id": "7mDRoBDdsapq",
        "outputId": "c217a6d9-b2bd-424c-e5d6-669f0534df93"
      },
      "execution_count": null,
      "outputs": [
        {
          "output_type": "stream",
          "name": "stdout",
          "text": [
            "Epoch 1/5\n",
            "2147/2147 [==============================] - 76s 35ms/step - loss: 0.5070 - accuracy: 0.8297 - val_loss: 0.5335 - val_accuracy: 0.8062\n",
            "Epoch 2/5\n",
            "2147/2147 [==============================] - 76s 35ms/step - loss: 0.5021 - accuracy: 0.8352 - val_loss: 0.5394 - val_accuracy: 0.7961\n",
            "Epoch 3/5\n",
            "2147/2147 [==============================] - 76s 36ms/step - loss: 0.5005 - accuracy: 0.8359 - val_loss: 0.5358 - val_accuracy: 0.7981\n",
            "Epoch 4/5\n",
            "2147/2147 [==============================] - 77s 36ms/step - loss: 0.5012 - accuracy: 0.8355 - val_loss: 0.5290 - val_accuracy: 0.8052\n",
            "Epoch 5/5\n",
            "2147/2147 [==============================] - 77s 36ms/step - loss: 0.4944 - accuracy: 0.8441 - val_loss: 0.5416 - val_accuracy: 0.7961\n"
          ]
        }
      ]
    },
    {
      "cell_type": "markdown",
      "source": [
        "### Model 3: Token-Char GRUs"
      ],
      "metadata": {
        "id": "DRmBGde3Qrin"
      }
    },
    {
      "cell_type": "markdown",
      "source": [
        "#### Creating Dataset pipeline"
      ],
      "metadata": {
        "id": "JHpBFKJTN3lX"
      }
    },
    {
      "cell_type": "code",
      "source": [
        "train_data=tf.data.Dataset.from_tensor_slices((xtrain['question1'].values,\n",
        "                                               xtrain['question2'].values,\n",
        "                                               xtrain['charq1'].values,\n",
        "                                               xtrain['charq2'].values))\n",
        "train_labels=tf.data.Dataset.from_tensor_slices(ytrain.apply(pd.to_numeric).values)\n",
        "train_dataset=tf.data.Dataset.zip((train_data,train_labels))\n",
        "train_dataset=train_dataset.shuffle(1000).batch(32).prefetch(tf.data.AUTOTUNE)\n",
        "\n",
        "\n",
        "\n",
        "val_data=tf.data.Dataset.from_tensor_slices((xval['question1'].values,\n",
        "                                               xval['question2'].values,\n",
        "                                             xval['charq1'].values,\n",
        "                                             xval['charq2'].values))\n",
        "val_labels=tf.data.Dataset.from_tensor_slices(yval.apply(pd.to_numeric).values)\n",
        "val_dataset=tf.data.Dataset.zip((val_data,val_labels))\n",
        "val_dataset=val_dataset.shuffle(1000).batch(32).prefetch(tf.data.AUTOTUNE)\n",
        "\n",
        "\n",
        "\n",
        "test_data=tf.data.Dataset.from_tensor_slices((xtest['question1'].values,\n",
        "                                               xtest['question2'].values,\n",
        "                                              xtest['charq1'].values,\n",
        "                                              xtest['charq2'].values))\n",
        "test_labels=tf.data.Dataset.from_tensor_slices(ytest.apply(pd.to_numeric).values)\n",
        "test_dataset=tf.data.Dataset.zip((test_data,test_labels))\n",
        "test_dataset=test_dataset.shuffle(1000).batch(32).prefetch(tf.data.AUTOTUNE)"
      ],
      "metadata": {
        "id": "wWWbIJ0MNn9K"
      },
      "execution_count": null,
      "outputs": []
    },
    {
      "cell_type": "markdown",
      "source": [
        "#### Model"
      ],
      "metadata": {
        "id": "LdrSN7FCqioY"
      }
    },
    {
      "cell_type": "code",
      "source": [
        "q1_token_inputs=tf.keras.layers.Input(shape=(),dtype=tf.string)\n",
        "q1_preprocessor=q1_text_vectorizer(q1_token_inputs)\n",
        "q1_embed=q1_embedding(q1_preprocessor)\n",
        "q1_gru1=tf.keras.layers.Bidirectional(tf.keras.layers.GRU(128,activation='tanh',return_sequences=True))(q1_embed)\n",
        "q1_gru2=tf.keras.layers.Bidirectional(tf.keras.layers.GRU(64,activation='tanh',return_sequences=True))(q1_gru1)\n",
        "q1_token_model=tf.keras.Model(q1_token_inputs,q1_gru2)\n",
        "\n",
        "q2_token_inputs=tf.keras.layers.Input(shape=(),dtype=tf.string)\n",
        "q2_preprocessor=q2_text_vectorizer(q2_token_inputs)\n",
        "q2_embed=q2_embedding(q2_preprocessor)\n",
        "q2_gru1=tf.keras.layers.Bidirectional(tf.keras.layers.GRU(128,activation='tanh',return_sequences=True))(q2_embed)\n",
        "q2_gru2=tf.keras.layers.Bidirectional(tf.keras.layers.GRU(64,activation='tanh',return_sequences=True))(q2_gru1)\n",
        "q2_token_model=tf.keras.Model(q2_token_inputs,q2_gru2)\n",
        "\n",
        "\n",
        "q1_char_inputs=tf.keras.layers.Input(shape=(1,),dtype=tf.string)\n",
        "q1_char_preprocessor=char_vectorizer_q1(q1_char_inputs)\n",
        "q1_char_embed=char_embedding_q1(q1_char_preprocessor)\n",
        "q1_char_gru1=tf.keras.layers.Bidirectional(tf.keras.layers.GRU(128,activation='tanh',return_sequences=True))(q1_char_embed)\n",
        "q1_char_gru2=tf.keras.layers.Bidirectional(tf.keras.layers.GRU(64,activation='tanh',return_sequences=True))(q1_char_gru1)\n",
        "q1_char_model=tf.keras.Model(q1_char_inputs,q1_char_gru2)\n",
        "\n",
        "q2_char_inputs=tf.keras.layers.Input(shape=(1,),dtype=tf.string)\n",
        "q2_char_preprocessor=char_vectorizer_q2(q2_char_inputs)\n",
        "q2_char_embed=char_embedding_q2(q2_char_preprocessor)\n",
        "q2_char_gru1=tf.keras.layers.Bidirectional(tf.keras.layers.GRU(128,activation='tanh',return_sequences=True))(q2_char_embed)\n",
        "q2_char_gru2=tf.keras.layers.Bidirectional(tf.keras.layers.GRU(64,activation='tanh',return_sequences=True))(q2_char_gru1)\n",
        "q2_char_model=tf.keras.Model(q2_char_inputs,q2_char_gru2)\n",
        "\n",
        "\n",
        "q1_q2_token_concat=tf.keras.layers.Concatenate()([q1_token_model.output,\n",
        "                               q2_token_model.output])\n",
        "\n",
        "combined_token_gru1=tf.keras.layers.Bidirectional(tf.keras.layers.GRU(128,activation='tanh',return_sequences=True))(q1_q2_token_concat)\n",
        "combined_token_gru2=tf.keras.layers.Bidirectional(tf.keras.layers.GRU(64,activation='tanh',return_sequences=True))(combined_token_gru1)\n",
        "combined_token_gru3=tf.keras.layers.Bidirectional(tf.keras.layers.GRU(64,activation='tanh'))(combined_token_gru2)\n",
        "\n",
        "q1_q2_char_concat=tf.keras.layers.Concatenate()([q1_char_model.output,\n",
        "                               q2_char_model.output])\n",
        "\n",
        "combined_char_gru1=tf.keras.layers.Bidirectional(tf.keras.layers.GRU(128,activation='tanh',return_sequences=True))(q1_q2_char_concat)\n",
        "combined_char_gru2=tf.keras.layers.Bidirectional(tf.keras.layers.GRU(64,activation='tanh',return_sequences=True))(combined_char_gru1)\n",
        "combined_char_gru3=tf.keras.layers.Bidirectional(tf.keras.layers.GRU(64,activation='tanh'))(combined_char_gru2)\n",
        "\n",
        "\n",
        "token_char_concat=tf.keras.layers.Concatenate()([combined_token_gru3,\n",
        "                               combined_char_gru3])\n",
        "\n",
        "\n",
        "combined_dense1=tf.keras.layers.Dense(64,activation='relu')(token_char_concat)\n",
        "output=tf.keras.layers.Dense(1,activation='sigmoid')(combined_dense1)\n",
        "\n",
        "model3=tf.keras.Model(inputs=[q1_token_model.input,q2_token_model.input,q1_char_model.input,q2_char_model.input],\n",
        "                      outputs=output,\n",
        "                      name='Model3')"
      ],
      "metadata": {
        "id": "QCSz-xg3Qzct"
      },
      "execution_count": null,
      "outputs": []
    },
    {
      "cell_type": "code",
      "source": [
        "model3.summary()"
      ],
      "metadata": {
        "id": "sIi1Ph1OS6KV"
      },
      "execution_count": null,
      "outputs": []
    },
    {
      "cell_type": "code",
      "source": [
        "from tensorflow.keras.utils import plot_model\n",
        "plot_model(model3,show_shapes=True)"
      ],
      "metadata": {
        "id": "FRDJO19AVXrB"
      },
      "execution_count": null,
      "outputs": []
    },
    {
      "cell_type": "code",
      "source": [
        "model3.compile(loss=tf.keras.losses.BinaryCrossentropy(label_smoothing=0.2),\n",
        "               optimizer=tf.keras.optimizers.Adam(lr=0.001),\n",
        "               metrics=['accuracy'])"
      ],
      "metadata": {
        "id": "uLSuY_klVdah",
        "colab": {
          "base_uri": "https://localhost:8080/"
        },
        "outputId": "97e40b8e-967a-4dfe-a054-33a2f2d51b7a"
      },
      "execution_count": null,
      "outputs": [
        {
          "output_type": "stream",
          "name": "stderr",
          "text": [
            "WARNING:absl:`lr` is deprecated, please use `learning_rate` instead, or use the legacy optimizer, e.g.,tf.keras.optimizers.legacy.Adam.\n"
          ]
        }
      ]
    },
    {
      "cell_type": "code",
      "source": [
        "history3=model3.fit(train_dataset,\n",
        "                    epochs=5,\n",
        "                    validation_data=val_dataset,\n",
        "                    validation_steps=int(0.2*len(val_dataset)))"
      ],
      "metadata": {
        "colab": {
          "base_uri": "https://localhost:8080/",
          "height": 574
        },
        "id": "K1Zlwgw7Vvl9",
        "outputId": "2b29fdf3-7606-4a93-c579-278f0233cfe5"
      },
      "execution_count": null,
      "outputs": [
        {
          "output_type": "stream",
          "name": "stdout",
          "text": [
            "Epoch 1/5\n",
            "9476/9476 [==============================] - 1511s 151ms/step - loss: 0.5816 - accuracy: 0.7453 - val_loss: 0.5594 - val_accuracy: 0.7763\n",
            "Epoch 2/5\n",
            "9476/9476 [==============================] - 1433s 151ms/step - loss: 0.5381 - accuracy: 0.7956 - val_loss: 0.5429 - val_accuracy: 0.7910\n",
            "Epoch 3/5\n",
            "9476/9476 [==============================] - 1413s 149ms/step - loss: 0.5088 - accuracy: 0.8298 - val_loss: 0.5432 - val_accuracy: 0.8003\n",
            "Epoch 4/5\n",
            "9476/9476 [==============================] - 1397s 147ms/step - loss: 0.4861 - accuracy: 0.8547 - val_loss: 0.5491 - val_accuracy: 0.7957\n",
            "Epoch 5/5\n",
            " 431/9476 [>.............................] - ETA: 21:59 - loss: 0.4754 - accuracy: 0.8671"
          ]
        },
        {
          "output_type": "error",
          "ename": "KeyboardInterrupt",
          "evalue": "ignored",
          "traceback": [
            "\u001b[0;31m---------------------------------------------------------------------------\u001b[0m",
            "\u001b[0;31mKeyboardInterrupt\u001b[0m                         Traceback (most recent call last)",
            "\u001b[0;32m<ipython-input-78-d27beec75dd4>\u001b[0m in \u001b[0;36m<module>\u001b[0;34m\u001b[0m\n\u001b[0;32m----> 1\u001b[0;31m history3=model3.fit(train_dataset,\n\u001b[0m\u001b[1;32m      2\u001b[0m                     \u001b[0mepochs\u001b[0m\u001b[0;34m=\u001b[0m\u001b[0;36m5\u001b[0m\u001b[0;34m,\u001b[0m\u001b[0;34m\u001b[0m\u001b[0;34m\u001b[0m\u001b[0m\n\u001b[1;32m      3\u001b[0m                     \u001b[0mvalidation_data\u001b[0m\u001b[0;34m=\u001b[0m\u001b[0mval_dataset\u001b[0m\u001b[0;34m,\u001b[0m\u001b[0;34m\u001b[0m\u001b[0;34m\u001b[0m\u001b[0m\n\u001b[1;32m      4\u001b[0m                     validation_steps=int(0.2*len(val_dataset)))\n",
            "\u001b[0;32m/usr/local/lib/python3.9/dist-packages/keras/utils/traceback_utils.py\u001b[0m in \u001b[0;36merror_handler\u001b[0;34m(*args, **kwargs)\u001b[0m\n\u001b[1;32m     63\u001b[0m         \u001b[0mfiltered_tb\u001b[0m \u001b[0;34m=\u001b[0m \u001b[0;32mNone\u001b[0m\u001b[0;34m\u001b[0m\u001b[0;34m\u001b[0m\u001b[0m\n\u001b[1;32m     64\u001b[0m         \u001b[0;32mtry\u001b[0m\u001b[0;34m:\u001b[0m\u001b[0;34m\u001b[0m\u001b[0;34m\u001b[0m\u001b[0m\n\u001b[0;32m---> 65\u001b[0;31m             \u001b[0;32mreturn\u001b[0m \u001b[0mfn\u001b[0m\u001b[0;34m(\u001b[0m\u001b[0;34m*\u001b[0m\u001b[0margs\u001b[0m\u001b[0;34m,\u001b[0m \u001b[0;34m**\u001b[0m\u001b[0mkwargs\u001b[0m\u001b[0;34m)\u001b[0m\u001b[0;34m\u001b[0m\u001b[0;34m\u001b[0m\u001b[0m\n\u001b[0m\u001b[1;32m     66\u001b[0m         \u001b[0;32mexcept\u001b[0m \u001b[0mException\u001b[0m \u001b[0;32mas\u001b[0m \u001b[0me\u001b[0m\u001b[0;34m:\u001b[0m\u001b[0;34m\u001b[0m\u001b[0;34m\u001b[0m\u001b[0m\n\u001b[1;32m     67\u001b[0m             \u001b[0mfiltered_tb\u001b[0m \u001b[0;34m=\u001b[0m \u001b[0m_process_traceback_frames\u001b[0m\u001b[0;34m(\u001b[0m\u001b[0me\u001b[0m\u001b[0;34m.\u001b[0m\u001b[0m__traceback__\u001b[0m\u001b[0;34m)\u001b[0m\u001b[0;34m\u001b[0m\u001b[0;34m\u001b[0m\u001b[0m\n",
            "\u001b[0;32m/usr/local/lib/python3.9/dist-packages/keras/engine/training.py\u001b[0m in \u001b[0;36mfit\u001b[0;34m(self, x, y, batch_size, epochs, verbose, callbacks, validation_split, validation_data, shuffle, class_weight, sample_weight, initial_epoch, steps_per_epoch, validation_steps, validation_batch_size, validation_freq, max_queue_size, workers, use_multiprocessing)\u001b[0m\n\u001b[1;32m   1648\u001b[0m                         ):\n\u001b[1;32m   1649\u001b[0m                             \u001b[0mcallbacks\u001b[0m\u001b[0;34m.\u001b[0m\u001b[0mon_train_batch_begin\u001b[0m\u001b[0;34m(\u001b[0m\u001b[0mstep\u001b[0m\u001b[0;34m)\u001b[0m\u001b[0;34m\u001b[0m\u001b[0;34m\u001b[0m\u001b[0m\n\u001b[0;32m-> 1650\u001b[0;31m                             \u001b[0mtmp_logs\u001b[0m \u001b[0;34m=\u001b[0m \u001b[0mself\u001b[0m\u001b[0;34m.\u001b[0m\u001b[0mtrain_function\u001b[0m\u001b[0;34m(\u001b[0m\u001b[0miterator\u001b[0m\u001b[0;34m)\u001b[0m\u001b[0;34m\u001b[0m\u001b[0;34m\u001b[0m\u001b[0m\n\u001b[0m\u001b[1;32m   1651\u001b[0m                             \u001b[0;32mif\u001b[0m \u001b[0mdata_handler\u001b[0m\u001b[0;34m.\u001b[0m\u001b[0mshould_sync\u001b[0m\u001b[0;34m:\u001b[0m\u001b[0;34m\u001b[0m\u001b[0;34m\u001b[0m\u001b[0m\n\u001b[1;32m   1652\u001b[0m                                 \u001b[0mcontext\u001b[0m\u001b[0;34m.\u001b[0m\u001b[0masync_wait\u001b[0m\u001b[0;34m(\u001b[0m\u001b[0;34m)\u001b[0m\u001b[0;34m\u001b[0m\u001b[0;34m\u001b[0m\u001b[0m\n",
            "\u001b[0;32m/usr/local/lib/python3.9/dist-packages/tensorflow/python/util/traceback_utils.py\u001b[0m in \u001b[0;36merror_handler\u001b[0;34m(*args, **kwargs)\u001b[0m\n\u001b[1;32m    148\u001b[0m     \u001b[0mfiltered_tb\u001b[0m \u001b[0;34m=\u001b[0m \u001b[0;32mNone\u001b[0m\u001b[0;34m\u001b[0m\u001b[0;34m\u001b[0m\u001b[0m\n\u001b[1;32m    149\u001b[0m     \u001b[0;32mtry\u001b[0m\u001b[0;34m:\u001b[0m\u001b[0;34m\u001b[0m\u001b[0;34m\u001b[0m\u001b[0m\n\u001b[0;32m--> 150\u001b[0;31m       \u001b[0;32mreturn\u001b[0m \u001b[0mfn\u001b[0m\u001b[0;34m(\u001b[0m\u001b[0;34m*\u001b[0m\u001b[0margs\u001b[0m\u001b[0;34m,\u001b[0m \u001b[0;34m**\u001b[0m\u001b[0mkwargs\u001b[0m\u001b[0;34m)\u001b[0m\u001b[0;34m\u001b[0m\u001b[0;34m\u001b[0m\u001b[0m\n\u001b[0m\u001b[1;32m    151\u001b[0m     \u001b[0;32mexcept\u001b[0m \u001b[0mException\u001b[0m \u001b[0;32mas\u001b[0m \u001b[0me\u001b[0m\u001b[0;34m:\u001b[0m\u001b[0;34m\u001b[0m\u001b[0;34m\u001b[0m\u001b[0m\n\u001b[1;32m    152\u001b[0m       \u001b[0mfiltered_tb\u001b[0m \u001b[0;34m=\u001b[0m \u001b[0m_process_traceback_frames\u001b[0m\u001b[0;34m(\u001b[0m\u001b[0me\u001b[0m\u001b[0;34m.\u001b[0m\u001b[0m__traceback__\u001b[0m\u001b[0;34m)\u001b[0m\u001b[0;34m\u001b[0m\u001b[0;34m\u001b[0m\u001b[0m\n",
            "\u001b[0;32m/usr/local/lib/python3.9/dist-packages/tensorflow/python/eager/polymorphic_function/polymorphic_function.py\u001b[0m in \u001b[0;36m__call__\u001b[0;34m(self, *args, **kwds)\u001b[0m\n\u001b[1;32m    878\u001b[0m \u001b[0;34m\u001b[0m\u001b[0m\n\u001b[1;32m    879\u001b[0m       \u001b[0;32mwith\u001b[0m \u001b[0mOptionalXlaContext\u001b[0m\u001b[0;34m(\u001b[0m\u001b[0mself\u001b[0m\u001b[0;34m.\u001b[0m\u001b[0m_jit_compile\u001b[0m\u001b[0;34m)\u001b[0m\u001b[0;34m:\u001b[0m\u001b[0;34m\u001b[0m\u001b[0;34m\u001b[0m\u001b[0m\n\u001b[0;32m--> 880\u001b[0;31m         \u001b[0mresult\u001b[0m \u001b[0;34m=\u001b[0m \u001b[0mself\u001b[0m\u001b[0;34m.\u001b[0m\u001b[0m_call\u001b[0m\u001b[0;34m(\u001b[0m\u001b[0;34m*\u001b[0m\u001b[0margs\u001b[0m\u001b[0;34m,\u001b[0m \u001b[0;34m**\u001b[0m\u001b[0mkwds\u001b[0m\u001b[0;34m)\u001b[0m\u001b[0;34m\u001b[0m\u001b[0;34m\u001b[0m\u001b[0m\n\u001b[0m\u001b[1;32m    881\u001b[0m \u001b[0;34m\u001b[0m\u001b[0m\n\u001b[1;32m    882\u001b[0m       \u001b[0mnew_tracing_count\u001b[0m \u001b[0;34m=\u001b[0m \u001b[0mself\u001b[0m\u001b[0;34m.\u001b[0m\u001b[0mexperimental_get_tracing_count\u001b[0m\u001b[0;34m(\u001b[0m\u001b[0;34m)\u001b[0m\u001b[0;34m\u001b[0m\u001b[0;34m\u001b[0m\u001b[0m\n",
            "\u001b[0;32m/usr/local/lib/python3.9/dist-packages/tensorflow/python/eager/polymorphic_function/polymorphic_function.py\u001b[0m in \u001b[0;36m_call\u001b[0;34m(self, *args, **kwds)\u001b[0m\n\u001b[1;32m    910\u001b[0m       \u001b[0;31m# In this case we have created variables on the first call, so we run the\u001b[0m\u001b[0;34m\u001b[0m\u001b[0;34m\u001b[0m\u001b[0m\n\u001b[1;32m    911\u001b[0m       \u001b[0;31m# defunned version which is guaranteed to never create variables.\u001b[0m\u001b[0;34m\u001b[0m\u001b[0;34m\u001b[0m\u001b[0m\n\u001b[0;32m--> 912\u001b[0;31m       \u001b[0;32mreturn\u001b[0m \u001b[0mself\u001b[0m\u001b[0;34m.\u001b[0m\u001b[0m_no_variable_creation_fn\u001b[0m\u001b[0;34m(\u001b[0m\u001b[0;34m*\u001b[0m\u001b[0margs\u001b[0m\u001b[0;34m,\u001b[0m \u001b[0;34m**\u001b[0m\u001b[0mkwds\u001b[0m\u001b[0;34m)\u001b[0m  \u001b[0;31m# pylint: disable=not-callable\u001b[0m\u001b[0;34m\u001b[0m\u001b[0;34m\u001b[0m\u001b[0m\n\u001b[0m\u001b[1;32m    913\u001b[0m     \u001b[0;32melif\u001b[0m \u001b[0mself\u001b[0m\u001b[0;34m.\u001b[0m\u001b[0m_variable_creation_fn\u001b[0m \u001b[0;32mis\u001b[0m \u001b[0;32mnot\u001b[0m \u001b[0;32mNone\u001b[0m\u001b[0;34m:\u001b[0m\u001b[0;34m\u001b[0m\u001b[0;34m\u001b[0m\u001b[0m\n\u001b[1;32m    914\u001b[0m       \u001b[0;31m# Release the lock early so that multiple threads can perform the call\u001b[0m\u001b[0;34m\u001b[0m\u001b[0;34m\u001b[0m\u001b[0m\n",
            "\u001b[0;32m/usr/local/lib/python3.9/dist-packages/tensorflow/python/eager/polymorphic_function/tracing_compiler.py\u001b[0m in \u001b[0;36m__call__\u001b[0;34m(self, *args, **kwargs)\u001b[0m\n\u001b[1;32m    132\u001b[0m       (concrete_function,\n\u001b[1;32m    133\u001b[0m        filtered_flat_args) = self._maybe_define_function(args, kwargs)\n\u001b[0;32m--> 134\u001b[0;31m     return concrete_function._call_flat(\n\u001b[0m\u001b[1;32m    135\u001b[0m         filtered_flat_args, captured_inputs=concrete_function.captured_inputs)  # pylint: disable=protected-access\n\u001b[1;32m    136\u001b[0m \u001b[0;34m\u001b[0m\u001b[0m\n",
            "\u001b[0;32m/usr/local/lib/python3.9/dist-packages/tensorflow/python/eager/polymorphic_function/monomorphic_function.py\u001b[0m in \u001b[0;36m_call_flat\u001b[0;34m(self, args, captured_inputs, cancellation_manager)\u001b[0m\n\u001b[1;32m   1743\u001b[0m         and executing_eagerly):\n\u001b[1;32m   1744\u001b[0m       \u001b[0;31m# No tape is watching; skip to running the function.\u001b[0m\u001b[0;34m\u001b[0m\u001b[0;34m\u001b[0m\u001b[0m\n\u001b[0;32m-> 1745\u001b[0;31m       return self._build_call_outputs(self._inference_function.call(\n\u001b[0m\u001b[1;32m   1746\u001b[0m           ctx, args, cancellation_manager=cancellation_manager))\n\u001b[1;32m   1747\u001b[0m     forward_backward = self._select_forward_and_backward_functions(\n",
            "\u001b[0;32m/usr/local/lib/python3.9/dist-packages/tensorflow/python/eager/polymorphic_function/monomorphic_function.py\u001b[0m in \u001b[0;36mcall\u001b[0;34m(self, ctx, args, cancellation_manager)\u001b[0m\n\u001b[1;32m    376\u001b[0m       \u001b[0;32mwith\u001b[0m \u001b[0m_InterpolateFunctionError\u001b[0m\u001b[0;34m(\u001b[0m\u001b[0mself\u001b[0m\u001b[0;34m)\u001b[0m\u001b[0;34m:\u001b[0m\u001b[0;34m\u001b[0m\u001b[0;34m\u001b[0m\u001b[0m\n\u001b[1;32m    377\u001b[0m         \u001b[0;32mif\u001b[0m \u001b[0mcancellation_manager\u001b[0m \u001b[0;32mis\u001b[0m \u001b[0;32mNone\u001b[0m\u001b[0;34m:\u001b[0m\u001b[0;34m\u001b[0m\u001b[0;34m\u001b[0m\u001b[0m\n\u001b[0;32m--> 378\u001b[0;31m           outputs = execute.execute(\n\u001b[0m\u001b[1;32m    379\u001b[0m               \u001b[0mstr\u001b[0m\u001b[0;34m(\u001b[0m\u001b[0mself\u001b[0m\u001b[0;34m.\u001b[0m\u001b[0msignature\u001b[0m\u001b[0;34m.\u001b[0m\u001b[0mname\u001b[0m\u001b[0;34m)\u001b[0m\u001b[0;34m,\u001b[0m\u001b[0;34m\u001b[0m\u001b[0;34m\u001b[0m\u001b[0m\n\u001b[1;32m    380\u001b[0m               \u001b[0mnum_outputs\u001b[0m\u001b[0;34m=\u001b[0m\u001b[0mself\u001b[0m\u001b[0;34m.\u001b[0m\u001b[0m_num_outputs\u001b[0m\u001b[0;34m,\u001b[0m\u001b[0;34m\u001b[0m\u001b[0;34m\u001b[0m\u001b[0m\n",
            "\u001b[0;32m/usr/local/lib/python3.9/dist-packages/tensorflow/python/eager/execute.py\u001b[0m in \u001b[0;36mquick_execute\u001b[0;34m(op_name, num_outputs, inputs, attrs, ctx, name)\u001b[0m\n\u001b[1;32m     50\u001b[0m   \u001b[0;32mtry\u001b[0m\u001b[0;34m:\u001b[0m\u001b[0;34m\u001b[0m\u001b[0;34m\u001b[0m\u001b[0m\n\u001b[1;32m     51\u001b[0m     \u001b[0mctx\u001b[0m\u001b[0;34m.\u001b[0m\u001b[0mensure_initialized\u001b[0m\u001b[0;34m(\u001b[0m\u001b[0;34m)\u001b[0m\u001b[0;34m\u001b[0m\u001b[0;34m\u001b[0m\u001b[0m\n\u001b[0;32m---> 52\u001b[0;31m     tensors = pywrap_tfe.TFE_Py_Execute(ctx._handle, device_name, op_name,\n\u001b[0m\u001b[1;32m     53\u001b[0m                                         inputs, attrs, num_outputs)\n\u001b[1;32m     54\u001b[0m   \u001b[0;32mexcept\u001b[0m \u001b[0mcore\u001b[0m\u001b[0;34m.\u001b[0m\u001b[0m_NotOkStatusException\u001b[0m \u001b[0;32mas\u001b[0m \u001b[0me\u001b[0m\u001b[0;34m:\u001b[0m\u001b[0;34m\u001b[0m\u001b[0;34m\u001b[0m\u001b[0m\n",
            "\u001b[0;31mKeyboardInterrupt\u001b[0m: "
          ]
        }
      ]
    },
    {
      "cell_type": "code",
      "source": [
        "+model3.evaluate(val_dataset)"
      ],
      "metadata": {
        "colab": {
          "base_uri": "https://localhost:8080/"
        },
        "id": "xwyXuOz1V_Wy",
        "outputId": "033d935c-2d8a-441f-d2b1-32ed1bde0c89"
      },
      "execution_count": null,
      "outputs": [
        {
          "output_type": "stream",
          "name": "stdout",
          "text": [
            "2843/2843 [==============================] - 60s 21ms/step - loss: 0.5505 - accuracy: 0.7722\n"
          ]
        },
        {
          "output_type": "execute_result",
          "data": {
            "text/plain": [
              "[0.550528883934021, 0.7721735835075378]"
            ]
          },
          "metadata": {},
          "execution_count": 119
        }
      ]
    },
    {
      "cell_type": "code",
      "source": [
        "model3.evaluate(test_dataset)"
      ],
      "metadata": {
        "colab": {
          "base_uri": "https://localhost:8080/"
        },
        "id": "_T-WLcHC6RNV",
        "outputId": "a67297be-d73d-4d68-bc39-3b04ca4d7ae9"
      },
      "execution_count": null,
      "outputs": [
        {
          "output_type": "stream",
          "name": "stdout",
          "text": [
            "316/316 [==============================] - 21s 65ms/step - loss: 0.5389 - accuracy: 0.8023\n"
          ]
        },
        {
          "output_type": "execute_result",
          "data": {
            "text/plain": [
              "[0.5389127135276794, 0.8023347854614258]"
            ]
          },
          "metadata": {},
          "execution_count": 79
        }
      ]
    }
  ]
}