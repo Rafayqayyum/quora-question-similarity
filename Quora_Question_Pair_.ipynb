{
  "cells": [
    {
      "cell_type": "markdown",
      "metadata": {
        "id": "Eo_mOkOJnBLs"
      },
      "source": [
        "# Qura Question Pairs"
      ]
    },
    {
      "cell_type": "markdown",
      "metadata": {
        "id": "cRdxVSdv9_XH"
      },
      "source": [
        "## Importing some Modules"
      ]
    },
    {
      "cell_type": "code",
      "execution_count": 1,
      "metadata": {
        "id": "rx6UmNvc-B5c"
      },
      "outputs": [],
      "source": [
        "import pandas as pd\n",
        "import numpy as np\n",
        "import matplotlib.pyplot as plt\n",
        "import tensorflow as tf\n",
        "from tensorflow.keras.layers import TextVectorization,Embedding\n",
        "from bs4 import BeautifulSoup\n",
        "import re\n",
        "from nltk.corpus import stopwords\n",
        "from gensim.models import Word2Vec\n",
        "from sklearn.metrics.pairwise import cosine_similarity\n",
        "import nltk"
      ]
    },
    {
      "cell_type": "code",
      "execution_count": 2,
      "metadata": {
        "colab": {
          "base_uri": "https://localhost:8080/"
        },
        "id": "di_p-LvQ-IIS",
        "outputId": "f30e8a09-038a-4815-adae-46b9e2dcdf0f"
      },
      "outputs": [
        {
          "output_type": "stream",
          "name": "stderr",
          "text": [
            "[nltk_data] Downloading package stopwords to /root/nltk_data...\n",
            "[nltk_data]   Unzipping corpora/stopwords.zip.\n"
          ]
        },
        {
          "output_type": "execute_result",
          "data": {
            "text/plain": [
              "True"
            ]
          },
          "metadata": {},
          "execution_count": 2
        }
      ],
      "source": [
        "nltk.download('stopwords')"
      ]
    },
    {
      "cell_type": "markdown",
      "metadata": {
        "id": "Rqs9nSWC9xoE"
      },
      "source": [
        "### Downloading the dataset"
      ]
    },
    {
      "cell_type": "code",
      "execution_count": 3,
      "metadata": {
        "colab": {
          "base_uri": "https://localhost:8080/"
        },
        "id": "XI95EWfk7lx7",
        "outputId": "2e120b20-0a84-41f3-9969-b031187d3882"
      },
      "outputs": [
        {
          "output_type": "stream",
          "name": "stdout",
          "text": [
            "--2023-06-02 14:14:45--  http://qim.fs.quoracdn.net/quora_duplicate_questions.tsv\n",
            "Resolving qim.fs.quoracdn.net (qim.fs.quoracdn.net)... 162.159.152.17, 162.159.153.247\n",
            "Connecting to qim.fs.quoracdn.net (qim.fs.quoracdn.net)|162.159.152.17|:80... connected.\n",
            "HTTP request sent, awaiting response... 301 Moved Permanently\n",
            "Location: https://qim.fs.quoracdn.net/quora_duplicate_questions.tsv [following]\n",
            "--2023-06-02 14:14:45--  https://qim.fs.quoracdn.net/quora_duplicate_questions.tsv\n",
            "Connecting to qim.fs.quoracdn.net (qim.fs.quoracdn.net)|162.159.152.17|:443... connected.\n",
            "HTTP request sent, awaiting response... 200 OK\n",
            "Length: 58176133 (55M) [text/tab-separated-values]\n",
            "Saving to: ‘quora_duplicate_questions.tsv’\n",
            "\n",
            "quora_duplicate_que 100%[===================>]  55.48M   348MB/s    in 0.2s    \n",
            "\n",
            "2023-06-02 14:14:45 (348 MB/s) - ‘quora_duplicate_questions.tsv’ saved [58176133/58176133]\n",
            "\n"
          ]
        }
      ],
      "source": [
        "!wget http://qim.fs.quoracdn.net/quora_duplicate_questions.tsv"
      ]
    },
    {
      "cell_type": "code",
      "execution_count": 4,
      "metadata": {
        "colab": {
          "base_uri": "https://localhost:8080/"
        },
        "id": "wYuOZGVfxbHs",
        "outputId": "f47e663f-4b95-4c91-fe1a-7bdfce5b5540"
      },
      "outputs": [
        {
          "output_type": "stream",
          "name": "stdout",
          "text": [
            "--2023-06-02 14:14:45--  https://huggingface.co/stanfordnlp/glove/resolve/main/glove.42B.300d.zip\n",
            "Resolving huggingface.co (huggingface.co)... 18.155.68.44, 18.155.68.121, 18.155.68.38, ...\n",
            "Connecting to huggingface.co (huggingface.co)|18.155.68.44|:443... connected.\n",
            "HTTP request sent, awaiting response... 302 Found\n",
            "Location: https://cdn-lfs.huggingface.co/stanfordnlp/glove/357baac33090f645e71e253b3295ee1b767c98a0336e9a1d99c77e9e33b43c4a?response-content-disposition=attachment%3B+filename*%3DUTF-8%27%27glove.42B.300d.zip%3B+filename%3D%22glove.42B.300d.zip%22%3B&response-content-type=application%2Fzip&Expires=1685973161&Policy=eyJTdGF0ZW1lbnQiOlt7IlJlc291cmNlIjoiaHR0cHM6Ly9jZG4tbGZzLmh1Z2dpbmdmYWNlLmNvL3N0YW5mb3JkbmxwL2dsb3ZlLzM1N2JhYWMzMzA5MGY2NDVlNzFlMjUzYjMyOTVlZTFiNzY3Yzk4YTAzMzZlOWExZDk5Yzc3ZTllMzNiNDNjNGE%7EcmVzcG9uc2UtY29udGVudC1kaXNwb3NpdGlvbj0qJnJlc3BvbnNlLWNvbnRlbnQtdHlwZT0qIiwiQ29uZGl0aW9uIjp7IkRhdGVMZXNzVGhhbiI6eyJBV1M6RXBvY2hUaW1lIjoxNjg1OTczMTYxfX19XX0_&Signature=qmcufqO6HjV-fGE6BsfjUDNs0LP7fngzeMbPulsRCZhotIfrtrq4dAkZUB0JCO1eckd25wCjBDyWsoQa-zPXeGbIJlCdAvqo0pdZZM31ICYcSx3GRgHmRBuRWrZOScMzafbQTtFuSeB4Wnld0Lyi4QYhoeJrg-Xwxfu8btcGdmK43t14aj8IiDll8RoaGfRkNVNWwwx6afQHVgcN82edRz9z3F5MHjEYsf5LXCxgGNkBiEhmInWoC9b7iDFz6ruueBo9T7%7Egd8XxxIjiTywLkg%7EdGEOezZov3VNEuHHftAuYwCehZS4NJE1q5DOjuXy4KedJW4ANG-3ciX4YmSsNAg__&Key-Pair-Id=KVTP0A1DKRTAX [following]\n",
            "--2023-06-02 14:14:46--  https://cdn-lfs.huggingface.co/stanfordnlp/glove/357baac33090f645e71e253b3295ee1b767c98a0336e9a1d99c77e9e33b43c4a?response-content-disposition=attachment%3B+filename*%3DUTF-8%27%27glove.42B.300d.zip%3B+filename%3D%22glove.42B.300d.zip%22%3B&response-content-type=application%2Fzip&Expires=1685973161&Policy=eyJTdGF0ZW1lbnQiOlt7IlJlc291cmNlIjoiaHR0cHM6Ly9jZG4tbGZzLmh1Z2dpbmdmYWNlLmNvL3N0YW5mb3JkbmxwL2dsb3ZlLzM1N2JhYWMzMzA5MGY2NDVlNzFlMjUzYjMyOTVlZTFiNzY3Yzk4YTAzMzZlOWExZDk5Yzc3ZTllMzNiNDNjNGE%7EcmVzcG9uc2UtY29udGVudC1kaXNwb3NpdGlvbj0qJnJlc3BvbnNlLWNvbnRlbnQtdHlwZT0qIiwiQ29uZGl0aW9uIjp7IkRhdGVMZXNzVGhhbiI6eyJBV1M6RXBvY2hUaW1lIjoxNjg1OTczMTYxfX19XX0_&Signature=qmcufqO6HjV-fGE6BsfjUDNs0LP7fngzeMbPulsRCZhotIfrtrq4dAkZUB0JCO1eckd25wCjBDyWsoQa-zPXeGbIJlCdAvqo0pdZZM31ICYcSx3GRgHmRBuRWrZOScMzafbQTtFuSeB4Wnld0Lyi4QYhoeJrg-Xwxfu8btcGdmK43t14aj8IiDll8RoaGfRkNVNWwwx6afQHVgcN82edRz9z3F5MHjEYsf5LXCxgGNkBiEhmInWoC9b7iDFz6ruueBo9T7%7Egd8XxxIjiTywLkg%7EdGEOezZov3VNEuHHftAuYwCehZS4NJE1q5DOjuXy4KedJW4ANG-3ciX4YmSsNAg__&Key-Pair-Id=KVTP0A1DKRTAX\n",
            "Resolving cdn-lfs.huggingface.co (cdn-lfs.huggingface.co)... 18.155.68.98, 18.155.68.94, 18.155.68.128, ...\n",
            "Connecting to cdn-lfs.huggingface.co (cdn-lfs.huggingface.co)|18.155.68.98|:443... connected.\n",
            "HTTP request sent, awaiting response... 200 OK\n",
            "Length: 1877802108 (1.7G) [application/zip]\n",
            "Saving to: ‘glove.42B.300d.zip’\n",
            "\n",
            "glove.42B.300d.zip  100%[===================>]   1.75G  17.4MB/s    in 1m 59s  \n",
            "\n",
            "2023-06-02 14:16:45 (15.1 MB/s) - ‘glove.42B.300d.zip’ saved [1877802108/1877802108]\n",
            "\n"
          ]
        }
      ],
      "source": [
        "!wget https://huggingface.co/stanfordnlp/glove/resolve/main/glove.42B.300d.zip"
      ]
    },
    {
      "cell_type": "markdown",
      "metadata": {
        "id": "hriL_HuD9vaa"
      },
      "source": [
        "### Loading the dataset"
      ]
    },
    {
      "cell_type": "code",
      "execution_count": 5,
      "metadata": {
        "id": "xcWo_kKY8S2D"
      },
      "outputs": [],
      "source": [
        "data=pd.read_csv('/content/quora_duplicate_questions.tsv',delimiter='\\t')"
      ]
    },
    {
      "cell_type": "markdown",
      "metadata": {
        "id": "o8eTvLzt9NWB"
      },
      "source": [
        "## Importing some helper functions"
      ]
    },
    {
      "cell_type": "code",
      "execution_count": 6,
      "metadata": {
        "colab": {
          "base_uri": "https://localhost:8080/"
        },
        "id": "A3D6s6Z098Ja",
        "outputId": "e2e4495b-243e-4498-d97c-6ddab546e760"
      },
      "outputs": [
        {
          "output_type": "stream",
          "name": "stdout",
          "text": [
            "--2023-06-02 14:16:46--  https://raw.githubusercontent.com/mrdbourke/tensorflow-deep-learning/main/extras/helper_functions.py\n",
            "Resolving raw.githubusercontent.com (raw.githubusercontent.com)... 185.199.108.133, 185.199.109.133, 185.199.110.133, ...\n",
            "Connecting to raw.githubusercontent.com (raw.githubusercontent.com)|185.199.108.133|:443... connected.\n",
            "HTTP request sent, awaiting response... 200 OK\n",
            "Length: 10246 (10K) [text/plain]\n",
            "Saving to: ‘helper_functions.py’\n",
            "\n",
            "helper_functions.py 100%[===================>]  10.01K  --.-KB/s    in 0s      \n",
            "\n",
            "2023-06-02 14:16:47 (60.5 MB/s) - ‘helper_functions.py’ saved [10246/10246]\n",
            "\n"
          ]
        }
      ],
      "source": [
        "!wget https://raw.githubusercontent.com/mrdbourke/tensorflow-deep-learning/main/extras/helper_functions.py"
      ]
    },
    {
      "cell_type": "code",
      "execution_count": 7,
      "metadata": {
        "id": "7rK5rUfB968W"
      },
      "outputs": [],
      "source": [
        "from helper_functions import unzip_data,walk_through_dir"
      ]
    },
    {
      "cell_type": "code",
      "execution_count": 8,
      "metadata": {
        "id": "bWjsv7qYxjS_"
      },
      "outputs": [],
      "source": [
        "unzip_data('/content/glove.42B.300d.zip')"
      ]
    },
    {
      "cell_type": "markdown",
      "metadata": {
        "id": "v9I4C2bX97XH"
      },
      "source": [
        "## Exploring the dataset"
      ]
    },
    {
      "cell_type": "code",
      "execution_count": 9,
      "metadata": {
        "colab": {
          "base_uri": "https://localhost:8080/",
          "height": 206
        },
        "id": "Kq_VLejQ-MV6",
        "outputId": "8f149d6f-97e5-4a4a-ad3a-6350cd85304a"
      },
      "outputs": [
        {
          "output_type": "execute_result",
          "data": {
            "text/plain": [
              "   id  qid1  qid2                                          question1  \\\n",
              "0   0     1     2  What is the step by step guide to invest in sh...   \n",
              "1   1     3     4  What is the story of Kohinoor (Koh-i-Noor) Dia...   \n",
              "2   2     5     6  How can I increase the speed of my internet co...   \n",
              "3   3     7     8  Why am I mentally very lonely? How can I solve...   \n",
              "4   4     9    10  Which one dissolve in water quikly sugar, salt...   \n",
              "\n",
              "                                           question2  is_duplicate  \n",
              "0  What is the step by step guide to invest in sh...             0  \n",
              "1  What would happen if the Indian government sto...             0  \n",
              "2  How can Internet speed be increased by hacking...             0  \n",
              "3  Find the remainder when [math]23^{24}[/math] i...             0  \n",
              "4            Which fish would survive in salt water?             0  "
            ],
            "text/html": [
              "\n",
              "  <div id=\"df-46ff3c76-1dc1-4707-b0fa-e9f918345297\">\n",
              "    <div class=\"colab-df-container\">\n",
              "      <div>\n",
              "<style scoped>\n",
              "    .dataframe tbody tr th:only-of-type {\n",
              "        vertical-align: middle;\n",
              "    }\n",
              "\n",
              "    .dataframe tbody tr th {\n",
              "        vertical-align: top;\n",
              "    }\n",
              "\n",
              "    .dataframe thead th {\n",
              "        text-align: right;\n",
              "    }\n",
              "</style>\n",
              "<table border=\"1\" class=\"dataframe\">\n",
              "  <thead>\n",
              "    <tr style=\"text-align: right;\">\n",
              "      <th></th>\n",
              "      <th>id</th>\n",
              "      <th>qid1</th>\n",
              "      <th>qid2</th>\n",
              "      <th>question1</th>\n",
              "      <th>question2</th>\n",
              "      <th>is_duplicate</th>\n",
              "    </tr>\n",
              "  </thead>\n",
              "  <tbody>\n",
              "    <tr>\n",
              "      <th>0</th>\n",
              "      <td>0</td>\n",
              "      <td>1</td>\n",
              "      <td>2</td>\n",
              "      <td>What is the step by step guide to invest in sh...</td>\n",
              "      <td>What is the step by step guide to invest in sh...</td>\n",
              "      <td>0</td>\n",
              "    </tr>\n",
              "    <tr>\n",
              "      <th>1</th>\n",
              "      <td>1</td>\n",
              "      <td>3</td>\n",
              "      <td>4</td>\n",
              "      <td>What is the story of Kohinoor (Koh-i-Noor) Dia...</td>\n",
              "      <td>What would happen if the Indian government sto...</td>\n",
              "      <td>0</td>\n",
              "    </tr>\n",
              "    <tr>\n",
              "      <th>2</th>\n",
              "      <td>2</td>\n",
              "      <td>5</td>\n",
              "      <td>6</td>\n",
              "      <td>How can I increase the speed of my internet co...</td>\n",
              "      <td>How can Internet speed be increased by hacking...</td>\n",
              "      <td>0</td>\n",
              "    </tr>\n",
              "    <tr>\n",
              "      <th>3</th>\n",
              "      <td>3</td>\n",
              "      <td>7</td>\n",
              "      <td>8</td>\n",
              "      <td>Why am I mentally very lonely? How can I solve...</td>\n",
              "      <td>Find the remainder when [math]23^{24}[/math] i...</td>\n",
              "      <td>0</td>\n",
              "    </tr>\n",
              "    <tr>\n",
              "      <th>4</th>\n",
              "      <td>4</td>\n",
              "      <td>9</td>\n",
              "      <td>10</td>\n",
              "      <td>Which one dissolve in water quikly sugar, salt...</td>\n",
              "      <td>Which fish would survive in salt water?</td>\n",
              "      <td>0</td>\n",
              "    </tr>\n",
              "  </tbody>\n",
              "</table>\n",
              "</div>\n",
              "      <button class=\"colab-df-convert\" onclick=\"convertToInteractive('df-46ff3c76-1dc1-4707-b0fa-e9f918345297')\"\n",
              "              title=\"Convert this dataframe to an interactive table.\"\n",
              "              style=\"display:none;\">\n",
              "        \n",
              "  <svg xmlns=\"http://www.w3.org/2000/svg\" height=\"24px\"viewBox=\"0 0 24 24\"\n",
              "       width=\"24px\">\n",
              "    <path d=\"M0 0h24v24H0V0z\" fill=\"none\"/>\n",
              "    <path d=\"M18.56 5.44l.94 2.06.94-2.06 2.06-.94-2.06-.94-.94-2.06-.94 2.06-2.06.94zm-11 1L8.5 8.5l.94-2.06 2.06-.94-2.06-.94L8.5 2.5l-.94 2.06-2.06.94zm10 10l.94 2.06.94-2.06 2.06-.94-2.06-.94-.94-2.06-.94 2.06-2.06.94z\"/><path d=\"M17.41 7.96l-1.37-1.37c-.4-.4-.92-.59-1.43-.59-.52 0-1.04.2-1.43.59L10.3 9.45l-7.72 7.72c-.78.78-.78 2.05 0 2.83L4 21.41c.39.39.9.59 1.41.59.51 0 1.02-.2 1.41-.59l7.78-7.78 2.81-2.81c.8-.78.8-2.07 0-2.86zM5.41 20L4 18.59l7.72-7.72 1.47 1.35L5.41 20z\"/>\n",
              "  </svg>\n",
              "      </button>\n",
              "      \n",
              "  <style>\n",
              "    .colab-df-container {\n",
              "      display:flex;\n",
              "      flex-wrap:wrap;\n",
              "      gap: 12px;\n",
              "    }\n",
              "\n",
              "    .colab-df-convert {\n",
              "      background-color: #E8F0FE;\n",
              "      border: none;\n",
              "      border-radius: 50%;\n",
              "      cursor: pointer;\n",
              "      display: none;\n",
              "      fill: #1967D2;\n",
              "      height: 32px;\n",
              "      padding: 0 0 0 0;\n",
              "      width: 32px;\n",
              "    }\n",
              "\n",
              "    .colab-df-convert:hover {\n",
              "      background-color: #E2EBFA;\n",
              "      box-shadow: 0px 1px 2px rgba(60, 64, 67, 0.3), 0px 1px 3px 1px rgba(60, 64, 67, 0.15);\n",
              "      fill: #174EA6;\n",
              "    }\n",
              "\n",
              "    [theme=dark] .colab-df-convert {\n",
              "      background-color: #3B4455;\n",
              "      fill: #D2E3FC;\n",
              "    }\n",
              "\n",
              "    [theme=dark] .colab-df-convert:hover {\n",
              "      background-color: #434B5C;\n",
              "      box-shadow: 0px 1px 3px 1px rgba(0, 0, 0, 0.15);\n",
              "      filter: drop-shadow(0px 1px 2px rgba(0, 0, 0, 0.3));\n",
              "      fill: #FFFFFF;\n",
              "    }\n",
              "  </style>\n",
              "\n",
              "      <script>\n",
              "        const buttonEl =\n",
              "          document.querySelector('#df-46ff3c76-1dc1-4707-b0fa-e9f918345297 button.colab-df-convert');\n",
              "        buttonEl.style.display =\n",
              "          google.colab.kernel.accessAllowed ? 'block' : 'none';\n",
              "\n",
              "        async function convertToInteractive(key) {\n",
              "          const element = document.querySelector('#df-46ff3c76-1dc1-4707-b0fa-e9f918345297');\n",
              "          const dataTable =\n",
              "            await google.colab.kernel.invokeFunction('convertToInteractive',\n",
              "                                                     [key], {});\n",
              "          if (!dataTable) return;\n",
              "\n",
              "          const docLinkHtml = 'Like what you see? Visit the ' +\n",
              "            '<a target=\"_blank\" href=https://colab.research.google.com/notebooks/data_table.ipynb>data table notebook</a>'\n",
              "            + ' to learn more about interactive tables.';\n",
              "          element.innerHTML = '';\n",
              "          dataTable['output_type'] = 'display_data';\n",
              "          await google.colab.output.renderOutput(dataTable, element);\n",
              "          const docLink = document.createElement('div');\n",
              "          docLink.innerHTML = docLinkHtml;\n",
              "          element.appendChild(docLink);\n",
              "        }\n",
              "      </script>\n",
              "    </div>\n",
              "  </div>\n",
              "  "
            ]
          },
          "metadata": {},
          "execution_count": 9
        }
      ],
      "source": [
        "data.head()"
      ]
    },
    {
      "cell_type": "code",
      "execution_count": 10,
      "metadata": {
        "colab": {
          "base_uri": "https://localhost:8080/",
          "height": 285
        },
        "id": "5zBYcPt-KXkh",
        "outputId": "25010072-6a3f-4509-a1ea-e60f208d7971"
      },
      "outputs": [
        {
          "output_type": "execute_result",
          "data": {
            "text/plain": [
              "            id    qid1    qid2  \\\n",
              "404285  404285  433578  379845   \n",
              "404286  404286   18840  155606   \n",
              "404287  404287  537928  537929   \n",
              "404288  404288  537930  537931   \n",
              "404289  404289  537932  537933   \n",
              "\n",
              "                                                question1  \\\n",
              "404285  How many keywords are there in the Racket prog...   \n",
              "404286          Do you believe there is life after death?   \n",
              "404287                                  What is one coin?   \n",
              "404288  What is the approx annual cost of living while...   \n",
              "404289              What is like to have sex with cousin?   \n",
              "\n",
              "                                                question2  is_duplicate  \n",
              "404285  How many keywords are there in PERL Programmin...             0  \n",
              "404286         Is it true that there is life after death?             1  \n",
              "404287                                  What's this coin?             0  \n",
              "404288  I am having little hairfall problem but I want...             0  \n",
              "404289      What is it like to have sex with your cousin?             0  "
            ],
            "text/html": [
              "\n",
              "  <div id=\"df-22781475-5a94-4691-a131-2ecf342986ba\">\n",
              "    <div class=\"colab-df-container\">\n",
              "      <div>\n",
              "<style scoped>\n",
              "    .dataframe tbody tr th:only-of-type {\n",
              "        vertical-align: middle;\n",
              "    }\n",
              "\n",
              "    .dataframe tbody tr th {\n",
              "        vertical-align: top;\n",
              "    }\n",
              "\n",
              "    .dataframe thead th {\n",
              "        text-align: right;\n",
              "    }\n",
              "</style>\n",
              "<table border=\"1\" class=\"dataframe\">\n",
              "  <thead>\n",
              "    <tr style=\"text-align: right;\">\n",
              "      <th></th>\n",
              "      <th>id</th>\n",
              "      <th>qid1</th>\n",
              "      <th>qid2</th>\n",
              "      <th>question1</th>\n",
              "      <th>question2</th>\n",
              "      <th>is_duplicate</th>\n",
              "    </tr>\n",
              "  </thead>\n",
              "  <tbody>\n",
              "    <tr>\n",
              "      <th>404285</th>\n",
              "      <td>404285</td>\n",
              "      <td>433578</td>\n",
              "      <td>379845</td>\n",
              "      <td>How many keywords are there in the Racket prog...</td>\n",
              "      <td>How many keywords are there in PERL Programmin...</td>\n",
              "      <td>0</td>\n",
              "    </tr>\n",
              "    <tr>\n",
              "      <th>404286</th>\n",
              "      <td>404286</td>\n",
              "      <td>18840</td>\n",
              "      <td>155606</td>\n",
              "      <td>Do you believe there is life after death?</td>\n",
              "      <td>Is it true that there is life after death?</td>\n",
              "      <td>1</td>\n",
              "    </tr>\n",
              "    <tr>\n",
              "      <th>404287</th>\n",
              "      <td>404287</td>\n",
              "      <td>537928</td>\n",
              "      <td>537929</td>\n",
              "      <td>What is one coin?</td>\n",
              "      <td>What's this coin?</td>\n",
              "      <td>0</td>\n",
              "    </tr>\n",
              "    <tr>\n",
              "      <th>404288</th>\n",
              "      <td>404288</td>\n",
              "      <td>537930</td>\n",
              "      <td>537931</td>\n",
              "      <td>What is the approx annual cost of living while...</td>\n",
              "      <td>I am having little hairfall problem but I want...</td>\n",
              "      <td>0</td>\n",
              "    </tr>\n",
              "    <tr>\n",
              "      <th>404289</th>\n",
              "      <td>404289</td>\n",
              "      <td>537932</td>\n",
              "      <td>537933</td>\n",
              "      <td>What is like to have sex with cousin?</td>\n",
              "      <td>What is it like to have sex with your cousin?</td>\n",
              "      <td>0</td>\n",
              "    </tr>\n",
              "  </tbody>\n",
              "</table>\n",
              "</div>\n",
              "      <button class=\"colab-df-convert\" onclick=\"convertToInteractive('df-22781475-5a94-4691-a131-2ecf342986ba')\"\n",
              "              title=\"Convert this dataframe to an interactive table.\"\n",
              "              style=\"display:none;\">\n",
              "        \n",
              "  <svg xmlns=\"http://www.w3.org/2000/svg\" height=\"24px\"viewBox=\"0 0 24 24\"\n",
              "       width=\"24px\">\n",
              "    <path d=\"M0 0h24v24H0V0z\" fill=\"none\"/>\n",
              "    <path d=\"M18.56 5.44l.94 2.06.94-2.06 2.06-.94-2.06-.94-.94-2.06-.94 2.06-2.06.94zm-11 1L8.5 8.5l.94-2.06 2.06-.94-2.06-.94L8.5 2.5l-.94 2.06-2.06.94zm10 10l.94 2.06.94-2.06 2.06-.94-2.06-.94-.94-2.06-.94 2.06-2.06.94z\"/><path d=\"M17.41 7.96l-1.37-1.37c-.4-.4-.92-.59-1.43-.59-.52 0-1.04.2-1.43.59L10.3 9.45l-7.72 7.72c-.78.78-.78 2.05 0 2.83L4 21.41c.39.39.9.59 1.41.59.51 0 1.02-.2 1.41-.59l7.78-7.78 2.81-2.81c.8-.78.8-2.07 0-2.86zM5.41 20L4 18.59l7.72-7.72 1.47 1.35L5.41 20z\"/>\n",
              "  </svg>\n",
              "      </button>\n",
              "      \n",
              "  <style>\n",
              "    .colab-df-container {\n",
              "      display:flex;\n",
              "      flex-wrap:wrap;\n",
              "      gap: 12px;\n",
              "    }\n",
              "\n",
              "    .colab-df-convert {\n",
              "      background-color: #E8F0FE;\n",
              "      border: none;\n",
              "      border-radius: 50%;\n",
              "      cursor: pointer;\n",
              "      display: none;\n",
              "      fill: #1967D2;\n",
              "      height: 32px;\n",
              "      padding: 0 0 0 0;\n",
              "      width: 32px;\n",
              "    }\n",
              "\n",
              "    .colab-df-convert:hover {\n",
              "      background-color: #E2EBFA;\n",
              "      box-shadow: 0px 1px 2px rgba(60, 64, 67, 0.3), 0px 1px 3px 1px rgba(60, 64, 67, 0.15);\n",
              "      fill: #174EA6;\n",
              "    }\n",
              "\n",
              "    [theme=dark] .colab-df-convert {\n",
              "      background-color: #3B4455;\n",
              "      fill: #D2E3FC;\n",
              "    }\n",
              "\n",
              "    [theme=dark] .colab-df-convert:hover {\n",
              "      background-color: #434B5C;\n",
              "      box-shadow: 0px 1px 3px 1px rgba(0, 0, 0, 0.15);\n",
              "      filter: drop-shadow(0px 1px 2px rgba(0, 0, 0, 0.3));\n",
              "      fill: #FFFFFF;\n",
              "    }\n",
              "  </style>\n",
              "\n",
              "      <script>\n",
              "        const buttonEl =\n",
              "          document.querySelector('#df-22781475-5a94-4691-a131-2ecf342986ba button.colab-df-convert');\n",
              "        buttonEl.style.display =\n",
              "          google.colab.kernel.accessAllowed ? 'block' : 'none';\n",
              "\n",
              "        async function convertToInteractive(key) {\n",
              "          const element = document.querySelector('#df-22781475-5a94-4691-a131-2ecf342986ba');\n",
              "          const dataTable =\n",
              "            await google.colab.kernel.invokeFunction('convertToInteractive',\n",
              "                                                     [key], {});\n",
              "          if (!dataTable) return;\n",
              "\n",
              "          const docLinkHtml = 'Like what you see? Visit the ' +\n",
              "            '<a target=\"_blank\" href=https://colab.research.google.com/notebooks/data_table.ipynb>data table notebook</a>'\n",
              "            + ' to learn more about interactive tables.';\n",
              "          element.innerHTML = '';\n",
              "          dataTable['output_type'] = 'display_data';\n",
              "          await google.colab.output.renderOutput(dataTable, element);\n",
              "          const docLink = document.createElement('div');\n",
              "          docLink.innerHTML = docLinkHtml;\n",
              "          element.appendChild(docLink);\n",
              "        }\n",
              "      </script>\n",
              "    </div>\n",
              "  </div>\n",
              "  "
            ]
          },
          "metadata": {},
          "execution_count": 10
        }
      ],
      "source": [
        "data.tail()"
      ]
    },
    {
      "cell_type": "code",
      "execution_count": 11,
      "metadata": {
        "colab": {
          "base_uri": "https://localhost:8080/"
        },
        "id": "g9VSvVrP-NtZ",
        "outputId": "0a0456c7-c2a8-47b2-fa1a-e4cc2a5d7e70"
      },
      "outputs": [
        {
          "output_type": "execute_result",
          "data": {
            "text/plain": [
              "0    255027\n",
              "1    149263\n",
              "Name: is_duplicate, dtype: int64"
            ]
          },
          "metadata": {},
          "execution_count": 11
        }
      ],
      "source": [
        "data['is_duplicate'].value_counts()"
      ]
    },
    {
      "cell_type": "code",
      "execution_count": 12,
      "metadata": {
        "colab": {
          "base_uri": "https://localhost:8080/"
        },
        "id": "h1q84FjJ-Sq2",
        "outputId": "d5685940-7878-47f1-cf10-066963614dc7"
      },
      "outputs": [
        {
          "output_type": "execute_result",
          "data": {
            "text/plain": [
              "(404290, 6)"
            ]
          },
          "metadata": {},
          "execution_count": 12
        }
      ],
      "source": [
        "data.shape"
      ]
    },
    {
      "cell_type": "code",
      "execution_count": 13,
      "metadata": {
        "colab": {
          "base_uri": "https://localhost:8080/"
        },
        "id": "APrvhL9W_UX3",
        "outputId": "d5166c86-909d-42e3-bd48-226b688f2917"
      },
      "outputs": [
        {
          "output_type": "execute_result",
          "data": {
            "text/plain": [
              "id              0\n",
              "qid1            0\n",
              "qid2            0\n",
              "question1       1\n",
              "question2       2\n",
              "is_duplicate    0\n",
              "dtype: int64"
            ]
          },
          "metadata": {},
          "execution_count": 13
        }
      ],
      "source": [
        "data.isna().sum()"
      ]
    },
    {
      "cell_type": "code",
      "execution_count": 14,
      "metadata": {
        "id": "Lg6fcm-H_Vv_"
      },
      "outputs": [],
      "source": [
        "data=data.dropna()"
      ]
    },
    {
      "cell_type": "code",
      "execution_count": 15,
      "metadata": {
        "colab": {
          "base_uri": "https://localhost:8080/"
        },
        "id": "s89y2tmq_YYv",
        "outputId": "740355d6-35e9-4031-efbc-c8eb9031d233"
      },
      "outputs": [
        {
          "output_type": "execute_result",
          "data": {
            "text/plain": [
              "id              0\n",
              "qid1            0\n",
              "qid2            0\n",
              "question1       0\n",
              "question2       0\n",
              "is_duplicate    0\n",
              "dtype: int64"
            ]
          },
          "metadata": {},
          "execution_count": 15
        }
      ],
      "source": [
        "data.isna().sum()"
      ]
    },
    {
      "cell_type": "code",
      "execution_count": 16,
      "metadata": {
        "id": "BfbOZxdfAkyn"
      },
      "outputs": [],
      "source": [
        "question1=data['question1']\n",
        "len_q1=[len(x.split()) for x in question1]"
      ]
    },
    {
      "cell_type": "code",
      "execution_count": 17,
      "metadata": {
        "id": "tnj7dAAbBDz-"
      },
      "outputs": [],
      "source": [
        "question2=data['question2']\n",
        "len_q2=[len(x.split()) for x in question2]"
      ]
    },
    {
      "cell_type": "code",
      "execution_count": 18,
      "metadata": {
        "colab": {
          "base_uri": "https://localhost:8080/",
          "height": 430
        },
        "id": "_xWJeHQPBIGu",
        "outputId": "d54e8057-6e9e-44dc-c2ea-c66816072a68"
      },
      "outputs": [
        {
          "output_type": "display_data",
          "data": {
            "text/plain": [
              "<Figure size 640x480 with 1 Axes>"
            ],
            "image/png": "[encoded data removed]"
          },
          "metadata": {}
        }
      ],
      "source": [
        "plt.hist(len_q1,bins=100);"
      ]
    },
    {
      "cell_type": "code",
      "execution_count": 19,
      "metadata": {
        "colab": {
          "base_uri": "https://localhost:8080/",
          "height": 430
        },
        "id": "uTi3Sej1BhIM",
        "outputId": "0d0762a1-562b-4672-aac2-a40dcafba396"
      },
      "outputs": [
        {
          "output_type": "display_data",
          "data": {
            "text/plain": [
              "<Figure size 640x480 with 1 Axes>"
            ],
            "image/png": "[encoded data removed]"
          },
          "metadata": {}
        }
      ],
      "source": [
        "plt.hist(len_q2,bins=100);"
      ]
    },
    {
      "cell_type": "code",
      "execution_count": 20,
      "metadata": {
        "colab": {
          "base_uri": "https://localhost:8080/"
        },
        "id": "0LIaoEVzBu3R",
        "outputId": "fdde42dc-215c-44b2-9a7a-168c6ab76c54"
      },
      "outputs": [
        {
          "output_type": "execute_result",
          "data": {
            "text/plain": [
              "29.0"
            ]
          },
          "metadata": {},
          "execution_count": 20
        }
      ],
      "source": [
        "max_len_q1=np.percentile(len_q1,99)\n",
        "max_len_q1"
      ]
    },
    {
      "cell_type": "code",
      "execution_count": 21,
      "metadata": {
        "colab": {
          "base_uri": "https://localhost:8080/"
        },
        "id": "Z5LLhdbOBveA",
        "outputId": "06751e2d-9df8-49c8-bf1c-ceeef5d889af"
      },
      "outputs": [
        {
          "output_type": "execute_result",
          "data": {
            "text/plain": [
              "33.0"
            ]
          },
          "metadata": {},
          "execution_count": 21
        }
      ],
      "source": [
        "max_len_q2=np.percentile(len_q2,99)\n",
        "max_len_q2"
      ]
    },
    {
      "cell_type": "markdown",
      "metadata": {
        "id": "PpX0mvru__8h"
      },
      "source": [
        "## Data cleaning functions"
      ]
    },
    {
      "cell_type": "code",
      "execution_count": 22,
      "metadata": {
        "id": "7t_7bmw7lPHI"
      },
      "outputs": [],
      "source": [
        "contraction_mapping = {\"ain't\": \"is not\", \"aren't\": \"are not\",\"can't\": \"cannot\", \"'cause\": \"because\", \"could've\": \"could have\", \"couldn't\": \"could not\",\n",
        "                           \"didn't\": \"did not\", \"doesn't\": \"does not\", \"don't\": \"do not\", \"hadn't\": \"had not\", \"hasn't\": \"has not\", \"haven't\": \"have not\",\n",
        "                           \"he'd\": \"he would\",\"he'll\": \"he will\", \"he's\": \"he is\", \"how'd\": \"how did\", \"how'd'y\": \"how do you\", \"how'll\": \"how will\", \"how's\": \"how is\",\n",
        "                           \"I'd\": \"I would\", \"I'd've\": \"I would have\", \"I'll\": \"I will\", \"I'll've\": \"I will have\",\"I'm\": \"I am\", \"I've\": \"I have\", \"i'd\": \"i would\",\n",
        "                           \"i'd've\": \"i would have\", \"i'll\": \"i will\",  \"i'll've\": \"i will have\",\"i'm\": \"i am\", \"i've\": \"i have\", \"isn't\": \"is not\", \"it'd\": \"it would\",\n",
        "                           \"it'd've\": \"it would have\", \"it'll\": \"it will\", \"it'll've\": \"it will have\",\"it's\": \"it is\", \"let's\": \"let us\", \"ma'am\": \"madam\",\n",
        "                           \"mayn't\": \"may not\", \"might've\": \"might have\",\"mightn't\": \"might not\",\"mightn't've\": \"might not have\", \"must've\": \"must have\",\n",
        "                           \"mustn't\": \"must not\", \"mustn't've\": \"must not have\", \"needn't\": \"need not\", \"needn't've\": \"need not have\",\"o'clock\": \"of the clock\",\n",
        "                           \"oughtn't\": \"ought not\", \"oughtn't've\": \"ought not have\", \"shan't\": \"shall not\", \"sha'n't\": \"shall not\", \"shan't've\": \"shall not have\",\n",
        "                           \"she'd\": \"she would\", \"she'd've\": \"she would have\", \"she'll\": \"she will\", \"she'll've\": \"she will have\", \"she's\": \"she is\",\n",
        "                           \"should've\": \"should have\", \"shouldn't\": \"should not\", \"shouldn't've\": \"should not have\", \"so've\": \"so have\",\"so's\": \"so as\",\n",
        "                           \"this's\": \"this is\",\"that'd\": \"that would\", \"that'd've\": \"that would have\", \"that's\": \"that is\", \"there'd\": \"there would\",\n",
        "                           \"there'd've\": \"there would have\", \"there's\": \"there is\", \"here's\": \"here is\",\"they'd\": \"they would\", \"they'd've\": \"they would have\",\n",
        "                           \"they'll\": \"they will\", \"they'll've\": \"they will have\", \"they're\": \"they are\", \"they've\": \"they have\", \"to've\": \"to have\",\n",
        "                           \"wasn't\": \"was not\", \"we'd\": \"we would\", \"we'd've\": \"we would have\", \"we'll\": \"we will\", \"we'll've\": \"we will have\", \"we're\": \"we are\",\n",
        "                           \"we've\": \"we have\", \"weren't\": \"were not\", \"what'll\": \"what will\", \"what'll've\": \"what will have\", \"what're\": \"what are\",\n",
        "                           \"what's\": \"what is\", \"what've\": \"what have\", \"when's\": \"when is\", \"when've\": \"when have\", \"where'd\": \"where did\", \"where's\": \"where is\",\n",
        "                           \"where've\": \"where have\", \"who'll\": \"who will\", \"who'll've\": \"who will have\", \"who's\": \"who is\", \"who've\": \"who have\",\n",
        "                           \"why's\": \"why is\", \"why've\": \"why have\", \"will've\": \"will have\", \"won't\": \"will not\", \"won't've\": \"will not have\",\n",
        "                           \"would've\": \"would have\", \"wouldn't\": \"would not\", \"wouldn't've\": \"would not have\", \"y'all\": \"you all\",\n",
        "                           \"y'all'd\": \"you all would\",\"y'all'd've\": \"you all would have\",\"y'all're\": \"you all are\",\"y'all've\": \"you all have\",\n",
        "                           \"you'd\": \"you would\", \"you'd've\": \"you would have\", \"you'll\": \"you will\", \"you'll've\": \"you will have\",\n",
        "                           \"you're\": \"you are\", \"you've\": \"you have\"}"
      ]
    },
    {
      "cell_type": "code",
      "execution_count": 23,
      "metadata": {
        "id": "Gnm1Stc-_9j6"
      },
      "outputs": [],
      "source": [
        "stop_words = set(stopwords.words('english')) \n",
        "def text_cleaner(text):\n",
        "    newString = text.lower()\n",
        "    newString = BeautifulSoup(newString, \"lxml\").text\n",
        "    newString = ' '.join([contraction_mapping[t] if t in contraction_mapping else t for t in newString.split(\" \")]) \n",
        "    newString = re.sub(\"[^a-zA-Z]\", \" \", newString)\n",
        "    return ' '.join(newString.split())\n",
        "\n",
        "def remove_stopwords(text):\n",
        "    tokens = [w for w in text.split() if not w in stop_words]  \n",
        "    return (\" \".join(tokens)).strip()"
      ]
    },
    {
      "cell_type": "code",
      "execution_count": 24,
      "metadata": {
        "colab": {
          "base_uri": "https://localhost:8080/",
          "height": 35
        },
        "id": "oDS4xEfcmqRj",
        "outputId": "671a1840-3892-4677-9630-0e62e24853bc"
      },
      "outputs": [
        {
          "output_type": "execute_result",
          "data": {
            "text/plain": [
              "'i am a student at the university of toronto'"
            ],
            "application/vnd.google.colaboratory.intrinsic+json": {
              "type": "string"
            }
          },
          "metadata": {},
          "execution_count": 24
        }
      ],
      "source": [
        "text_cleaner(\"I'm a student at the University of Toronto.\")"
      ]
    },
    {
      "cell_type": "code",
      "execution_count": 25,
      "metadata": {
        "colab": {
          "base_uri": "https://localhost:8080/"
        },
        "id": "lN__glesAhj9",
        "outputId": "ba27e7c4-9acc-493e-c09c-b2ac24140c22"
      },
      "outputs": [
        {
          "output_type": "stream",
          "name": "stderr",
          "text": [
            "<ipython-input-23-b197a37aac6b>:4: MarkupResemblesLocatorWarning: The input looks more like a filename than markup. You may want to open this file and pass the filehandle into Beautiful Soup.\n",
            "  newString = BeautifulSoup(newString, \"lxml\").text\n"
          ]
        }
      ],
      "source": [
        "q1_sentences=data['question1'].apply(text_cleaner)"
      ]
    },
    {
      "cell_type": "code",
      "execution_count": 26,
      "metadata": {
        "colab": {
          "base_uri": "https://localhost:8080/"
        },
        "id": "H23Aulk4E-A-",
        "outputId": "c1bc7516-66d6-42e4-b8b4-e108c41a1a36"
      },
      "outputs": [
        {
          "output_type": "stream",
          "name": "stderr",
          "text": [
            "<ipython-input-23-b197a37aac6b>:4: MarkupResemblesLocatorWarning: The input looks more like a filename than markup. You may want to open this file and pass the filehandle into Beautiful Soup.\n",
            "  newString = BeautifulSoup(newString, \"lxml\").text\n"
          ]
        }
      ],
      "source": [
        "q2_sentences=data['question2'].apply(text_cleaner)"
      ]
    },
    {
      "cell_type": "markdown",
      "metadata": {
        "id": "vz-hTQ5BBMdE"
      },
      "source": [
        "## Creating new dataframe"
      ]
    },
    {
      "cell_type": "code",
      "execution_count": 27,
      "metadata": {
        "id": "J0e4bj0nBO4I"
      },
      "outputs": [],
      "source": [
        "labels=data['is_duplicate']\n",
        "cleaned_data=pd.DataFrame([q1_sentences,q2_sentences,labels]).transpose()"
      ]
    },
    {
      "cell_type": "markdown",
      "metadata": {
        "id": "FgXoShPwG_Ed"
      },
      "source": [
        "## Checking Average sentence length after cleaning"
      ]
    },
    {
      "cell_type": "code",
      "execution_count": 28,
      "metadata": {
        "id": "gynehn1vHIzn"
      },
      "outputs": [],
      "source": [
        "len_q1=[len(x.split()) for x in q1_sentences]\n",
        "len_q2=[len(x.split()) for x in q2_sentences]"
      ]
    },
    {
      "cell_type": "code",
      "execution_count": 29,
      "metadata": {
        "colab": {
          "base_uri": "https://localhost:8080/"
        },
        "id": "cOFh_MYrHSau",
        "outputId": "4e9844a9-5901-46fe-b03d-99e0a9af85be"
      },
      "outputs": [
        {
          "output_type": "execute_result",
          "data": {
            "text/plain": [
              "33"
            ]
          },
          "metadata": {},
          "execution_count": 29
        }
      ],
      "source": [
        "max_len_q2=int(np.percentile(len_q2,99))\n",
        "max_len_q2"
      ]
    },
    {
      "cell_type": "code",
      "execution_count": 30,
      "metadata": {
        "id": "eiUQqnBFHTYl"
      },
      "outputs": [],
      "source": [
        "max_len_q1=int(np.percentile(len_q1,99))\n",
        "max_len_q1=max_len_q2"
      ]
    },
    {
      "cell_type": "code",
      "execution_count": 31,
      "metadata": {
        "colab": {
          "base_uri": "https://localhost:8080/"
        },
        "id": "Af9eqAOOkXzd",
        "outputId": "33326108-4954-4493-e25f-cc8a5ea4d4ed"
      },
      "outputs": [
        {
          "output_type": "execute_result",
          "data": {
            "text/plain": [
              "33"
            ]
          },
          "metadata": {},
          "execution_count": 31
        }
      ],
      "source": [
        "max_len_q1"
      ]
    },
    {
      "cell_type": "markdown",
      "metadata": {
        "id": "L6f-MMCgrXFQ"
      },
      "source": [
        "## Creating Char based Data"
      ]
    },
    {
      "cell_type": "code",
      "execution_count": 32,
      "metadata": {
        "id": "tyrTZWHSrZsc"
      },
      "outputs": [],
      "source": [
        "def split_chars(text):\n",
        "  return ' '.join(list(text))"
      ]
    },
    {
      "cell_type": "code",
      "execution_count": 33,
      "metadata": {
        "id": "knvwWE8Lra3Y"
      },
      "outputs": [],
      "source": [
        "chars_q1=[split_chars(sentence) for sentence in q1_sentences]"
      ]
    },
    {
      "cell_type": "code",
      "execution_count": 34,
      "metadata": {
        "id": "TZthi87urbXj"
      },
      "outputs": [],
      "source": [
        "chars_q2=[split_chars(sentence) for sentence in q2_sentences]"
      ]
    },
    {
      "cell_type": "markdown",
      "metadata": {
        "id": "vB1f10IV2zmB"
      },
      "source": [
        "## Splitting dataset"
      ]
    },
    {
      "cell_type": "code",
      "execution_count": 35,
      "metadata": {
        "id": "ZKI3qkeDq_XI"
      },
      "outputs": [],
      "source": [
        "cleaned_data['charq1']=chars_q1\n",
        "cleaned_data['charq2']=chars_q2"
      ]
    },
    {
      "cell_type": "code",
      "execution_count": 36,
      "metadata": {
        "id": "wrT5XO3UKpsU"
      },
      "outputs": [],
      "source": [
        "from sklearn.model_selection import train_test_split\n",
        "xtrain, xmid, ytrain, ymid = train_test_split(cleaned_data.drop('is_duplicate',axis=1),\n",
        "                                                    cleaned_data['is_duplicate'],\n",
        "                                                    test_size=0.15, random_state=42)\n",
        "xval, xtest, yval, ytest = train_test_split(xmid,ymid,test_size=0.50, random_state=42)"
      ]
    },
    {
      "cell_type": "markdown",
      "metadata": {
        "id": "hIQ4_gNQrd32"
      },
      "source": [
        "# Preparing for Deep sequence modelling"
      ]
    },
    {
      "cell_type": "code",
      "execution_count": 37,
      "metadata": {
        "id": "rZ8ObG24n5ht"
      },
      "outputs": [],
      "source": [
        "from tensorflow.keras.layers import TextVectorization,Embedding\n",
        "import tensorflow as tf"
      ]
    },
    {
      "cell_type": "markdown",
      "metadata": {
        "id": "eDDHcczmxSEz"
      },
      "source": [
        "## Character level tokenizer and embeddings"
      ]
    },
    {
      "cell_type": "markdown",
      "metadata": {
        "id": "Sy0NaO6FoQWU"
      },
      "source": [
        "### Character level tokenizer for Q1"
      ]
    },
    {
      "cell_type": "code",
      "execution_count": 38,
      "metadata": {
        "colab": {
          "base_uri": "https://localhost:8080/"
        },
        "id": "UsgrKaqfwrIV",
        "outputId": "0ffccc93-2914-4b0f-c8c4-4559b4ee1929"
      },
      "outputs": [
        {
          "output_type": "execute_result",
          "data": {
            "text/plain": [
              "57.60245370922731"
            ]
          },
          "metadata": {},
          "execution_count": 38
        }
      ],
      "source": [
        "char_len_q1=[len(sentence) for sentence in xtrain['question1']]\n",
        "mean_char_len_q1=np.mean(char_len_q1)\n",
        "mean_char_len_q1"
      ]
    },
    {
      "cell_type": "code",
      "execution_count": 39,
      "metadata": {
        "colab": {
          "base_uri": "https://localhost:8080/",
          "height": 430
        },
        "id": "2lbLPNRdwtpx",
        "outputId": "368fe100-2f9e-4ed0-cab2-b8002af7b1b1"
      },
      "outputs": [
        {
          "output_type": "display_data",
          "data": {
            "text/plain": [
              "<Figure size 640x480 with 1 Axes>"
            ],
            "image/png": "[encoded data removed]"
          },
          "metadata": {}
        }
      ],
      "source": [
        "# check distribution\n",
        "\n",
        "import matplotlib.pyplot as plt\n",
        "\n",
        "plt.hist(char_len_q1,bins=20);"
      ]
    },
    {
      "cell_type": "code",
      "execution_count": 40,
      "metadata": {
        "id": "rH8bJraVwu9h"
      },
      "outputs": [],
      "source": [
        "#find what character length covers 98% of sequences\n",
        "output_seq_char_len_q1=int(np.percentile(char_len_q1,98))"
      ]
    },
    {
      "cell_type": "code",
      "execution_count": 41,
      "metadata": {
        "colab": {
          "base_uri": "https://localhost:8080/"
        },
        "id": "tIxMlvDpww1N",
        "outputId": "8b3a2737-c456-4e4b-9b5e-79d22377294a"
      },
      "outputs": [
        {
          "output_type": "execute_result",
          "data": {
            "text/plain": [
              "140"
            ]
          },
          "metadata": {},
          "execution_count": 41
        }
      ],
      "source": [
        "output_seq_char_len_q1"
      ]
    },
    {
      "cell_type": "code",
      "execution_count": 42,
      "metadata": {
        "id": "Q1o8DtNFwywY"
      },
      "outputs": [],
      "source": [
        "#number of alphanumeric characters\n",
        "import string\n",
        "alphabet=string.ascii_lowercase"
      ]
    },
    {
      "cell_type": "code",
      "execution_count": 43,
      "metadata": {
        "id": "gUYMnpN2w0wE"
      },
      "outputs": [],
      "source": [
        "num_char_tokens_q1=len(alphabet) + 10 # add for space and UNK"
      ]
    },
    {
      "cell_type": "code",
      "execution_count": 44,
      "metadata": {
        "id": "FudhflMqw2ia"
      },
      "outputs": [],
      "source": [
        "char_vectorizer_q1=TextVectorization(max_tokens=num_char_tokens_q1,\n",
        "                                  output_sequence_length=144,\n",
        "                                  name='char_vectorizer_q1')"
      ]
    },
    {
      "cell_type": "code",
      "execution_count": 45,
      "metadata": {
        "id": "JH_2_n0SxElj"
      },
      "outputs": [],
      "source": [
        "char_vectorizer_q1.adapt(xtrain['charq1'])"
      ]
    },
    {
      "cell_type": "code",
      "execution_count": 46,
      "metadata": {
        "id": "sS-j2DQxxK0S"
      },
      "outputs": [],
      "source": [
        "#check character vocab stats\n",
        "char_vocab_q1=char_vectorizer_q1.get_vocabulary()"
      ]
    },
    {
      "cell_type": "markdown",
      "metadata": {
        "id": "MHCUA0B2omPd"
      },
      "source": [
        "### Character level tokenizer for Q2"
      ]
    },
    {
      "cell_type": "code",
      "execution_count": 47,
      "metadata": {
        "colab": {
          "base_uri": "https://localhost:8080/"
        },
        "id": "XnYovQ13pzKE",
        "outputId": "31ffafda-44f5-4587-ac32-6682e5c00d62"
      },
      "outputs": [
        {
          "output_type": "execute_result",
          "data": {
            "text/plain": [
              "58.12881391444028"
            ]
          },
          "metadata": {},
          "execution_count": 47
        }
      ],
      "source": [
        "char_len_q2=[len(sentence) for sentence in xtrain['question2']]\n",
        "mean_char_len_q2=np.mean(char_len_q2)\n",
        "mean_char_len_q2"
      ]
    },
    {
      "cell_type": "code",
      "execution_count": 48,
      "metadata": {
        "colab": {
          "base_uri": "https://localhost:8080/",
          "height": 430
        },
        "id": "hMrlJsONp3EV",
        "outputId": "be926e60-a7c1-4de7-9607-fae41a620178"
      },
      "outputs": [
        {
          "output_type": "display_data",
          "data": {
            "text/plain": [
              "<Figure size 640x480 with 1 Axes>"
            ],
            "image/png": "[encoded data removed]"
          },
          "metadata": {}
        }
      ],
      "source": [
        "# check distribution\n",
        "\n",
        "import matplotlib.pyplot as plt\n",
        "\n",
        "plt.hist(char_len_q2,bins=20);"
      ]
    },
    {
      "cell_type": "code",
      "execution_count": 49,
      "metadata": {
        "colab": {
          "base_uri": "https://localhost:8080/"
        },
        "id": "CKrYiz9MqA_q",
        "outputId": "025e5731-50fe-463a-efee-dd3977808c00"
      },
      "outputs": [
        {
          "output_type": "execute_result",
          "data": {
            "text/plain": [
              "144"
            ]
          },
          "metadata": {},
          "execution_count": 49
        }
      ],
      "source": [
        "#find what character length covers 95% of sequences\n",
        "output_seq_char_len_q2=int(np.percentile(char_len_q2,98))\n",
        "output_seq_char_len_q2"
      ]
    },
    {
      "cell_type": "code",
      "execution_count": 50,
      "metadata": {
        "id": "vYMj8lHzqdk9"
      },
      "outputs": [],
      "source": [
        "num_char_tokens_q2=len(alphabet) + 10 # add for space and UNK"
      ]
    },
    {
      "cell_type": "code",
      "execution_count": 51,
      "metadata": {
        "id": "eVtwZjn8qeHR"
      },
      "outputs": [],
      "source": [
        "#number of alphanumeric characters\n",
        "import string\n",
        "alphabet=string.ascii_lowercase"
      ]
    },
    {
      "cell_type": "code",
      "execution_count": 52,
      "metadata": {
        "id": "wjfCLQ4YqiJc"
      },
      "outputs": [],
      "source": [
        "char_vectorizer_q2=TextVectorization(max_tokens=num_char_tokens_q2,\n",
        "                                  output_sequence_length=output_seq_char_len_q2,\n",
        "                                  name='char_vectorizer_q2')"
      ]
    },
    {
      "cell_type": "code",
      "execution_count": 53,
      "metadata": {
        "id": "6sbiIc6yqjKc"
      },
      "outputs": [],
      "source": [
        "char_vectorizer_q2.adapt(xtrain['charq2'])"
      ]
    },
    {
      "cell_type": "code",
      "execution_count": 54,
      "metadata": {
        "id": "THC3CHT3qi_c"
      },
      "outputs": [],
      "source": [
        "#check character vocab stats\n",
        "char_vocab_q2=char_vectorizer_q2.get_vocabulary()"
      ]
    },
    {
      "cell_type": "markdown",
      "metadata": {
        "id": "6OKy17_fxQBQ"
      },
      "source": [
        "### Character level Embedding Q1"
      ]
    },
    {
      "cell_type": "code",
      "execution_count": 55,
      "metadata": {
        "id": "7wsMgUHnxfvF"
      },
      "outputs": [],
      "source": [
        "output_dim=96\n",
        "#input_dims=Vocab length\n",
        "#mask_zero saves space by masking 0 values out with are padding\n",
        "char_embedding_q1=Embedding(input_dim=len(char_vocab_q1),\n",
        "                         output_dim=output_dim,\n",
        "                         mask_zero=True,\n",
        "                         name='char_embedding_q1')"
      ]
    },
    {
      "cell_type": "markdown",
      "metadata": {
        "id": "KwnYYif-quvV"
      },
      "source": [
        "### Character level Embedding Q2"
      ]
    },
    {
      "cell_type": "code",
      "execution_count": 56,
      "metadata": {
        "id": "_GQ8nostquvW"
      },
      "outputs": [],
      "source": [
        "output_dim=96\n",
        "#input_dims=Vocab length\n",
        "#mask_zero saves space by masking 0 values out with are padding\n",
        "char_embedding_q2=Embedding(input_dim=len(char_vocab_q2),\n",
        "                         output_dim=output_dim,\n",
        "                         mask_zero=True,\n",
        "                         name='char_embedding_q2')"
      ]
    },
    {
      "cell_type": "markdown",
      "metadata": {
        "id": "F5Bvnk_1s3bA"
      },
      "source": [
        "## Token Text Vectorization"
      ]
    },
    {
      "cell_type": "markdown",
      "metadata": {
        "id": "dm0jfe6XMslf"
      },
      "source": [
        "### Q1 vectorizer"
      ]
    },
    {
      "cell_type": "code",
      "execution_count": 57,
      "metadata": {
        "id": "m2iTTKZ6sChx"
      },
      "outputs": [],
      "source": [
        "#Text vectorization layer\n",
        "# Output_sequence_length= length of output sentence\n",
        "max_tokens=80000\n",
        "q1_text_vectorizer=TextVectorization(max_tokens=max_tokens,\n",
        "                                  split='whitespace',\n",
        "                                  output_sequence_length=max_len_q1)"
      ]
    },
    {
      "cell_type": "code",
      "execution_count": 58,
      "metadata": {
        "id": "znRJS49ssWtB"
      },
      "outputs": [],
      "source": [
        "#Adapt text vectorizer to training sentences\n",
        "q1_text_vectorizer.adapt(xtrain['question1'])"
      ]
    },
    {
      "cell_type": "code",
      "execution_count": 59,
      "metadata": {
        "id": "_PflmSRCsaAh"
      },
      "outputs": [],
      "source": [
        "q1_vectorizer_vocab_token=q1_text_vectorizer.get_vocabulary()"
      ]
    },
    {
      "cell_type": "code",
      "execution_count": 60,
      "metadata": {
        "colab": {
          "base_uri": "https://localhost:8080/"
        },
        "id": "LflaFcbBNDpY",
        "outputId": "d963c913-1672-4cb7-ce15-099636655aed"
      },
      "outputs": [
        {
          "output_type": "execute_result",
          "data": {
            "text/plain": [
              "59046"
            ]
          },
          "metadata": {},
          "execution_count": 60
        }
      ],
      "source": [
        "len(q1_vectorizer_vocab_token)"
      ]
    },
    {
      "cell_type": "markdown",
      "metadata": {
        "id": "VcIWYEUCMzIf"
      },
      "source": [
        "### Q2 vectorizer"
      ]
    },
    {
      "cell_type": "code",
      "execution_count": 61,
      "metadata": {
        "id": "yhEMGG8eMl-m"
      },
      "outputs": [],
      "source": [
        "#Text vectorization layer\n",
        "# Output_sequence_length= length of output sentence\n",
        "max_tokens=80000\n",
        "q2_text_vectorizer=TextVectorization(max_tokens=max_tokens,\n",
        "                                  split='whitespace',\n",
        "                                  output_sequence_length=max_len_q2)"
      ]
    },
    {
      "cell_type": "code",
      "execution_count": 62,
      "metadata": {
        "id": "MWy4UzCDMqRo"
      },
      "outputs": [],
      "source": [
        "#Adapt text vectorizer to training sentences\n",
        "q2_text_vectorizer.adapt(xtrain['question2'])"
      ]
    },
    {
      "cell_type": "code",
      "execution_count": 63,
      "metadata": {
        "colab": {
          "base_uri": "https://localhost:8080/"
        },
        "id": "kUi7nI7AMraP",
        "outputId": "05ede17a-b699-4cee-bb83-7e895dba10cd"
      },
      "outputs": [
        {
          "output_type": "execute_result",
          "data": {
            "text/plain": [
              "54387"
            ]
          },
          "metadata": {},
          "execution_count": 63
        }
      ],
      "source": [
        "q2_vectorizer_vocab_token=q2_text_vectorizer.get_vocabulary()\n",
        "len(q2_vectorizer_vocab_token)"
      ]
    },
    {
      "cell_type": "markdown",
      "metadata": {
        "id": "Ioc2eni7xCRE"
      },
      "source": [
        "## Token Embedding layer"
      ]
    },
    {
      "cell_type": "code",
      "execution_count": 64,
      "metadata": {
        "id": "6oCrg4gRjvOM"
      },
      "outputs": [],
      "source": [
        "glove_file = 'glove.42B.300d.txt'\n",
        "embeddings_index = {}\n",
        "with open(glove_file, encoding='utf8') as f:\n",
        "    for line in f:\n",
        "        values = line.split()\n",
        "        word = values[0]\n",
        "        coefs = np.asarray(values[1:], dtype='float32')\n",
        "        embeddings_index[word] = coefs"
      ]
    },
    {
      "cell_type": "markdown",
      "metadata": {
        "id": "GwZh3bLYxCRE"
      },
      "source": [
        "### Q1 Embedding"
      ]
    },
    {
      "cell_type": "code",
      "execution_count": 65,
      "metadata": {
        "id": "21fkB-uhjy5r"
      },
      "outputs": [],
      "source": [
        "word_index_q1 = dict(zip(q1_text_vectorizer.get_vocabulary(), range(len(q1_text_vectorizer.get_vocabulary()))))"
      ]
    },
    {
      "cell_type": "code",
      "execution_count": 66,
      "metadata": {
        "id": "L7K_xkixjyfQ"
      },
      "outputs": [],
      "source": [
        "# Create the embedding matrix\n",
        "embedding_dim = 300\n",
        "num_words = len(word_index_q1)\n",
        "embedding_matrix = np.zeros((num_words, embedding_dim))\n",
        "for word, i in word_index_q1.items():\n",
        "    embedding_vector = embeddings_index.get(word)\n",
        "    if embedding_vector is not None:\n",
        "        embedding_matrix[i] = embedding_vector\n"
      ]
    },
    {
      "cell_type": "code",
      "execution_count": 67,
      "metadata": {
        "id": "PFSZIIO0xCRF"
      },
      "outputs": [],
      "source": [
        "output_dim=300\n",
        "#input_dims=Vocab length\n",
        "q1_embedding=Embedding(input_dim=len(q1_vectorizer_vocab_token),output_dim=output_dim,\n",
        "                       embeddings_initializer=tf.keras.initializers.Constant(embedding_matrix),\n",
        "                       trainable=False,name='q1_token_embedding')"
      ]
    },
    {
      "cell_type": "markdown",
      "metadata": {
        "id": "3P4pUZBCxCRF"
      },
      "source": [
        "### Q2 Embedding"
      ]
    },
    {
      "cell_type": "code",
      "execution_count": 68,
      "metadata": {
        "id": "KqjIOH4yj4l_"
      },
      "outputs": [],
      "source": [
        "word_index_q2 = dict(zip(q2_text_vectorizer.get_vocabulary(), range(len(q2_text_vectorizer.get_vocabulary()))))"
      ]
    },
    {
      "cell_type": "code",
      "execution_count": 69,
      "metadata": {
        "id": "P8LymDlrlC_5"
      },
      "outputs": [],
      "source": [
        "# Create the embedding matrix\n",
        "embedding_dim = 300\n",
        "num_words = len(word_index_q2)\n",
        "embedding_matrix = np.zeros((num_words, embedding_dim))\n",
        "for word, i in word_index_q2.items():\n",
        "    embedding_vector = embeddings_index.get(word)\n",
        "    if embedding_vector is not None:\n",
        "        embedding_matrix[i] = embedding_vector\n"
      ]
    },
    {
      "cell_type": "code",
      "execution_count": 70,
      "metadata": {
        "colab": {
          "base_uri": "https://localhost:8080/"
        },
        "id": "xjSzTGv9mDdU",
        "outputId": "0512cd84-b039-4a57-a5e6-f79d37f83101"
      },
      "outputs": [
        {
          "output_type": "execute_result",
          "data": {
            "text/plain": [
              "(54387, 300)"
            ]
          },
          "metadata": {},
          "execution_count": 70
        }
      ],
      "source": [
        "embedding_matrix.shape"
      ]
    },
    {
      "cell_type": "code",
      "execution_count": 71,
      "metadata": {
        "colab": {
          "base_uri": "https://localhost:8080/"
        },
        "id": "J4GqeonrmHZJ",
        "outputId": "d129beb6-20ea-4607-a92c-d2023ac715bb"
      },
      "outputs": [
        {
          "output_type": "execute_result",
          "data": {
            "text/plain": [
              "54387"
            ]
          },
          "metadata": {},
          "execution_count": 71
        }
      ],
      "source": [
        "len(q2_vectorizer_vocab_token)"
      ]
    },
    {
      "cell_type": "code",
      "execution_count": 72,
      "metadata": {
        "id": "z82HyfKaxCRG"
      },
      "outputs": [],
      "source": [
        "output_dim=300 \n",
        "#input_dims=Vocab length\n",
        "q2_embedding=Embedding(input_dim=len(q2_vectorizer_vocab_token),output_dim=output_dim,\n",
        "                       embeddings_initializer=tf.keras.initializers.Constant(embedding_matrix),\n",
        "                       trainable=False,name='q2_token_embedding')"
      ]
    },
    {
      "cell_type": "markdown",
      "metadata": {
        "id": "vhKCRBFtqSp1"
      },
      "source": [
        "## Modelling "
      ]
    },
    {
      "cell_type": "markdown",
      "metadata": {
        "id": "np052QBDoqvQ"
      },
      "source": [
        "### Model1: Char Model:"
      ]
    },
    {
      "cell_type": "markdown",
      "metadata": {
        "id": "I-eG1K4Wot2-"
      },
      "source": [
        "#### Creating dataset"
      ]
    },
    {
      "cell_type": "code",
      "execution_count": null,
      "metadata": {
        "id": "Xivr-4Feov9o"
      },
      "outputs": [],
      "source": [
        "train_char_data=tf.data.Dataset.from_tensor_slices((xtrain['charq1'].values,\n",
        "                                               xtrain['charq2'].values))\n",
        "train_char_labels=tf.data.Dataset.from_tensor_slices(ytrain.apply(pd.to_numeric).values)\n",
        "train_char_dataset=tf.data.Dataset.zip((train_char_data,train_char_labels))\n",
        "train_char_dataset=train_char_dataset.shuffle(1000).batch(32).prefetch(tf.data.AUTOTUNE)\n",
        "\n",
        "\n",
        "\n",
        "val_char_data=tf.data.Dataset.from_tensor_slices((xval['charq1'].values,\n",
        "                                             xval['charq2'].values))\n",
        "val_char_labels=tf.data.Dataset.from_tensor_slices(yval.apply(pd.to_numeric).values)\n",
        "val_char_dataset=tf.data.Dataset.zip((val_char_data,val_char_labels))\n",
        "val_char_dataset=val_char_dataset.shuffle(1000).batch(32).prefetch(tf.data.AUTOTUNE)\n",
        "\n",
        "\n",
        "\n",
        "test_char_data=tf.data.Dataset.from_tensor_slices((xtest['charq1'].values,\n",
        "                                              xtest['charq2'].values))\n",
        "test_char_labels=tf.data.Dataset.from_tensor_slices(ytest.apply(pd.to_numeric).values)\n",
        "test_char_dataset=tf.data.Dataset.zip((test_char_data,test_char_labels))\n",
        "test_char_dataset=test_char_dataset.shuffle(1000).batch(32).prefetch(tf.data.AUTOTUNE)"
      ]
    },
    {
      "cell_type": "markdown",
      "metadata": {
        "id": "h8Q6AY9GpInC"
      },
      "source": [
        "#### Model"
      ]
    },
    {
      "cell_type": "code",
      "execution_count": null,
      "metadata": {
        "id": "N9aM6qlkpJ3a"
      },
      "outputs": [],
      "source": [
        "q1_char_inputs=tf.keras.layers.Input(shape=(1,),dtype=tf.string)\n",
        "q1_char_preprocessor=char_vectorizer_q1(q1_char_inputs)\n",
        "q1_char_embed=char_embedding_q1(q1_char_preprocessor)\n",
        "q1_char_gru1=tf.keras.layers.Bidirectional(tf.keras.layers.GRU(128,activation='tanh',return_sequences=True))(q1_char_embed)\n",
        "q1_char_gru2=tf.keras.layers.Bidirectional(tf.keras.layers.GRU(64,activation='tanh',return_sequences=True))(q1_char_gru1)\n",
        "q1_char_model=tf.keras.Model(q1_char_inputs,q1_char_gru2)\n",
        "\n",
        "\n",
        "q2_char_inputs=tf.keras.layers.Input(shape=(1,),dtype=tf.string)\n",
        "q2_char_preprocessor=char_vectorizer_q2(q2_char_inputs)\n",
        "q2_char_embed=char_embedding_q2(q2_char_preprocessor)\n",
        "q2_char_gru1=tf.keras.layers.Bidirectional(tf.keras.layers.GRU(128,activation='tanh',return_sequences=True))(q2_char_embed)\n",
        "q2_char_gru2=tf.keras.layers.Bidirectional(tf.keras.layers.GRU(64,activation='tanh',return_sequences=True))(q2_char_gru1)\n",
        "q2_char_model=tf.keras.Model(q2_char_inputs,q2_char_gru2)\n",
        "\n",
        "q1_q2_char_concat=tf.keras.layers.Concatenate()([q1_char_model.output,\n",
        "                               q2_char_model.output])\n",
        "\n",
        "combined_char_gru1=tf.keras.layers.Bidirectional(tf.keras.layers.GRU(128,activation='tanh',return_sequences=True))(q1_q2_char_concat)\n",
        "combined_char_gru2=tf.keras.layers.Bidirectional(tf.keras.layers.GRU(64,activation='tanh',return_sequences=True))(combined_char_gru1)\n",
        "combined_char_gru3=tf.keras.layers.Bidirectional(tf.keras.layers.GRU(64,activation='tanh'))(combined_char_gru2)\n",
        "\n",
        "output=tf.keras.layers.Dense(1,activation='sigmoid')(combined_char_gru3)\n",
        "\n",
        "model1=tf.keras.Model(inputs=[q1_char_model.input,q2_char_model.input],\n",
        "                      outputs=output,\n",
        "                      name='Model1')"
      ]
    },
    {
      "cell_type": "code",
      "execution_count": null,
      "metadata": {
        "colab": {
          "base_uri": "https://localhost:8080/"
        },
        "id": "T7v1qx0ip6H6",
        "outputId": "9a82e827-d30a-4928-f104-645a3b1fa68e"
      },
      "outputs": [
        {
          "name": "stdout",
          "output_type": "stream",
          "text": [
            "Model: \"Model1\"\n",
            "__________________________________________________________________________________________________\n",
            " Layer (type)                   Output Shape         Param #     Connected to                     \n",
            "==================================================================================================\n",
            " input_5 (InputLayer)           [(None, 1)]          0           []                               \n",
            "                                                                                                  \n",
            " input_6 (InputLayer)           [(None, 1)]          0           []                               \n",
            "                                                                                                  \n",
            " char_vectorizer_q1 (TextVector  (None, 144)         0           ['input_5[0][0]']                \n",
            " ization)                                                                                         \n",
            "                                                                                                  \n",
            " char_vectorizer_q2 (TextVector  (None, 144)         0           ['input_6[0][0]']                \n",
            " ization)                                                                                         \n",
            "                                                                                                  \n",
            " char_embedding_q1 (Embedding)  (None, 144, 96)      2688        ['char_vectorizer_q1[0][0]']     \n",
            "                                                                                                  \n",
            " char_embedding_q2 (Embedding)  (None, 144, 96)      2688        ['char_vectorizer_q2[1][0]']     \n",
            "                                                                                                  \n",
            " bidirectional_11 (Bidirectiona  (None, 144, 256)    173568      ['char_embedding_q1[0][0]']      \n",
            " l)                                                                                               \n",
            "                                                                                                  \n",
            " bidirectional_13 (Bidirectiona  (None, 144, 256)    173568      ['char_embedding_q2[1][0]']      \n",
            " l)                                                                                               \n",
            "                                                                                                  \n",
            " bidirectional_12 (Bidirectiona  (None, 144, 128)    123648      ['bidirectional_11[0][0]']       \n",
            " l)                                                                                               \n",
            "                                                                                                  \n",
            " bidirectional_14 (Bidirectiona  (None, 144, 128)    123648      ['bidirectional_13[0][0]']       \n",
            " l)                                                                                               \n",
            "                                                                                                  \n",
            " concatenate_2 (Concatenate)    (None, 144, 256)     0           ['bidirectional_12[0][0]',       \n",
            "                                                                  'bidirectional_14[0][0]']       \n",
            "                                                                                                  \n",
            " bidirectional_15 (Bidirectiona  (None, 144, 256)    296448      ['concatenate_2[0][0]']          \n",
            " l)                                                                                               \n",
            "                                                                                                  \n",
            " bidirectional_16 (Bidirectiona  (None, 144, 128)    123648      ['bidirectional_15[0][0]']       \n",
            " l)                                                                                               \n",
            "                                                                                                  \n",
            " bidirectional_17 (Bidirectiona  (None, 128)         74496       ['bidirectional_16[0][0]']       \n",
            " l)                                                                                               \n",
            "                                                                                                  \n",
            " dense_1 (Dense)                (None, 1)            129         ['bidirectional_17[0][0]']       \n",
            "                                                                                                  \n",
            "==================================================================================================\n",
            "Total params: 1,094,529\n",
            "Trainable params: 1,094,529\n",
            "Non-trainable params: 0\n",
            "__________________________________________________________________________________________________\n"
          ]
        }
      ],
      "source": [
        "model1.summary()"
      ]
    },
    {
      "cell_type": "code",
      "execution_count": null,
      "metadata": {
        "colab": {
          "base_uri": "https://localhost:8080/",
          "height": 1000
        },
        "id": "P0SFcVPop5ZO",
        "outputId": "59676972-3954-463d-969e-045ef8ef12cf"
      },
      "outputs": [
        {
          "data": {
            "image/png": "[encoded data removed]",
            "text/plain": [
              "<IPython.core.display.Image object>"
            ]
          },
          "execution_count": 145,
          "metadata": {},
          "output_type": "execute_result"
        }
      ],
      "source": [
        "from tensorflow.keras.utils import plot_model\n",
        "plot_model(model1,show_shapes=True)"
      ]
    },
    {
      "cell_type": "code",
      "execution_count": null,
      "metadata": {
        "colab": {
          "base_uri": "https://localhost:8080/"
        },
        "id": "9B4Tb8i2p4gg",
        "outputId": "5636d9d9-6337-421f-de1b-b9108d0443c9"
      },
      "outputs": [
        {
          "name": "stderr",
          "output_type": "stream",
          "text": [
            "WARNING:absl:`lr` is deprecated, please use `learning_rate` instead, or use the legacy optimizer, e.g.,tf.keras.optimizers.legacy.Adam.\n"
          ]
        }
      ],
      "source": [
        "model1.compile(loss=tf.keras.losses.BinaryCrossentropy(label_smoothing=0.2),\n",
        "               optimizer=tf.keras.optimizers.Adam(lr=0.001),\n",
        "               metrics=['accuracy'])"
      ]
    },
    {
      "cell_type": "code",
      "execution_count": null,
      "metadata": {
        "colab": {
          "base_uri": "https://localhost:8080/"
        },
        "id": "5C3bpH9Vp4Ad",
        "outputId": "54d3c015-de73-49e8-be73-6442eff93a96"
      },
      "outputs": [
        {
          "name": "stdout",
          "output_type": "stream",
          "text": [
            "Epoch 1/5\n",
            "1895/1895 [==============================] - 247s 130ms/step - loss: 0.5974 - accuracy: 0.7264 - val_loss: 0.5971 - val_accuracy: 0.7264\n",
            "Epoch 2/5\n",
            "1895/1895 [==============================] - 227s 120ms/step - loss: 0.5890 - accuracy: 0.7390 - val_loss: 0.5839 - val_accuracy: 0.7480\n",
            "Epoch 3/5\n",
            "1895/1895 [==============================] - 225s 119ms/step - loss: 0.5833 - accuracy: 0.7462 - val_loss: 0.5826 - val_accuracy: 0.7465\n",
            "Epoch 4/5\n",
            "1895/1895 [==============================] - 232s 122ms/step - loss: 0.5801 - accuracy: 0.7492 - val_loss: 0.5791 - val_accuracy: 0.7509\n",
            "Epoch 5/5\n",
            "1895/1895 [==============================] - 229s 121ms/step - loss: 0.5752 - accuracy: 0.7550 - val_loss: 0.5827 - val_accuracy: 0.7477\n"
          ]
        }
      ],
      "source": [
        "history1=model1.fit(train_char_dataset,\n",
        "                    epochs=5,\n",
        "                    steps_per_epoch=int(0.2*len(train_char_dataset)),\n",
        "                    validation_data=val_char_dataset,\n",
        "                    validation_steps=int(0.2*len(val_char_dataset)))"
      ]
    },
    {
      "cell_type": "markdown",
      "metadata": {
        "id": "dgINi3QOr_Gp"
      },
      "source": [
        "### Model 2: Token GRUs with attention"
      ]
    },
    {
      "cell_type": "markdown",
      "metadata": {
        "id": "M5boius-sDKp"
      },
      "source": [
        "#### Creating dataset"
      ]
    },
    {
      "cell_type": "code",
      "execution_count": 73,
      "metadata": {
        "id": "RGxzBlYxsFct"
      },
      "outputs": [],
      "source": [
        "train_token_data=tf.data.Dataset.from_tensor_slices((xtrain['question1'].values,\n",
        "                                               xtrain['question2'].values))\n",
        "train_token_labels=tf.data.Dataset.from_tensor_slices(ytrain.apply(pd.to_numeric).values)\n",
        "train_token_dataset=tf.data.Dataset.zip((train_token_data,train_token_labels))\n",
        "train_token_dataset=train_token_dataset.shuffle(1000).batch(32).prefetch(tf.data.AUTOTUNE)\n",
        "\n",
        "\n",
        "\n",
        "val_token_data=tf.data.Dataset.from_tensor_slices((xval['question1'].values,\n",
        "                                               xval['question2'].values))\n",
        "val_token_labels=tf.data.Dataset.from_tensor_slices(yval.apply(pd.to_numeric).values)\n",
        "val_token_dataset=tf.data.Dataset.zip((val_token_data,val_token_labels))\n",
        "val_token_dataset=val_token_dataset.shuffle(1000).batch(32).prefetch(tf.data.AUTOTUNE)\n",
        "\n",
        "\n",
        "\n",
        "test_token_data=tf.data.Dataset.from_tensor_slices((xtest['question1'].values,\n",
        "                                               xtest['question2'].values))\n",
        "test_token_labels=tf.data.Dataset.from_tensor_slices(ytest.apply(pd.to_numeric).values)\n",
        "test_token_dataset=tf.data.Dataset.zip((test_token_data,test_token_labels))\n",
        "test_token_dataset=test_token_dataset.shuffle(1000).batch(32).prefetch(tf.data.AUTOTUNE)"
      ]
    },
    {
      "cell_type": "markdown",
      "metadata": {
        "id": "Fx275xmqsaxU"
      },
      "source": [
        "#### Model"
      ]
    },
    {
      "cell_type": "code",
      "execution_count": 74,
      "metadata": {
        "id": "JK53p3RNsb5b"
      },
      "outputs": [],
      "source": [
        "q1_token_inputs=tf.keras.layers.Input(shape=(),dtype=tf.string)\n",
        "q1_preprocessor=q1_text_vectorizer(q1_token_inputs)\n",
        "q1_embed=q1_embedding(q1_preprocessor)\n",
        "\n",
        "\n",
        "q2_token_inputs=tf.keras.layers.Input(shape=(),dtype=tf.string)\n",
        "q2_preprocessor=q2_text_vectorizer(q2_token_inputs)\n",
        "q2_embed=q2_embedding(q2_preprocessor)\n",
        "\n",
        "dot_product_embed = tf.keras.layers.Dot(axes=2)([q1_embed, q2_embed])\n",
        "attention_weights_q1_embed = tf.keras.layers.Softmax()(dot_product_embed)\n",
        "q1_weighted_embed = tf.keras.layers.Dot(axes=1)([attention_weights_q1_embed, q1_embed])\n",
        "\n",
        "attention_weights_q2_embed = tf.keras.layers.Softmax()(dot_product_embed)\n",
        "q2_weighted_embed = tf.keras.layers.Dot(axes=1)([attention_weights_q2_embed, q2_embed])\n",
        "\n",
        "\n",
        "q1_gru1=tf.keras.layers.Bidirectional(tf.keras.layers.GRU(128,activation='tanh',return_sequences=True))(q1_weighted_embed)\n",
        "q1_gru2=tf.keras.layers.Bidirectional(tf.keras.layers.GRU(64,activation='tanh',return_sequences=True))(q1_gru1)\n",
        "q2_gru1=tf.keras.layers.Bidirectional(tf.keras.layers.GRU(128,activation='tanh',return_sequences=True))(q2_weighted_embed)\n",
        "q2_gru2=tf.keras.layers.Bidirectional(tf.keras.layers.GRU(64,activation='tanh',return_sequences=True))(q2_gru1)\n",
        "\n",
        "dot_product = tf.keras.layers.Dot(axes=2)([q2_gru2, q1_gru2])\n",
        "attention_weights_q1 = tf.keras.layers.Softmax()(dot_product)\n",
        "attention_weights_q2 = tf.keras.layers.Softmax()(dot_product)\n",
        "\n",
        "q1_weighted = tf.keras.layers.Dot(axes=1)([attention_weights_q1, q1_gru2])\n",
        "q2_weighted = tf.keras.layers.Dot(axes=1)([attention_weights_q2, q2_gru2])\n",
        "\n",
        "q1_q2_token_concat=tf.keras.layers.Concatenate()([q2_weighted,\n",
        "                               q1_weighted])\n",
        "\n",
        "combined_token_gru1=tf.keras.layers.Bidirectional(tf.keras.layers.GRU(128,activation='tanh',return_sequences=True))(q1_q2_token_concat)\n",
        "combined_token_gru2=tf.keras.layers.Bidirectional(tf.keras.layers.GRU(64,activation='tanh',return_sequences=True))(combined_token_gru1)\n",
        "combined_token_gru3=tf.keras.layers.Bidirectional(tf.keras.layers.GRU(64,activation='tanh'))(combined_token_gru2)\n",
        "\n",
        "\n",
        "combined_dense1=tf.keras.layers.Dense(64,activation='relu')(combined_token_gru3)\n",
        "output=tf.keras.layers.Dense(1,activation='sigmoid')(combined_dense1)\n",
        "\n",
        "model2=tf.keras.Model(inputs=[q1_token_inputs,q2_token_inputs],\n",
        "                      outputs=output,\n",
        "                      name='Model2')"
      ]
    },
    {
      "cell_type": "code",
      "execution_count": 75,
      "metadata": {
        "colab": {
          "base_uri": "https://localhost:8080/"
        },
        "id": "B0P-XPT-s9iP",
        "outputId": "abc927c5-4ed1-41f0-c97a-c56e280d85e7"
      },
      "outputs": [
        {
          "output_type": "stream",
          "name": "stdout",
          "text": [
            "Model: \"Model2\"\n",
            "__________________________________________________________________________________________________\n",
            " Layer (type)                   Output Shape         Param #     Connected to                     \n",
            "==================================================================================================\n",
            " input_1 (InputLayer)           [(None,)]            0           []                               \n",
            "                                                                                                  \n",
            " input_2 (InputLayer)           [(None,)]            0           []                               \n",
            "                                                                                                  \n",
            " text_vectorization (TextVector  (None, 33)          0           ['input_1[0][0]']                \n",
            " ization)                                                                                         \n",
            "                                                                                                  \n",
            " text_vectorization_1 (TextVect  (None, 33)          0           ['input_2[0][0]']                \n",
            " orization)                                                                                       \n",
            "                                                                                                  \n",
            " q1_token_embedding (Embedding)  (None, 33, 300)     17713800    ['text_vectorization[0][0]']     \n",
            "                                                                                                  \n",
            " q2_token_embedding (Embedding)  (None, 33, 300)     16316100    ['text_vectorization_1[0][0]']   \n",
            "                                                                                                  \n",
            " dot (Dot)                      (None, 33, 33)       0           ['q1_token_embedding[0][0]',     \n",
            "                                                                  'q2_token_embedding[0][0]']     \n",
            "                                                                                                  \n",
            " softmax_1 (Softmax)            (None, 33, 33)       0           ['dot[0][0]']                    \n",
            "                                                                                                  \n",
            " softmax (Softmax)              (None, 33, 33)       0           ['dot[0][0]']                    \n",
            "                                                                                                  \n",
            " dot_2 (Dot)                    (None, 33, 300)      0           ['softmax_1[0][0]',              \n",
            "                                                                  'q2_token_embedding[0][0]']     \n",
            "                                                                                                  \n",
            " dot_1 (Dot)                    (None, 33, 300)      0           ['softmax[0][0]',                \n",
            "                                                                  'q1_token_embedding[0][0]']     \n",
            "                                                                                                  \n",
            " bidirectional_2 (Bidirectional  (None, 33, 256)     330240      ['dot_2[0][0]']                  \n",
            " )                                                                                                \n",
            "                                                                                                  \n",
            " bidirectional (Bidirectional)  (None, 33, 256)      330240      ['dot_1[0][0]']                  \n",
            "                                                                                                  \n",
            " bidirectional_3 (Bidirectional  (None, 33, 128)     123648      ['bidirectional_2[0][0]']        \n",
            " )                                                                                                \n",
            "                                                                                                  \n",
            " bidirectional_1 (Bidirectional  (None, 33, 128)     123648      ['bidirectional[0][0]']          \n",
            " )                                                                                                \n",
            "                                                                                                  \n",
            " dot_3 (Dot)                    (None, 33, 33)       0           ['bidirectional_3[0][0]',        \n",
            "                                                                  'bidirectional_1[0][0]']        \n",
            "                                                                                                  \n",
            " softmax_3 (Softmax)            (None, 33, 33)       0           ['dot_3[0][0]']                  \n",
            "                                                                                                  \n",
            " softmax_2 (Softmax)            (None, 33, 33)       0           ['dot_3[0][0]']                  \n",
            "                                                                                                  \n",
            " dot_5 (Dot)                    (None, 33, 128)      0           ['softmax_3[0][0]',              \n",
            "                                                                  'bidirectional_3[0][0]']        \n",
            "                                                                                                  \n",
            " dot_4 (Dot)                    (None, 33, 128)      0           ['softmax_2[0][0]',              \n",
            "                                                                  'bidirectional_1[0][0]']        \n",
            "                                                                                                  \n",
            " concatenate (Concatenate)      (None, 33, 256)      0           ['dot_5[0][0]',                  \n",
            "                                                                  'dot_4[0][0]']                  \n",
            "                                                                                                  \n",
            " bidirectional_4 (Bidirectional  (None, 33, 256)     296448      ['concatenate[0][0]']            \n",
            " )                                                                                                \n",
            "                                                                                                  \n",
            " bidirectional_5 (Bidirectional  (None, 33, 128)     123648      ['bidirectional_4[0][0]']        \n",
            " )                                                                                                \n",
            "                                                                                                  \n",
            " bidirectional_6 (Bidirectional  (None, 128)         74496       ['bidirectional_5[0][0]']        \n",
            " )                                                                                                \n",
            "                                                                                                  \n",
            " dense (Dense)                  (None, 64)           8256        ['bidirectional_6[0][0]']        \n",
            "                                                                                                  \n",
            " dense_1 (Dense)                (None, 1)            65          ['dense[0][0]']                  \n",
            "                                                                                                  \n",
            "==================================================================================================\n",
            "Total params: 35,440,589\n",
            "Trainable params: 1,410,689\n",
            "Non-trainable params: 34,029,900\n",
            "__________________________________________________________________________________________________\n"
          ]
        }
      ],
      "source": [
        "model2.summary()"
      ]
    },
    {
      "cell_type": "code",
      "execution_count": 76,
      "metadata": {
        "colab": {
          "base_uri": "https://localhost:8080/",
          "height": 1000
        },
        "id": "Iv-wEKH8s83U",
        "outputId": "c215b930-f300-4241-d281-b06fe064ee1e"
      },
      "outputs": [
        {
          "output_type": "execute_result",
          "data": {
            "image/png": "[encoded data removed]",
            "text/plain": [
              "<IPython.core.display.Image object>"
            ]
          },
          "metadata": {},
          "execution_count": 76
        }
      ],
      "source": [
        "from tensorflow.keras.utils import plot_model\n",
        "plot_model(model2,show_shapes=True)"
      ]
    },
    {
      "cell_type": "code",
      "execution_count": 77,
      "metadata": {
        "id": "8HLU_Nuls7ak"
      },
      "outputs": [],
      "source": [
        "model2.compile(loss=tf.keras.losses.BinaryCrossentropy(label_smoothing=0.2),\n",
        "               optimizer=tf.keras.optimizers.Adam(learning_rate=0.001),\n",
        "               metrics=['accuracy'])"
      ]
    },
    {
      "cell_type": "code",
      "source": [
        "# Early stopping\n",
        "early_stopping=tf.keras.callbacks.EarlyStopping(monitor='val_loss',patience=3)\n",
        "\n",
        "# Creating learning rate reduction callback\n",
        "reduce_lr = tf.keras.callbacks.ReduceLROnPlateau(monitor=\"val_loss\",  \n",
        "                                                 factor=0.2, # multiply the learning rate by 0.2 (reduce by 5x)\n",
        "                                                 patience=2,\n",
        "                                                 verbose=1, # print when the lr is reduced\n",
        "                                                 min_lr=1e-7)"
      ],
      "metadata": {
        "id": "hVIhcKsagFf4"
      },
      "execution_count": 78,
      "outputs": []
    },
    {
      "cell_type": "code",
      "execution_count": 81,
      "metadata": {
        "colab": {
          "base_uri": "https://localhost:8080/"
        },
        "id": "7mDRoBDdsapq",
        "outputId": "e9adf9b6-47c8-41a6-ac50-d43a96a964cf"
      },
      "outputs": [
        {
          "output_type": "stream",
          "name": "stdout",
          "text": [
            "Epoch 1/10\n",
            "10739/10739 [==============================] - 361s 31ms/step - loss: 0.5628 - accuracy: 0.7607 - val_loss: 0.5434 - val_accuracy: 0.7774 - lr: 0.0010\n",
            "Epoch 2/10\n",
            "10739/10739 [==============================] - 326s 30ms/step - loss: 0.5300 - accuracy: 0.8019 - val_loss: 0.5348 - val_accuracy: 0.7927 - lr: 0.0010\n",
            "Epoch 3/10\n",
            "10739/10739 [==============================] - 326s 30ms/step - loss: 0.5116 - accuracy: 0.8240 - val_loss: 0.5433 - val_accuracy: 0.8001 - lr: 0.0010\n",
            "Epoch 4/10\n",
            "10739/10739 [==============================] - ETA: 0s - loss: 0.4947 - accuracy: 0.8435\n",
            "Epoch 4: ReduceLROnPlateau reducing learning rate to 0.00020000000949949026.\n",
            "10739/10739 [==============================] - 330s 31ms/step - loss: 0.4947 - accuracy: 0.8435 - val_loss: 0.5398 - val_accuracy: 0.8031 - lr: 0.0010\n",
            "Epoch 5/10\n",
            "10739/10739 [==============================] - 328s 31ms/step - loss: 0.4534 - accuracy: 0.8876 - val_loss: 0.5600 - val_accuracy: 0.8107 - lr: 2.0000e-04\n"
          ]
        }
      ],
      "source": [
        "history2=model2.fit(train_token_dataset,\n",
        "                    epochs=10,\n",
        "                    validation_data=val_token_dataset,\n",
        "                    validation_steps=int(0.2*len(val_token_dataset)),\n",
        "                    callbacks=[reduce_lr,early_stopping])"
      ]
    },
    {
      "cell_type": "code",
      "source": [
        "model2.evaluate(val_token_dataset)"
      ],
      "metadata": {
        "id": "KeLvWexMtHdc",
        "outputId": "4da51694-ff1c-4973-a3c1-ab56f12552cd",
        "colab": {
          "base_uri": "https://localhost:8080/"
        }
      },
      "execution_count": 84,
      "outputs": [
        {
          "output_type": "stream",
          "name": "stdout",
          "text": [
            "948/948 [==============================] - 13s 14ms/step - loss: 0.6073 - accuracy: 0.8077\n"
          ]
        },
        {
          "output_type": "execute_result",
          "data": {
            "text/plain": [
              "[0.6073166728019714, 0.8076973557472229]"
            ]
          },
          "metadata": {},
          "execution_count": 84
        }
      ]
    },
    {
      "cell_type": "code",
      "source": [
        "model2.evaluate(test_token_dataset)"
      ],
      "metadata": {
        "id": "hSE5fCbEtJwO",
        "outputId": "f3191a70-6ba0-4b85-aa60-cc25dc965265",
        "colab": {
          "base_uri": "https://localhost:8080/"
        }
      },
      "execution_count": 85,
      "outputs": [
        {
          "output_type": "stream",
          "name": "stdout",
          "text": [
            "948/948 [==============================] - 12s 13ms/step - loss: 0.6059 - accuracy: 0.8080\n"
          ]
        },
        {
          "output_type": "execute_result",
          "data": {
            "text/plain": [
              "[0.605866551399231, 0.8079612255096436]"
            ]
          },
          "metadata": {},
          "execution_count": 85
        }
      ]
    },
    {
      "cell_type": "markdown",
      "metadata": {
        "id": "DRmBGde3Qrin"
      },
      "source": [
        "### Model 3: Token-Char GRUs"
      ]
    },
    {
      "cell_type": "markdown",
      "metadata": {
        "id": "JHpBFKJTN3lX"
      },
      "source": [
        "#### Creating Dataset pipeline"
      ]
    },
    {
      "cell_type": "code",
      "execution_count": null,
      "metadata": {
        "id": "wWWbIJ0MNn9K"
      },
      "outputs": [],
      "source": [
        "train_data=tf.data.Dataset.from_tensor_slices((xtrain['question1'].values,\n",
        "                                               xtrain['question2'].values,\n",
        "                                               xtrain['charq1'].values,\n",
        "                                               xtrain['charq2'].values))\n",
        "train_labels=tf.data.Dataset.from_tensor_slices(ytrain.apply(pd.to_numeric).values)\n",
        "train_dataset=tf.data.Dataset.zip((train_data,train_labels))\n",
        "train_dataset=train_dataset.shuffle(1000).batch(32).prefetch(tf.data.AUTOTUNE)\n",
        "\n",
        "\n",
        "\n",
        "val_data=tf.data.Dataset.from_tensor_slices((xval['question1'].values,\n",
        "                                               xval['question2'].values,\n",
        "                                             xval['charq1'].values,\n",
        "                                             xval['charq2'].values))\n",
        "val_labels=tf.data.Dataset.from_tensor_slices(yval.apply(pd.to_numeric).values)\n",
        "val_dataset=tf.data.Dataset.zip((val_data,val_labels))\n",
        "val_dataset=val_dataset.shuffle(1000).batch(32).prefetch(tf.data.AUTOTUNE)\n",
        "\n",
        "\n",
        "\n",
        "test_data=tf.data.Dataset.from_tensor_slices((xtest['question1'].values,\n",
        "                                               xtest['question2'].values,\n",
        "                                              xtest['charq1'].values,\n",
        "                                              xtest['charq2'].values))\n",
        "test_labels=tf.data.Dataset.from_tensor_slices(ytest.apply(pd.to_numeric).values)\n",
        "test_dataset=tf.data.Dataset.zip((test_data,test_labels))\n",
        "test_dataset=test_dataset.shuffle(1000).batch(32).prefetch(tf.data.AUTOTUNE)"
      ]
    },
    {
      "cell_type": "markdown",
      "metadata": {
        "id": "LdrSN7FCqioY"
      },
      "source": [
        "#### Model"
      ]
    },
    {
      "cell_type": "code",
      "execution_count": null,
      "metadata": {
        "id": "QCSz-xg3Qzct"
      },
      "outputs": [],
      "source": [
        "q1_token_inputs=tf.keras.layers.Input(shape=(),dtype=tf.string)\n",
        "q1_preprocessor=q1_text_vectorizer(q1_token_inputs)\n",
        "q1_embed=q1_embedding(q1_preprocessor)\n",
        "q1_gru1=tf.keras.layers.Bidirectional(tf.keras.layers.GRU(128,activation='tanh',return_sequences=True))(q1_embed)\n",
        "q1_gru2=tf.keras.layers.Bidirectional(tf.keras.layers.GRU(64,activation='tanh',return_sequences=True))(q1_gru1)\n",
        "q1_token_model=tf.keras.Model(q1_token_inputs,q1_gru2)\n",
        "\n",
        "q2_token_inputs=tf.keras.layers.Input(shape=(),dtype=tf.string)\n",
        "q2_preprocessor=q2_text_vectorizer(q2_token_inputs)\n",
        "q2_embed=q2_embedding(q2_preprocessor)\n",
        "q2_gru1=tf.keras.layers.Bidirectional(tf.keras.layers.GRU(128,activation='tanh',return_sequences=True))(q2_embed)\n",
        "q2_gru2=tf.keras.layers.Bidirectional(tf.keras.layers.GRU(64,activation='tanh',return_sequences=True))(q2_gru1)\n",
        "q2_token_model=tf.keras.Model(q2_token_inputs,q2_gru2)\n",
        "\n",
        "\n",
        "q1_char_inputs=tf.keras.layers.Input(shape=(1,),dtype=tf.string)\n",
        "q1_char_preprocessor=char_vectorizer_q1(q1_char_inputs)\n",
        "q1_char_embed=char_embedding_q1(q1_char_preprocessor)\n",
        "q1_char_gru1=tf.keras.layers.Bidirectional(tf.keras.layers.GRU(128,activation='tanh',return_sequences=True))(q1_char_embed)\n",
        "q1_char_gru2=tf.keras.layers.Bidirectional(tf.keras.layers.GRU(64,activation='tanh',return_sequences=True))(q1_char_gru1)\n",
        "q1_char_model=tf.keras.Model(q1_char_inputs,q1_char_gru2)\n",
        "\n",
        "q2_char_inputs=tf.keras.layers.Input(shape=(1,),dtype=tf.string)\n",
        "q2_char_preprocessor=char_vectorizer_q2(q2_char_inputs)\n",
        "q2_char_embed=char_embedding_q2(q2_char_preprocessor)\n",
        "q2_char_gru1=tf.keras.layers.Bidirectional(tf.keras.layers.GRU(128,activation='tanh',return_sequences=True))(q2_char_embed)\n",
        "q2_char_gru2=tf.keras.layers.Bidirectional(tf.keras.layers.GRU(64,activation='tanh',return_sequences=True))(q2_char_gru1)\n",
        "q2_char_model=tf.keras.Model(q2_char_inputs,q2_char_gru2)\n",
        "\n",
        "\n",
        "q1_q2_token_concat=tf.keras.layers.Concatenate()([q1_token_model.output,\n",
        "                               q2_token_model.output])\n",
        "\n",
        "combined_token_gru1=tf.keras.layers.Bidirectional(tf.keras.layers.GRU(128,activation='tanh',return_sequences=True))(q1_q2_token_concat)\n",
        "combined_token_gru2=tf.keras.layers.Bidirectional(tf.keras.layers.GRU(64,activation='tanh',return_sequences=True))(combined_token_gru1)\n",
        "combined_token_gru3=tf.keras.layers.Bidirectional(tf.keras.layers.GRU(64,activation='tanh'))(combined_token_gru2)\n",
        "\n",
        "q1_q2_char_concat=tf.keras.layers.Concatenate()([q1_char_model.output,\n",
        "                               q2_char_model.output])\n",
        "\n",
        "combined_char_gru1=tf.keras.layers.Bidirectional(tf.keras.layers.GRU(128,activation='tanh',return_sequences=True))(q1_q2_char_concat)\n",
        "combined_char_gru2=tf.keras.layers.Bidirectional(tf.keras.layers.GRU(64,activation='tanh',return_sequences=True))(combined_char_gru1)\n",
        "combined_char_gru3=tf.keras.layers.Bidirectional(tf.keras.layers.GRU(64,activation='tanh'))(combined_char_gru2)\n",
        "\n",
        "\n",
        "token_char_concat=tf.keras.layers.Concatenate()([combined_token_gru3,\n",
        "                               combined_char_gru3])\n",
        "\n",
        "\n",
        "combined_dense1=tf.keras.layers.Dense(64,activation='relu')(token_char_concat)\n",
        "output=tf.keras.layers.Dense(1,activation='sigmoid')(combined_dense1)\n",
        "\n",
        "model3=tf.keras.Model(inputs=[q1_token_model.input,q2_token_model.input,q1_char_model.input,q2_char_model.input],\n",
        "                      outputs=output,\n",
        "                      name='Model3')"
      ]
    },
    {
      "cell_type": "code",
      "execution_count": null,
      "metadata": {
        "id": "sIi1Ph1OS6KV"
      },
      "outputs": [],
      "source": [
        "model3.summary()"
      ]
    },
    {
      "cell_type": "code",
      "execution_count": null,
      "metadata": {
        "id": "FRDJO19AVXrB"
      },
      "outputs": [],
      "source": [
        "from tensorflow.keras.utils import plot_model\n",
        "plot_model(model3,show_shapes=True)"
      ]
    },
    {
      "cell_type": "code",
      "execution_count": null,
      "metadata": {
        "colab": {
          "base_uri": "https://localhost:8080/"
        },
        "id": "uLSuY_klVdah",
        "outputId": "97e40b8e-967a-4dfe-a054-33a2f2d51b7a"
      },
      "outputs": [
        {
          "name": "stderr",
          "output_type": "stream",
          "text": [
            "WARNING:absl:`lr` is deprecated, please use `learning_rate` instead, or use the legacy optimizer, e.g.,tf.keras.optimizers.legacy.Adam.\n"
          ]
        }
      ],
      "source": [
        "model3.compile(loss=tf.keras.losses.BinaryCrossentropy(label_smoothing=0.2),\n",
        "               optimizer=tf.keras.optimizers.Adam(lr=0.001),\n",
        "               metrics=['accuracy'])"
      ]
    },
    {
      "cell_type": "code",
      "source": [
        "history3=model3.fit(train_dataset,\n",
        "                    epochs=5,\n",
        "                    validation_data=val_dataset,\n",
        "                    validation_steps=int(0.2*len(val_dataset)))"
      ],
      "metadata": {
        "id": "oe2qoBZhtEsF"
      },
      "execution_count": null,
      "outputs": []
    },
    {
      "cell_type": "code",
      "execution_count": null,
      "metadata": {
        "colab": {
          "base_uri": "https://localhost:8080/"
        },
        "id": "xwyXuOz1V_Wy",
        "outputId": "033d935c-2d8a-441f-d2b1-32ed1bde0c89"
      },
      "outputs": [
        {
          "name": "stdout",
          "output_type": "stream",
          "text": [
            "2843/2843 [==============================] - 60s 21ms/step - loss: 0.5505 - accuracy: 0.7722\n"
          ]
        },
        {
          "data": {
            "text/plain": [
              "[0.550528883934021, 0.7721735835075378]"
            ]
          },
          "execution_count": 119,
          "metadata": {},
          "output_type": "execute_result"
        }
      ],
      "source": [
        "model3.evaluate(val_dataset)"
      ]
    },
    {
      "cell_type": "code",
      "execution_count": null,
      "metadata": {
        "colab": {
          "base_uri": "https://localhost:8080/"
        },
        "id": "_T-WLcHC6RNV",
        "outputId": "a67297be-d73d-4d68-bc39-3b04ca4d7ae9"
      },
      "outputs": [
        {
          "name": "stdout",
          "output_type": "stream",
          "text": [
            "316/316 [==============================] - 21s 65ms/step - loss: 0.5389 - accuracy: 0.8023\n"
          ]
        },
        {
          "data": {
            "text/plain": [
              "[0.5389127135276794, 0.8023347854614258]"
            ]
          },
          "execution_count": 79,
          "metadata": {},
          "output_type": "execute_result"
        }
      ],
      "source": [
        "model3.evaluate(test_dataset)"
      ]
    }
  ],
  "metadata": {
    "colab": {
      "provenance": [],
      "toc_visible": true,
      "gpuType": "T4"
    },
    "kernelspec": {
      "display_name": "Python 3",
      "name": "python3"
    },
    "language_info": {
      "name": "python"
    },
    "accelerator": "GPU"
  },
  "nbformat": 4,
  "nbformat_minor": 0
}